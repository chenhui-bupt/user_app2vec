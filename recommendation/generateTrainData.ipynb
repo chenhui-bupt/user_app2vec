{
 "cells": [
  {
   "cell_type": "code",
   "execution_count": 11,
   "metadata": {
    "collapsed": true
   },
   "outputs": [],
   "source": [
    "import os\n",
    "import sys\n",
    "import pandas as pd\n",
    "import numpy as np\n",
    "import pickle"
   ]
  },
  {
   "cell_type": "code",
   "execution_count": 256,
   "metadata": {},
   "outputs": [
    {
     "data": {
      "text/html": [
       "<div>\n",
       "<style>\n",
       "    .dataframe thead tr:only-child th {\n",
       "        text-align: right;\n",
       "    }\n",
       "\n",
       "    .dataframe thead th {\n",
       "        text-align: left;\n",
       "    }\n",
       "\n",
       "    .dataframe tbody tr th {\n",
       "        vertical-align: top;\n",
       "    }\n",
       "</style>\n",
       "<table border=\"1\" class=\"dataframe\">\n",
       "  <thead>\n",
       "    <tr style=\"text-align: right;\">\n",
       "      <th></th>\n",
       "      <th>id</th>\n",
       "      <th>hour</th>\n",
       "      <th>app</th>\n",
       "      <th>app_cat</th>\n",
       "      <th>times</th>\n",
       "    </tr>\n",
       "  </thead>\n",
       "  <tbody>\n",
       "    <tr>\n",
       "      <th>0</th>\n",
       "      <td>E0A0D252AB03C498807BFA8CEE739FB6</td>\n",
       "      <td>17</td>\n",
       "      <td>微信</td>\n",
       "      <td>通讯聊天</td>\n",
       "      <td>20</td>\n",
       "    </tr>\n",
       "    <tr>\n",
       "      <th>1</th>\n",
       "      <td>FB80F10790E7D793E46918CB0720E91E</td>\n",
       "      <td>10</td>\n",
       "      <td>微信</td>\n",
       "      <td>通讯聊天</td>\n",
       "      <td>2</td>\n",
       "    </tr>\n",
       "    <tr>\n",
       "      <th>2</th>\n",
       "      <td>C876D14B19676A576E84C5D1953CFE9B</td>\n",
       "      <td>19</td>\n",
       "      <td>微信</td>\n",
       "      <td>通讯聊天</td>\n",
       "      <td>280</td>\n",
       "    </tr>\n",
       "    <tr>\n",
       "      <th>3</th>\n",
       "      <td>CCDA8CF84778FE5F15725D1F1BA46F52</td>\n",
       "      <td>15</td>\n",
       "      <td>腾讯视频</td>\n",
       "      <td>视频服务</td>\n",
       "      <td>22</td>\n",
       "    </tr>\n",
       "    <tr>\n",
       "      <th>4</th>\n",
       "      <td>E1A0CF5C94706D3686452D8BBDCC3BC3</td>\n",
       "      <td>7</td>\n",
       "      <td>QQ</td>\n",
       "      <td>通讯聊天</td>\n",
       "      <td>10</td>\n",
       "    </tr>\n",
       "  </tbody>\n",
       "</table>\n",
       "</div>"
      ],
      "text/plain": [
       "                                 id  hour   app app_cat  times\n",
       "0  E0A0D252AB03C498807BFA8CEE739FB6    17    微信    通讯聊天     20\n",
       "1  FB80F10790E7D793E46918CB0720E91E    10    微信    通讯聊天      2\n",
       "2  C876D14B19676A576E84C5D1953CFE9B    19    微信    通讯聊天    280\n",
       "3  CCDA8CF84778FE5F15725D1F1BA46F52    15  腾讯视频    视频服务     22\n",
       "4  E1A0CF5C94706D3686452D8BBDCC3BC3     7    QQ    通讯聊天     10"
      ]
     },
     "execution_count": 256,
     "metadata": {},
     "output_type": "execute_result"
    }
   ],
   "source": [
    "data0117 = pd.read_csv('../datasets/nfp/data0117.csv')\n",
    "data0117.head()"
   ]
  },
  {
   "cell_type": "code",
   "execution_count": 10,
   "metadata": {},
   "outputs": [
    {
     "data": {
      "text/plain": [
       "950284"
      ]
     },
     "execution_count": 10,
     "metadata": {},
     "output_type": "execute_result"
    }
   ],
   "source": [
    "len(data0117)"
   ]
  },
  {
   "cell_type": "code",
   "execution_count": 125,
   "metadata": {},
   "outputs": [
    {
     "data": {
      "text/plain": [
       "id                object\n",
       "hour               int64\n",
       "app               object\n",
       "app_cat           object\n",
       "times              int64\n",
       "installed_apps    object\n",
       "dtype: object"
      ]
     },
     "execution_count": 125,
     "metadata": {},
     "output_type": "execute_result"
    }
   ],
   "source": [
    "data0117.dtypes"
   ]
  },
  {
   "cell_type": "markdown",
   "metadata": {},
   "source": [
    "### 1. 用户的App安装列表"
   ]
  },
  {
   "cell_type": "code",
   "execution_count": 261,
   "metadata": {},
   "outputs": [
    {
     "data": {
      "text/html": [
       "<div>\n",
       "<style>\n",
       "    .dataframe thead tr:only-child th {\n",
       "        text-align: right;\n",
       "    }\n",
       "\n",
       "    .dataframe thead th {\n",
       "        text-align: left;\n",
       "    }\n",
       "\n",
       "    .dataframe tbody tr th {\n",
       "        vertical-align: top;\n",
       "    }\n",
       "</style>\n",
       "<table border=\"1\" class=\"dataframe\">\n",
       "  <thead>\n",
       "    <tr style=\"text-align: right;\">\n",
       "      <th></th>\n",
       "      <th>id</th>\n",
       "      <th>installed_apps</th>\n",
       "    </tr>\n",
       "  </thead>\n",
       "  <tbody>\n",
       "    <tr>\n",
       "      <th>0</th>\n",
       "      <td>B02AD69BFD4A4FEEDFAB6DBB36DCC167</td>\n",
       "      <td>{微信, 百度云, 支付宝, Keep, 开心消消乐, 金山WPS OFFICE手机版, 百...</td>\n",
       "    </tr>\n",
       "    <tr>\n",
       "      <th>1</th>\n",
       "      <td>B02B18790004038B27DDBEB461D2EAD8</td>\n",
       "      <td>{微信, 大众点评网, 腾讯视频, QQ, 贪吃蛇大作战, 百度搜索}</td>\n",
       "    </tr>\n",
       "    <tr>\n",
       "      <th>2</th>\n",
       "      <td>B02B7DD46B57A2374C936C799377A183</td>\n",
       "      <td>{钉钉, 微信, 爱奇艺, 百度搜索}</td>\n",
       "    </tr>\n",
       "    <tr>\n",
       "      <th>3</th>\n",
       "      <td>B02BA3E7E93A7BC84B5669C974FB0FAE</td>\n",
       "      <td>{微信, 携程旅行, 京东商城, 支付宝, 网易云音乐, Keep, 腾讯视频, QQ, 大...</td>\n",
       "    </tr>\n",
       "    <tr>\n",
       "      <th>4</th>\n",
       "      <td>B02BCC791EB79100420BF041BAF31D4F</td>\n",
       "      <td>{微信, 支付宝, 京东商城, Keep, 腾讯视频, 大众点评网, QQ, 开心消消乐, ...</td>\n",
       "    </tr>\n",
       "  </tbody>\n",
       "</table>\n",
       "</div>"
      ],
      "text/plain": [
       "                                 id  \\\n",
       "0  B02AD69BFD4A4FEEDFAB6DBB36DCC167   \n",
       "1  B02B18790004038B27DDBEB461D2EAD8   \n",
       "2  B02B7DD46B57A2374C936C799377A183   \n",
       "3  B02BA3E7E93A7BC84B5669C974FB0FAE   \n",
       "4  B02BCC791EB79100420BF041BAF31D4F   \n",
       "\n",
       "                                      installed_apps  \n",
       "0  {微信, 百度云, 支付宝, Keep, 开心消消乐, 金山WPS OFFICE手机版, 百...  \n",
       "1                {微信, 大众点评网, 腾讯视频, QQ, 贪吃蛇大作战, 百度搜索}  \n",
       "2                                {钉钉, 微信, 爱奇艺, 百度搜索}  \n",
       "3  {微信, 携程旅行, 京东商城, 支付宝, 网易云音乐, Keep, 腾讯视频, QQ, 大...  \n",
       "4  {微信, 支付宝, 京东商城, Keep, 腾讯视频, 大众点评网, QQ, 开心消消乐, ...  "
      ]
     },
     "execution_count": 261,
     "metadata": {},
     "output_type": "execute_result"
    }
   ],
   "source": [
    "installed_apps = data0117.groupby('id', as_index=False)['app'].agg({'installed_apps': lambda x: set(x.tolist())})\n",
    "installed_apps.head()"
   ]
  },
  {
   "cell_type": "code",
   "execution_count": 262,
   "metadata": {},
   "outputs": [
    {
     "name": "stdout",
     "output_type": "stream",
     "text": [
      "25413\n"
     ]
    }
   ],
   "source": [
    "len(installed_apps)"
   ]
  },
  {
   "cell_type": "markdown",
   "metadata": {},
   "source": [
    "---\n",
    "2. 用户当前时刻使用的App列表\n",
    "---\n",
    "这一特征需要对数据进行按用户和时间进行排序，然后取时间偏置merge到一起\n",
    "\n",
    "---"
   ]
  },
  {
   "cell_type": "code",
   "execution_count": 178,
   "metadata": {
    "scrolled": true
   },
   "outputs": [
    {
     "data": {
      "text/html": [
       "<div>\n",
       "<style>\n",
       "    .dataframe thead tr:only-child th {\n",
       "        text-align: right;\n",
       "    }\n",
       "\n",
       "    .dataframe thead th {\n",
       "        text-align: left;\n",
       "    }\n",
       "\n",
       "    .dataframe tbody tr th {\n",
       "        vertical-align: top;\n",
       "    }\n",
       "</style>\n",
       "<table border=\"1\" class=\"dataframe\">\n",
       "  <thead>\n",
       "    <tr style=\"text-align: right;\">\n",
       "      <th></th>\n",
       "      <th>id</th>\n",
       "      <th>hour</th>\n",
       "      <th>positive_apps</th>\n",
       "    </tr>\n",
       "  </thead>\n",
       "  <tbody>\n",
       "    <tr>\n",
       "      <th>0</th>\n",
       "      <td>B02AD69BFD4A4FEEDFAB6DBB36DCC167</td>\n",
       "      <td>6</td>\n",
       "      <td>{百度搜索}</td>\n",
       "    </tr>\n",
       "    <tr>\n",
       "      <th>1</th>\n",
       "      <td>B02AD69BFD4A4FEEDFAB6DBB36DCC167</td>\n",
       "      <td>7</td>\n",
       "      <td>{微信, 支付宝, Keep, 开心消消乐, 百度搜索, 搜狗输入法, 今日头条}</td>\n",
       "    </tr>\n",
       "    <tr>\n",
       "      <th>2</th>\n",
       "      <td>B02AD69BFD4A4FEEDFAB6DBB36DCC167</td>\n",
       "      <td>8</td>\n",
       "      <td>{微信, 支付宝, Keep, 百度搜索, 搜狗输入法, 今日头条}</td>\n",
       "    </tr>\n",
       "    <tr>\n",
       "      <th>3</th>\n",
       "      <td>B02AD69BFD4A4FEEDFAB6DBB36DCC167</td>\n",
       "      <td>9</td>\n",
       "      <td>{微信, 搜狗输入法, 今日头条}</td>\n",
       "    </tr>\n",
       "    <tr>\n",
       "      <th>4</th>\n",
       "      <td>B02AD69BFD4A4FEEDFAB6DBB36DCC167</td>\n",
       "      <td>10</td>\n",
       "      <td>{微信, 搜狗输入法, 今日头条, 支付宝}</td>\n",
       "    </tr>\n",
       "  </tbody>\n",
       "</table>\n",
       "</div>"
      ],
      "text/plain": [
       "                                 id  hour  \\\n",
       "0  B02AD69BFD4A4FEEDFAB6DBB36DCC167     6   \n",
       "1  B02AD69BFD4A4FEEDFAB6DBB36DCC167     7   \n",
       "2  B02AD69BFD4A4FEEDFAB6DBB36DCC167     8   \n",
       "3  B02AD69BFD4A4FEEDFAB6DBB36DCC167     9   \n",
       "4  B02AD69BFD4A4FEEDFAB6DBB36DCC167    10   \n",
       "\n",
       "                               positive_apps  \n",
       "0                                     {百度搜索}  \n",
       "1  {微信, 支付宝, Keep, 开心消消乐, 百度搜索, 搜狗输入法, 今日头条}  \n",
       "2         {微信, 支付宝, Keep, 百度搜索, 搜狗输入法, 今日头条}  \n",
       "3                          {微信, 搜狗输入法, 今日头条}  \n",
       "4                     {微信, 搜狗输入法, 今日头条, 支付宝}  "
      ]
     },
     "execution_count": 178,
     "metadata": {},
     "output_type": "execute_result"
    }
   ],
   "source": [
    "positive_apps = data0117.groupby(['id', 'hour'], as_index=False)['app'].agg({'positive_apps': lambda x: set(x.tolist())})\n",
    "positive_apps.head()"
   ]
  },
  {
   "cell_type": "code",
   "execution_count": 179,
   "metadata": {},
   "outputs": [
    {
     "data": {
      "text/plain": [
       "(1, 19)"
      ]
     },
     "execution_count": 179,
     "metadata": {},
     "output_type": "execute_result"
    }
   ],
   "source": [
    "temp = positive_apps['positive_apps'].apply(lambda x: len(x))\n",
    "min(temp), max(temp)"
   ]
  },
  {
   "cell_type": "code",
   "execution_count": 287,
   "metadata": {},
   "outputs": [
    {
     "name": "stdout",
     "output_type": "stream",
     "text": [
      "55\n"
     ]
    },
    {
     "data": {
      "text/html": [
       "<div>\n",
       "<style>\n",
       "    .dataframe thead tr:only-child th {\n",
       "        text-align: right;\n",
       "    }\n",
       "\n",
       "    .dataframe thead th {\n",
       "        text-align: left;\n",
       "    }\n",
       "\n",
       "    .dataframe tbody tr th {\n",
       "        vertical-align: top;\n",
       "    }\n",
       "</style>\n",
       "<table border=\"1\" class=\"dataframe\">\n",
       "  <thead>\n",
       "    <tr style=\"text-align: right;\">\n",
       "      <th></th>\n",
       "      <th>app</th>\n",
       "      <th>app_cat</th>\n",
       "    </tr>\n",
       "  </thead>\n",
       "  <tbody>\n",
       "    <tr>\n",
       "      <th>0</th>\n",
       "      <td>58同城</td>\n",
       "      <td>便捷生活</td>\n",
       "    </tr>\n",
       "    <tr>\n",
       "      <th>1</th>\n",
       "      <td>Keep</td>\n",
       "      <td>健康医疗</td>\n",
       "    </tr>\n",
       "    <tr>\n",
       "      <th>2</th>\n",
       "      <td>QQ</td>\n",
       "      <td>通讯聊天</td>\n",
       "    </tr>\n",
       "    <tr>\n",
       "      <th>3</th>\n",
       "      <td>QQ空间</td>\n",
       "      <td>社交网络</td>\n",
       "    </tr>\n",
       "    <tr>\n",
       "      <th>4</th>\n",
       "      <td>一号店</td>\n",
       "      <td>电子商务</td>\n",
       "    </tr>\n",
       "  </tbody>\n",
       "</table>\n",
       "</div>"
      ],
      "text/plain": [
       "    app app_cat\n",
       "0  58同城    便捷生活\n",
       "1  Keep    健康医疗\n",
       "2    QQ    通讯聊天\n",
       "3  QQ空间    社交网络\n",
       "4   一号店    电子商务"
      ]
     },
     "execution_count": 287,
     "metadata": {},
     "output_type": "execute_result"
    }
   ],
   "source": [
    "app_cat = data0117.groupby('app', as_index=False).agg({'app_cat': lambda x: ','.join(set(x.tolist()))})\n",
    "print(len(app_cat))\n",
    "app_cat.head()"
   ]
  },
  {
   "cell_type": "markdown",
   "metadata": {},
   "source": [
    "---\n",
    "3. 负采样构建训练集\n",
    "---\n",
    "将用户当前时刻使用过app作为正例，对未使用过的app做负采样\n",
    "\n",
    "---"
   ]
  },
  {
   "cell_type": "code",
   "execution_count": 174,
   "metadata": {},
   "outputs": [
    {
     "data": {
      "text/plain": [
       "(950000, 25158870)"
      ]
     },
     "execution_count": 174,
     "metadata": {},
     "output_type": "execute_result"
    }
   ],
   "source": [
    "950000, 18*25413*55  # 所以要进行负采样"
   ]
  },
  {
   "cell_type": "code",
   "execution_count": 175,
   "metadata": {},
   "outputs": [
    {
     "data": {
      "text/plain": [
       "55"
      ]
     },
     "execution_count": 175,
     "metadata": {},
     "output_type": "execute_result"
    }
   ],
   "source": [
    "applist = list(set(data0117['app']))\n",
    "len(applist)"
   ]
  },
  {
   "cell_type": "code",
   "execution_count": 237,
   "metadata": {
    "collapsed": true
   },
   "outputs": [],
   "source": [
    "import random\n",
    "def neg_sampling(pos_samples, num_samples=5):\n",
    "    num_samples = min(num_samples, len(applist) - len(pos_samples))\n",
    "    neg_samples = []\n",
    "    while len(neg_samples) < num_samples:\n",
    "        sample = random.choice(applist)\n",
    "        if sample in pos_samples or sample in neg_samples:\n",
    "            continue\n",
    "        neg_samples.append(sample)\n",
    "    return neg_samples"
   ]
  },
  {
   "cell_type": "code",
   "execution_count": 238,
   "metadata": {},
   "outputs": [
    {
     "data": {
      "text/plain": [
       "['苏宁', '美柚', '网易新闻', '京东商城', '美颜相机']"
      ]
     },
     "execution_count": 238,
     "metadata": {},
     "output_type": "execute_result"
    }
   ],
   "source": [
    "neg_sampling(set(['微信', '搜狗输入法', '今日头条']))"
   ]
  },
  {
   "cell_type": "code",
   "execution_count": 243,
   "metadata": {},
   "outputs": [
    {
     "data": {
      "text/html": [
       "<div>\n",
       "<style>\n",
       "    .dataframe thead tr:only-child th {\n",
       "        text-align: right;\n",
       "    }\n",
       "\n",
       "    .dataframe thead th {\n",
       "        text-align: left;\n",
       "    }\n",
       "\n",
       "    .dataframe tbody tr th {\n",
       "        vertical-align: top;\n",
       "    }\n",
       "</style>\n",
       "<table border=\"1\" class=\"dataframe\">\n",
       "  <thead>\n",
       "    <tr style=\"text-align: right;\">\n",
       "      <th></th>\n",
       "      <th>id</th>\n",
       "      <th>hour</th>\n",
       "      <th>negative_apps</th>\n",
       "    </tr>\n",
       "  </thead>\n",
       "  <tbody>\n",
       "    <tr>\n",
       "      <th>0</th>\n",
       "      <td>B02AD69BFD4A4FEEDFAB6DBB36DCC167</td>\n",
       "      <td>6</td>\n",
       "      <td>{QQ空间, 一号店, QQ, 开心消消乐, 南方航空}</td>\n",
       "    </tr>\n",
       "    <tr>\n",
       "      <th>1</th>\n",
       "      <td>B02AD69BFD4A4FEEDFAB6DBB36DCC167</td>\n",
       "      <td>7</td>\n",
       "      <td>{美柚, 网易新闻, 中华万年历, 贪吃蛇大作战, 新浪微博}</td>\n",
       "    </tr>\n",
       "    <tr>\n",
       "      <th>2</th>\n",
       "      <td>B02AD69BFD4A4FEEDFAB6DBB36DCC167</td>\n",
       "      <td>8</td>\n",
       "      <td>{柚宝宝孕育, 蘑菇街, 中华万年历, 金山WPS OFFICE手机版, 中国国际航空}</td>\n",
       "    </tr>\n",
       "    <tr>\n",
       "      <th>3</th>\n",
       "      <td>B02AD69BFD4A4FEEDFAB6DBB36DCC167</td>\n",
       "      <td>9</td>\n",
       "      <td>{咕咚运动, 钉钉, 腾讯视频, 美柚, 洋码头}</td>\n",
       "    </tr>\n",
       "    <tr>\n",
       "      <th>4</th>\n",
       "      <td>B02AD69BFD4A4FEEDFAB6DBB36DCC167</td>\n",
       "      <td>10</td>\n",
       "      <td>{百度地图, 海南航空, 饿了么, 蘑菇街, 追书神器}</td>\n",
       "    </tr>\n",
       "  </tbody>\n",
       "</table>\n",
       "</div>"
      ],
      "text/plain": [
       "                                 id  hour  \\\n",
       "0  B02AD69BFD4A4FEEDFAB6DBB36DCC167     6   \n",
       "1  B02AD69BFD4A4FEEDFAB6DBB36DCC167     7   \n",
       "2  B02AD69BFD4A4FEEDFAB6DBB36DCC167     8   \n",
       "3  B02AD69BFD4A4FEEDFAB6DBB36DCC167     9   \n",
       "4  B02AD69BFD4A4FEEDFAB6DBB36DCC167    10   \n",
       "\n",
       "                                  negative_apps  \n",
       "0                  {QQ空间, 一号店, QQ, 开心消消乐, 南方航空}  \n",
       "1               {美柚, 网易新闻, 中华万年历, 贪吃蛇大作战, 新浪微博}  \n",
       "2  {柚宝宝孕育, 蘑菇街, 中华万年历, 金山WPS OFFICE手机版, 中国国际航空}  \n",
       "3                     {咕咚运动, 钉钉, 腾讯视频, 美柚, 洋码头}  \n",
       "4                  {百度地图, 海南航空, 饿了么, 蘑菇街, 追书神器}  "
      ]
     },
     "execution_count": 243,
     "metadata": {},
     "output_type": "execute_result"
    }
   ],
   "source": [
    "negative_apps = positive_apps.copy()\n",
    "negative_apps['negative_apps'] = negative_apps['positive_apps'].apply(lambda x: set(neg_sampling(x)))\n",
    "negative_apps.drop('positive_apps', axis=1, inplace=True)\n",
    "negative_apps.head()"
   ]
  },
  {
   "cell_type": "markdown",
   "metadata": {},
   "source": [
    "# TODO \n",
    "当前负样本是根据某一时刻的正样本产生的，如果当前时刻没有使用手机还要不要产生负样本"
   ]
  },
  {
   "cell_type": "markdown",
   "metadata": {},
   "source": [
    "---\n",
    "4. dataframe文本内容列转行，一行转多行\n",
    "---\n",
    "```python\n",
    "df = pd.DataFrame({'A':['1','2','3'],'B':['1','2,3','4,5,6'],'C':['3','3','3']})\n",
    "df = (df.set_index(['A','C'])['B']\n",
    "       .str.split(',', expand=True)\n",
    "       .stack()\n",
    "       .reset_index(level=2, drop=True)\n",
    "       .reset_index(name='B'))\n",
    "print(df)\n",
    "```\n",
    "\n",
    "---"
   ]
  },
  {
   "cell_type": "code",
   "execution_count": 244,
   "metadata": {
    "scrolled": true
   },
   "outputs": [
    {
     "data": {
      "text/html": [
       "<div>\n",
       "<style>\n",
       "    .dataframe thead tr:only-child th {\n",
       "        text-align: right;\n",
       "    }\n",
       "\n",
       "    .dataframe thead th {\n",
       "        text-align: left;\n",
       "    }\n",
       "\n",
       "    .dataframe tbody tr th {\n",
       "        vertical-align: top;\n",
       "    }\n",
       "</style>\n",
       "<table border=\"1\" class=\"dataframe\">\n",
       "  <thead>\n",
       "    <tr style=\"text-align: right;\">\n",
       "      <th></th>\n",
       "      <th>id</th>\n",
       "      <th>hour</th>\n",
       "      <th>app</th>\n",
       "      <th>click</th>\n",
       "    </tr>\n",
       "  </thead>\n",
       "  <tbody>\n",
       "    <tr>\n",
       "      <th>0</th>\n",
       "      <td>B02AD69BFD4A4FEEDFAB6DBB36DCC167</td>\n",
       "      <td>6</td>\n",
       "      <td>百度搜索</td>\n",
       "      <td>1</td>\n",
       "    </tr>\n",
       "    <tr>\n",
       "      <th>1</th>\n",
       "      <td>B02AD69BFD4A4FEEDFAB6DBB36DCC167</td>\n",
       "      <td>7</td>\n",
       "      <td>微信</td>\n",
       "      <td>1</td>\n",
       "    </tr>\n",
       "    <tr>\n",
       "      <th>2</th>\n",
       "      <td>B02AD69BFD4A4FEEDFAB6DBB36DCC167</td>\n",
       "      <td>7</td>\n",
       "      <td>支付宝</td>\n",
       "      <td>1</td>\n",
       "    </tr>\n",
       "    <tr>\n",
       "      <th>3</th>\n",
       "      <td>B02AD69BFD4A4FEEDFAB6DBB36DCC167</td>\n",
       "      <td>7</td>\n",
       "      <td>Keep</td>\n",
       "      <td>1</td>\n",
       "    </tr>\n",
       "    <tr>\n",
       "      <th>4</th>\n",
       "      <td>B02AD69BFD4A4FEEDFAB6DBB36DCC167</td>\n",
       "      <td>7</td>\n",
       "      <td>开心消消乐</td>\n",
       "      <td>1</td>\n",
       "    </tr>\n",
       "  </tbody>\n",
       "</table>\n",
       "</div>"
      ],
      "text/plain": [
       "                                 id  hour    app  click\n",
       "0  B02AD69BFD4A4FEEDFAB6DBB36DCC167     6   百度搜索      1\n",
       "1  B02AD69BFD4A4FEEDFAB6DBB36DCC167     7     微信      1\n",
       "2  B02AD69BFD4A4FEEDFAB6DBB36DCC167     7    支付宝      1\n",
       "3  B02AD69BFD4A4FEEDFAB6DBB36DCC167     7   Keep      1\n",
       "4  B02AD69BFD4A4FEEDFAB6DBB36DCC167     7  开心消消乐      1"
      ]
     },
     "execution_count": 244,
     "metadata": {},
     "output_type": "execute_result"
    }
   ],
   "source": [
    "pos = positive_apps.set_index(['id','hour'])['positive_apps'].apply(lambda x: ','.join(x)).str.split(',', expand=True)\\\n",
    ".stack().reset_index(level=2, drop=True).reset_index(name='app')\n",
    "pos['click'] = 1\n",
    "pos.head()"
   ]
  },
  {
   "cell_type": "code",
   "execution_count": 252,
   "metadata": {
    "scrolled": true
   },
   "outputs": [
    {
     "data": {
      "text/html": [
       "<div>\n",
       "<style>\n",
       "    .dataframe thead tr:only-child th {\n",
       "        text-align: right;\n",
       "    }\n",
       "\n",
       "    .dataframe thead th {\n",
       "        text-align: left;\n",
       "    }\n",
       "\n",
       "    .dataframe tbody tr th {\n",
       "        vertical-align: top;\n",
       "    }\n",
       "</style>\n",
       "<table border=\"1\" class=\"dataframe\">\n",
       "  <thead>\n",
       "    <tr style=\"text-align: right;\">\n",
       "      <th></th>\n",
       "      <th>id</th>\n",
       "      <th>hour</th>\n",
       "      <th>app</th>\n",
       "      <th>click</th>\n",
       "    </tr>\n",
       "  </thead>\n",
       "  <tbody>\n",
       "    <tr>\n",
       "      <th>0</th>\n",
       "      <td>B02AD69BFD4A4FEEDFAB6DBB36DCC167</td>\n",
       "      <td>6</td>\n",
       "      <td>QQ空间</td>\n",
       "      <td>0</td>\n",
       "    </tr>\n",
       "    <tr>\n",
       "      <th>1</th>\n",
       "      <td>B02AD69BFD4A4FEEDFAB6DBB36DCC167</td>\n",
       "      <td>6</td>\n",
       "      <td>一号店</td>\n",
       "      <td>0</td>\n",
       "    </tr>\n",
       "    <tr>\n",
       "      <th>2</th>\n",
       "      <td>B02AD69BFD4A4FEEDFAB6DBB36DCC167</td>\n",
       "      <td>6</td>\n",
       "      <td>QQ</td>\n",
       "      <td>0</td>\n",
       "    </tr>\n",
       "    <tr>\n",
       "      <th>3</th>\n",
       "      <td>B02AD69BFD4A4FEEDFAB6DBB36DCC167</td>\n",
       "      <td>6</td>\n",
       "      <td>开心消消乐</td>\n",
       "      <td>0</td>\n",
       "    </tr>\n",
       "    <tr>\n",
       "      <th>4</th>\n",
       "      <td>B02AD69BFD4A4FEEDFAB6DBB36DCC167</td>\n",
       "      <td>6</td>\n",
       "      <td>南方航空</td>\n",
       "      <td>0</td>\n",
       "    </tr>\n",
       "    <tr>\n",
       "      <th>5</th>\n",
       "      <td>B02AD69BFD4A4FEEDFAB6DBB36DCC167</td>\n",
       "      <td>7</td>\n",
       "      <td>美柚</td>\n",
       "      <td>0</td>\n",
       "    </tr>\n",
       "    <tr>\n",
       "      <th>6</th>\n",
       "      <td>B02AD69BFD4A4FEEDFAB6DBB36DCC167</td>\n",
       "      <td>7</td>\n",
       "      <td>网易新闻</td>\n",
       "      <td>0</td>\n",
       "    </tr>\n",
       "  </tbody>\n",
       "</table>\n",
       "</div>"
      ],
      "text/plain": [
       "                                 id  hour    app  click\n",
       "0  B02AD69BFD4A4FEEDFAB6DBB36DCC167     6   QQ空间      0\n",
       "1  B02AD69BFD4A4FEEDFAB6DBB36DCC167     6    一号店      0\n",
       "2  B02AD69BFD4A4FEEDFAB6DBB36DCC167     6     QQ      0\n",
       "3  B02AD69BFD4A4FEEDFAB6DBB36DCC167     6  开心消消乐      0\n",
       "4  B02AD69BFD4A4FEEDFAB6DBB36DCC167     6   南方航空      0\n",
       "5  B02AD69BFD4A4FEEDFAB6DBB36DCC167     7     美柚      0\n",
       "6  B02AD69BFD4A4FEEDFAB6DBB36DCC167     7   网易新闻      0"
      ]
     },
     "execution_count": 252,
     "metadata": {},
     "output_type": "execute_result"
    }
   ],
   "source": [
    "neg = negative_apps.set_index(['id','hour'])['negative_apps'].apply(lambda x: ','.join(x)).str.split(',', expand=True)\\\n",
    ".stack().reset_index(level=2, drop=True).reset_index(name='app')\n",
    "neg['click'] = 0\n",
    "neg.head(7)"
   ]
  },
  {
   "cell_type": "code",
   "execution_count": 247,
   "metadata": {},
   "outputs": [
    {
     "data": {
      "text/plain": [
       "(950284, 1485725)"
      ]
     },
     "execution_count": 247,
     "metadata": {},
     "output_type": "execute_result"
    }
   ],
   "source": [
    "len(pos), len(neg)"
   ]
  },
  {
   "cell_type": "code",
   "execution_count": 253,
   "metadata": {},
   "outputs": [
    {
     "data": {
      "text/html": [
       "<div>\n",
       "<style>\n",
       "    .dataframe thead tr:only-child th {\n",
       "        text-align: right;\n",
       "    }\n",
       "\n",
       "    .dataframe thead th {\n",
       "        text-align: left;\n",
       "    }\n",
       "\n",
       "    .dataframe tbody tr th {\n",
       "        vertical-align: top;\n",
       "    }\n",
       "</style>\n",
       "<table border=\"1\" class=\"dataframe\">\n",
       "  <thead>\n",
       "    <tr style=\"text-align: right;\">\n",
       "      <th></th>\n",
       "      <th>id</th>\n",
       "      <th>hour</th>\n",
       "      <th>app</th>\n",
       "      <th>click</th>\n",
       "    </tr>\n",
       "  </thead>\n",
       "  <tbody>\n",
       "    <tr>\n",
       "      <th>0</th>\n",
       "      <td>B02AD69BFD4A4FEEDFAB6DBB36DCC167</td>\n",
       "      <td>6</td>\n",
       "      <td>百度搜索</td>\n",
       "      <td>1</td>\n",
       "    </tr>\n",
       "    <tr>\n",
       "      <th>1</th>\n",
       "      <td>B02AD69BFD4A4FEEDFAB6DBB36DCC167</td>\n",
       "      <td>7</td>\n",
       "      <td>微信</td>\n",
       "      <td>1</td>\n",
       "    </tr>\n",
       "    <tr>\n",
       "      <th>2</th>\n",
       "      <td>B02AD69BFD4A4FEEDFAB6DBB36DCC167</td>\n",
       "      <td>7</td>\n",
       "      <td>支付宝</td>\n",
       "      <td>1</td>\n",
       "    </tr>\n",
       "    <tr>\n",
       "      <th>3</th>\n",
       "      <td>B02AD69BFD4A4FEEDFAB6DBB36DCC167</td>\n",
       "      <td>7</td>\n",
       "      <td>Keep</td>\n",
       "      <td>1</td>\n",
       "    </tr>\n",
       "    <tr>\n",
       "      <th>4</th>\n",
       "      <td>B02AD69BFD4A4FEEDFAB6DBB36DCC167</td>\n",
       "      <td>7</td>\n",
       "      <td>开心消消乐</td>\n",
       "      <td>1</td>\n",
       "    </tr>\n",
       "  </tbody>\n",
       "</table>\n",
       "</div>"
      ],
      "text/plain": [
       "                                 id  hour    app  click\n",
       "0  B02AD69BFD4A4FEEDFAB6DBB36DCC167     6   百度搜索      1\n",
       "1  B02AD69BFD4A4FEEDFAB6DBB36DCC167     7     微信      1\n",
       "2  B02AD69BFD4A4FEEDFAB6DBB36DCC167     7    支付宝      1\n",
       "3  B02AD69BFD4A4FEEDFAB6DBB36DCC167     7   Keep      1\n",
       "4  B02AD69BFD4A4FEEDFAB6DBB36DCC167     7  开心消消乐      1"
      ]
     },
     "execution_count": 253,
     "metadata": {},
     "output_type": "execute_result"
    }
   ],
   "source": [
    "data = pd.concat([pos, neg], axis=0)\n",
    "data.head()"
   ]
  },
  {
   "cell_type": "code",
   "execution_count": 254,
   "metadata": {},
   "outputs": [
    {
     "data": {
      "text/html": [
       "<div>\n",
       "<style>\n",
       "    .dataframe thead tr:only-child th {\n",
       "        text-align: right;\n",
       "    }\n",
       "\n",
       "    .dataframe thead th {\n",
       "        text-align: left;\n",
       "    }\n",
       "\n",
       "    .dataframe tbody tr th {\n",
       "        vertical-align: top;\n",
       "    }\n",
       "</style>\n",
       "<table border=\"1\" class=\"dataframe\">\n",
       "  <thead>\n",
       "    <tr style=\"text-align: right;\">\n",
       "      <th></th>\n",
       "      <th>id</th>\n",
       "      <th>hour</th>\n",
       "      <th>app</th>\n",
       "      <th>click</th>\n",
       "    </tr>\n",
       "  </thead>\n",
       "  <tbody>\n",
       "    <tr>\n",
       "      <th>1485720</th>\n",
       "      <td>FFFF65C708A33E03D2DF17A588444F82</td>\n",
       "      <td>22</td>\n",
       "      <td>支付宝</td>\n",
       "      <td>0</td>\n",
       "    </tr>\n",
       "    <tr>\n",
       "      <th>1485721</th>\n",
       "      <td>FFFF65C708A33E03D2DF17A588444F82</td>\n",
       "      <td>22</td>\n",
       "      <td>去哪儿旅行网</td>\n",
       "      <td>0</td>\n",
       "    </tr>\n",
       "    <tr>\n",
       "      <th>1485722</th>\n",
       "      <td>FFFF65C708A33E03D2DF17A588444F82</td>\n",
       "      <td>22</td>\n",
       "      <td>大智慧</td>\n",
       "      <td>0</td>\n",
       "    </tr>\n",
       "    <tr>\n",
       "      <th>1485723</th>\n",
       "      <td>FFFF65C708A33E03D2DF17A588444F82</td>\n",
       "      <td>22</td>\n",
       "      <td>太平洋汽车</td>\n",
       "      <td>0</td>\n",
       "    </tr>\n",
       "    <tr>\n",
       "      <th>1485724</th>\n",
       "      <td>FFFF65C708A33E03D2DF17A588444F82</td>\n",
       "      <td>22</td>\n",
       "      <td>新浪微博</td>\n",
       "      <td>0</td>\n",
       "    </tr>\n",
       "  </tbody>\n",
       "</table>\n",
       "</div>"
      ],
      "text/plain": [
       "                                       id  hour     app  click\n",
       "1485720  FFFF65C708A33E03D2DF17A588444F82    22     支付宝      0\n",
       "1485721  FFFF65C708A33E03D2DF17A588444F82    22  去哪儿旅行网      0\n",
       "1485722  FFFF65C708A33E03D2DF17A588444F82    22     大智慧      0\n",
       "1485723  FFFF65C708A33E03D2DF17A588444F82    22   太平洋汽车      0\n",
       "1485724  FFFF65C708A33E03D2DF17A588444F82    22    新浪微博      0"
      ]
     },
     "execution_count": 254,
     "metadata": {},
     "output_type": "execute_result"
    }
   ],
   "source": [
    "data.tail()"
   ]
  },
  {
   "cell_type": "code",
   "execution_count": 255,
   "metadata": {},
   "outputs": [
    {
     "data": {
      "text/plain": [
       "2436009"
      ]
     },
     "execution_count": 255,
     "metadata": {},
     "output_type": "execute_result"
    }
   ],
   "source": [
    "len(data)"
   ]
  },
  {
   "cell_type": "markdown",
   "metadata": {},
   "source": [
    "---\n",
    "5. 添加特征\n",
    "---\n",
    "将之前生成用户App安装列表，上一时刻使用的App等特征扩展到数据集中\n",
    "\n",
    "---"
   ]
  },
  {
   "cell_type": "code",
   "execution_count": 264,
   "metadata": {},
   "outputs": [
    {
     "data": {
      "text/html": [
       "<div>\n",
       "<style>\n",
       "    .dataframe thead tr:only-child th {\n",
       "        text-align: right;\n",
       "    }\n",
       "\n",
       "    .dataframe thead th {\n",
       "        text-align: left;\n",
       "    }\n",
       "\n",
       "    .dataframe tbody tr th {\n",
       "        vertical-align: top;\n",
       "    }\n",
       "</style>\n",
       "<table border=\"1\" class=\"dataframe\">\n",
       "  <thead>\n",
       "    <tr style=\"text-align: right;\">\n",
       "      <th></th>\n",
       "      <th>id</th>\n",
       "      <th>installed_apps</th>\n",
       "    </tr>\n",
       "  </thead>\n",
       "  <tbody>\n",
       "    <tr>\n",
       "      <th>0</th>\n",
       "      <td>B02AD69BFD4A4FEEDFAB6DBB36DCC167</td>\n",
       "      <td>9</td>\n",
       "    </tr>\n",
       "    <tr>\n",
       "      <th>1</th>\n",
       "      <td>B02B18790004038B27DDBEB461D2EAD8</td>\n",
       "      <td>6</td>\n",
       "    </tr>\n",
       "    <tr>\n",
       "      <th>2</th>\n",
       "      <td>B02B7DD46B57A2374C936C799377A183</td>\n",
       "      <td>4</td>\n",
       "    </tr>\n",
       "    <tr>\n",
       "      <th>3</th>\n",
       "      <td>B02BA3E7E93A7BC84B5669C974FB0FAE</td>\n",
       "      <td>12</td>\n",
       "    </tr>\n",
       "    <tr>\n",
       "      <th>4</th>\n",
       "      <td>B02BCC791EB79100420BF041BAF31D4F</td>\n",
       "      <td>10</td>\n",
       "    </tr>\n",
       "  </tbody>\n",
       "</table>\n",
       "</div>"
      ],
      "text/plain": [
       "                                 id  installed_apps\n",
       "0  B02AD69BFD4A4FEEDFAB6DBB36DCC167               9\n",
       "1  B02B18790004038B27DDBEB461D2EAD8               6\n",
       "2  B02B7DD46B57A2374C936C799377A183               4\n",
       "3  B02BA3E7E93A7BC84B5669C974FB0FAE              12\n",
       "4  B02BCC791EB79100420BF041BAF31D4F              10"
      ]
     },
     "execution_count": 264,
     "metadata": {},
     "output_type": "execute_result"
    }
   ],
   "source": [
    "temp = installed_apps.copy()\n",
    "temp['installed_apps'] = temp['installed_apps'].apply(lambda x: len(x))\n",
    "temp.head()"
   ]
  },
  {
   "cell_type": "code",
   "execution_count": 265,
   "metadata": {},
   "outputs": [
    {
     "data": {
      "text/html": [
       "<div>\n",
       "<style>\n",
       "    .dataframe thead tr:only-child th {\n",
       "        text-align: right;\n",
       "    }\n",
       "\n",
       "    .dataframe thead th {\n",
       "        text-align: left;\n",
       "    }\n",
       "\n",
       "    .dataframe tbody tr th {\n",
       "        vertical-align: top;\n",
       "    }\n",
       "</style>\n",
       "<table border=\"1\" class=\"dataframe\">\n",
       "  <thead>\n",
       "    <tr style=\"text-align: right;\">\n",
       "      <th></th>\n",
       "      <th>id</th>\n",
       "      <th>hour</th>\n",
       "      <th>app</th>\n",
       "      <th>click</th>\n",
       "      <th>installed_apps</th>\n",
       "    </tr>\n",
       "  </thead>\n",
       "  <tbody>\n",
       "    <tr>\n",
       "      <th>0</th>\n",
       "      <td>B02AD69BFD4A4FEEDFAB6DBB36DCC167</td>\n",
       "      <td>6</td>\n",
       "      <td>百度搜索</td>\n",
       "      <td>1</td>\n",
       "      <td>9</td>\n",
       "    </tr>\n",
       "    <tr>\n",
       "      <th>1</th>\n",
       "      <td>B02AD69BFD4A4FEEDFAB6DBB36DCC167</td>\n",
       "      <td>7</td>\n",
       "      <td>微信</td>\n",
       "      <td>1</td>\n",
       "      <td>9</td>\n",
       "    </tr>\n",
       "    <tr>\n",
       "      <th>2</th>\n",
       "      <td>B02AD69BFD4A4FEEDFAB6DBB36DCC167</td>\n",
       "      <td>7</td>\n",
       "      <td>支付宝</td>\n",
       "      <td>1</td>\n",
       "      <td>9</td>\n",
       "    </tr>\n",
       "    <tr>\n",
       "      <th>3</th>\n",
       "      <td>B02AD69BFD4A4FEEDFAB6DBB36DCC167</td>\n",
       "      <td>7</td>\n",
       "      <td>Keep</td>\n",
       "      <td>1</td>\n",
       "      <td>9</td>\n",
       "    </tr>\n",
       "    <tr>\n",
       "      <th>4</th>\n",
       "      <td>B02AD69BFD4A4FEEDFAB6DBB36DCC167</td>\n",
       "      <td>7</td>\n",
       "      <td>开心消消乐</td>\n",
       "      <td>1</td>\n",
       "      <td>9</td>\n",
       "    </tr>\n",
       "  </tbody>\n",
       "</table>\n",
       "</div>"
      ],
      "text/plain": [
       "                                 id  hour    app  click  installed_apps\n",
       "0  B02AD69BFD4A4FEEDFAB6DBB36DCC167     6   百度搜索      1               9\n",
       "1  B02AD69BFD4A4FEEDFAB6DBB36DCC167     7     微信      1               9\n",
       "2  B02AD69BFD4A4FEEDFAB6DBB36DCC167     7    支付宝      1               9\n",
       "3  B02AD69BFD4A4FEEDFAB6DBB36DCC167     7   Keep      1               9\n",
       "4  B02AD69BFD4A4FEEDFAB6DBB36DCC167     7  开心消消乐      1               9"
      ]
     },
     "execution_count": 265,
     "metadata": {},
     "output_type": "execute_result"
    }
   ],
   "source": [
    "data = pd.merge(data, temp, on=['id'], how='left')\n",
    "data.head()"
   ]
  },
  {
   "cell_type": "code",
   "execution_count": 276,
   "metadata": {},
   "outputs": [
    {
     "data": {
      "text/html": [
       "<div>\n",
       "<style>\n",
       "    .dataframe thead tr:only-child th {\n",
       "        text-align: right;\n",
       "    }\n",
       "\n",
       "    .dataframe thead th {\n",
       "        text-align: left;\n",
       "    }\n",
       "\n",
       "    .dataframe tbody tr th {\n",
       "        vertical-align: top;\n",
       "    }\n",
       "</style>\n",
       "<table border=\"1\" class=\"dataframe\">\n",
       "  <thead>\n",
       "    <tr style=\"text-align: right;\">\n",
       "      <th></th>\n",
       "      <th>id</th>\n",
       "      <th>hour</th>\n",
       "      <th>last_apps</th>\n",
       "    </tr>\n",
       "  </thead>\n",
       "  <tbody>\n",
       "    <tr>\n",
       "      <th>0</th>\n",
       "      <td>B02AD69BFD4A4FEEDFAB6DBB36DCC167</td>\n",
       "      <td>7</td>\n",
       "      <td>1</td>\n",
       "    </tr>\n",
       "    <tr>\n",
       "      <th>1</th>\n",
       "      <td>B02AD69BFD4A4FEEDFAB6DBB36DCC167</td>\n",
       "      <td>8</td>\n",
       "      <td>7</td>\n",
       "    </tr>\n",
       "    <tr>\n",
       "      <th>2</th>\n",
       "      <td>B02AD69BFD4A4FEEDFAB6DBB36DCC167</td>\n",
       "      <td>9</td>\n",
       "      <td>6</td>\n",
       "    </tr>\n",
       "    <tr>\n",
       "      <th>3</th>\n",
       "      <td>B02AD69BFD4A4FEEDFAB6DBB36DCC167</td>\n",
       "      <td>10</td>\n",
       "      <td>3</td>\n",
       "    </tr>\n",
       "    <tr>\n",
       "      <th>4</th>\n",
       "      <td>B02AD69BFD4A4FEEDFAB6DBB36DCC167</td>\n",
       "      <td>11</td>\n",
       "      <td>4</td>\n",
       "    </tr>\n",
       "  </tbody>\n",
       "</table>\n",
       "</div>"
      ],
      "text/plain": [
       "                                 id  hour  last_apps\n",
       "0  B02AD69BFD4A4FEEDFAB6DBB36DCC167     7          1\n",
       "1  B02AD69BFD4A4FEEDFAB6DBB36DCC167     8          7\n",
       "2  B02AD69BFD4A4FEEDFAB6DBB36DCC167     9          6\n",
       "3  B02AD69BFD4A4FEEDFAB6DBB36DCC167    10          3\n",
       "4  B02AD69BFD4A4FEEDFAB6DBB36DCC167    11          4"
      ]
     },
     "execution_count": 276,
     "metadata": {},
     "output_type": "execute_result"
    }
   ],
   "source": [
    "# 上一时刻使用app列表，与原dataframe将来merge到一起\n",
    "temp = positive_apps.copy()\n",
    "temp['hour'] += 1  # 记录上一时刻使用的App列表\n",
    "temp.rename(columns={'positive_apps': 'last_apps'}, inplace=True)\n",
    "temp['last_apps'] = temp['last_apps'].apply(lambda x: len(x))\n",
    "temp.head()"
   ]
  },
  {
   "cell_type": "code",
   "execution_count": 277,
   "metadata": {},
   "outputs": [
    {
     "data": {
      "text/html": [
       "<div>\n",
       "<style>\n",
       "    .dataframe thead tr:only-child th {\n",
       "        text-align: right;\n",
       "    }\n",
       "\n",
       "    .dataframe thead th {\n",
       "        text-align: left;\n",
       "    }\n",
       "\n",
       "    .dataframe tbody tr th {\n",
       "        vertical-align: top;\n",
       "    }\n",
       "</style>\n",
       "<table border=\"1\" class=\"dataframe\">\n",
       "  <thead>\n",
       "    <tr style=\"text-align: right;\">\n",
       "      <th></th>\n",
       "      <th>id</th>\n",
       "      <th>hour</th>\n",
       "      <th>app</th>\n",
       "      <th>click</th>\n",
       "      <th>installed_apps</th>\n",
       "      <th>positive_apps</th>\n",
       "      <th>last_apps</th>\n",
       "    </tr>\n",
       "  </thead>\n",
       "  <tbody>\n",
       "    <tr>\n",
       "      <th>0</th>\n",
       "      <td>B02AD69BFD4A4FEEDFAB6DBB36DCC167</td>\n",
       "      <td>6</td>\n",
       "      <td>百度搜索</td>\n",
       "      <td>1</td>\n",
       "      <td>9</td>\n",
       "      <td>NaN</td>\n",
       "      <td>NaN</td>\n",
       "    </tr>\n",
       "    <tr>\n",
       "      <th>1</th>\n",
       "      <td>B02AD69BFD4A4FEEDFAB6DBB36DCC167</td>\n",
       "      <td>7</td>\n",
       "      <td>微信</td>\n",
       "      <td>1</td>\n",
       "      <td>9</td>\n",
       "      <td>1.0</td>\n",
       "      <td>1.0</td>\n",
       "    </tr>\n",
       "    <tr>\n",
       "      <th>2</th>\n",
       "      <td>B02AD69BFD4A4FEEDFAB6DBB36DCC167</td>\n",
       "      <td>7</td>\n",
       "      <td>支付宝</td>\n",
       "      <td>1</td>\n",
       "      <td>9</td>\n",
       "      <td>1.0</td>\n",
       "      <td>1.0</td>\n",
       "    </tr>\n",
       "    <tr>\n",
       "      <th>3</th>\n",
       "      <td>B02AD69BFD4A4FEEDFAB6DBB36DCC167</td>\n",
       "      <td>7</td>\n",
       "      <td>Keep</td>\n",
       "      <td>1</td>\n",
       "      <td>9</td>\n",
       "      <td>1.0</td>\n",
       "      <td>1.0</td>\n",
       "    </tr>\n",
       "    <tr>\n",
       "      <th>4</th>\n",
       "      <td>B02AD69BFD4A4FEEDFAB6DBB36DCC167</td>\n",
       "      <td>7</td>\n",
       "      <td>开心消消乐</td>\n",
       "      <td>1</td>\n",
       "      <td>9</td>\n",
       "      <td>1.0</td>\n",
       "      <td>1.0</td>\n",
       "    </tr>\n",
       "  </tbody>\n",
       "</table>\n",
       "</div>"
      ],
      "text/plain": [
       "                                 id  hour    app  click  installed_apps  \\\n",
       "0  B02AD69BFD4A4FEEDFAB6DBB36DCC167     6   百度搜索      1               9   \n",
       "1  B02AD69BFD4A4FEEDFAB6DBB36DCC167     7     微信      1               9   \n",
       "2  B02AD69BFD4A4FEEDFAB6DBB36DCC167     7    支付宝      1               9   \n",
       "3  B02AD69BFD4A4FEEDFAB6DBB36DCC167     7   Keep      1               9   \n",
       "4  B02AD69BFD4A4FEEDFAB6DBB36DCC167     7  开心消消乐      1               9   \n",
       "\n",
       "   positive_apps  last_apps  \n",
       "0            NaN        NaN  \n",
       "1            1.0        1.0  \n",
       "2            1.0        1.0  \n",
       "3            1.0        1.0  \n",
       "4            1.0        1.0  "
      ]
     },
     "execution_count": 277,
     "metadata": {},
     "output_type": "execute_result"
    }
   ],
   "source": [
    "data = pd.merge(data, temp, on=['id', 'hour'], how='left')\n",
    "data.head()"
   ]
  },
  {
   "cell_type": "code",
   "execution_count": 281,
   "metadata": {},
   "outputs": [
    {
     "data": {
      "text/html": [
       "<div>\n",
       "<style>\n",
       "    .dataframe thead tr:only-child th {\n",
       "        text-align: right;\n",
       "    }\n",
       "\n",
       "    .dataframe thead th {\n",
       "        text-align: left;\n",
       "    }\n",
       "\n",
       "    .dataframe tbody tr th {\n",
       "        vertical-align: top;\n",
       "    }\n",
       "</style>\n",
       "<table border=\"1\" class=\"dataframe\">\n",
       "  <thead>\n",
       "    <tr style=\"text-align: right;\">\n",
       "      <th></th>\n",
       "      <th>id</th>\n",
       "      <th>hour</th>\n",
       "      <th>app</th>\n",
       "      <th>click</th>\n",
       "      <th>installed_apps</th>\n",
       "      <th>last_apps</th>\n",
       "    </tr>\n",
       "  </thead>\n",
       "  <tbody>\n",
       "    <tr>\n",
       "      <th>0</th>\n",
       "      <td>B02AD69BFD4A4FEEDFAB6DBB36DCC167</td>\n",
       "      <td>6</td>\n",
       "      <td>百度搜索</td>\n",
       "      <td>1</td>\n",
       "      <td>9</td>\n",
       "      <td>0.0</td>\n",
       "    </tr>\n",
       "    <tr>\n",
       "      <th>1</th>\n",
       "      <td>B02AD69BFD4A4FEEDFAB6DBB36DCC167</td>\n",
       "      <td>7</td>\n",
       "      <td>微信</td>\n",
       "      <td>1</td>\n",
       "      <td>9</td>\n",
       "      <td>1.0</td>\n",
       "    </tr>\n",
       "    <tr>\n",
       "      <th>2</th>\n",
       "      <td>B02AD69BFD4A4FEEDFAB6DBB36DCC167</td>\n",
       "      <td>7</td>\n",
       "      <td>支付宝</td>\n",
       "      <td>1</td>\n",
       "      <td>9</td>\n",
       "      <td>1.0</td>\n",
       "    </tr>\n",
       "    <tr>\n",
       "      <th>3</th>\n",
       "      <td>B02AD69BFD4A4FEEDFAB6DBB36DCC167</td>\n",
       "      <td>7</td>\n",
       "      <td>Keep</td>\n",
       "      <td>1</td>\n",
       "      <td>9</td>\n",
       "      <td>1.0</td>\n",
       "    </tr>\n",
       "    <tr>\n",
       "      <th>4</th>\n",
       "      <td>B02AD69BFD4A4FEEDFAB6DBB36DCC167</td>\n",
       "      <td>7</td>\n",
       "      <td>开心消消乐</td>\n",
       "      <td>1</td>\n",
       "      <td>9</td>\n",
       "      <td>1.0</td>\n",
       "    </tr>\n",
       "  </tbody>\n",
       "</table>\n",
       "</div>"
      ],
      "text/plain": [
       "                                 id  hour    app  click  installed_apps  \\\n",
       "0  B02AD69BFD4A4FEEDFAB6DBB36DCC167     6   百度搜索      1               9   \n",
       "1  B02AD69BFD4A4FEEDFAB6DBB36DCC167     7     微信      1               9   \n",
       "2  B02AD69BFD4A4FEEDFAB6DBB36DCC167     7    支付宝      1               9   \n",
       "3  B02AD69BFD4A4FEEDFAB6DBB36DCC167     7   Keep      1               9   \n",
       "4  B02AD69BFD4A4FEEDFAB6DBB36DCC167     7  开心消消乐      1               9   \n",
       "\n",
       "   last_apps  \n",
       "0        0.0  \n",
       "1        1.0  \n",
       "2        1.0  \n",
       "3        1.0  \n",
       "4        1.0  "
      ]
     },
     "execution_count": 281,
     "metadata": {},
     "output_type": "execute_result"
    }
   ],
   "source": [
    "data.fillna(0, inplace=True)\n",
    "data.head()"
   ]
  },
  {
   "cell_type": "code",
   "execution_count": 288,
   "metadata": {},
   "outputs": [
    {
     "data": {
      "text/html": [
       "<div>\n",
       "<style>\n",
       "    .dataframe thead tr:only-child th {\n",
       "        text-align: right;\n",
       "    }\n",
       "\n",
       "    .dataframe thead th {\n",
       "        text-align: left;\n",
       "    }\n",
       "\n",
       "    .dataframe tbody tr th {\n",
       "        vertical-align: top;\n",
       "    }\n",
       "</style>\n",
       "<table border=\"1\" class=\"dataframe\">\n",
       "  <thead>\n",
       "    <tr style=\"text-align: right;\">\n",
       "      <th></th>\n",
       "      <th>id</th>\n",
       "      <th>hour</th>\n",
       "      <th>app</th>\n",
       "      <th>click</th>\n",
       "      <th>installed_apps</th>\n",
       "      <th>last_apps</th>\n",
       "      <th>app_cat</th>\n",
       "    </tr>\n",
       "  </thead>\n",
       "  <tbody>\n",
       "    <tr>\n",
       "      <th>0</th>\n",
       "      <td>B02AD69BFD4A4FEEDFAB6DBB36DCC167</td>\n",
       "      <td>6</td>\n",
       "      <td>百度搜索</td>\n",
       "      <td>1</td>\n",
       "      <td>9</td>\n",
       "      <td>0.0</td>\n",
       "      <td>实用工具</td>\n",
       "    </tr>\n",
       "    <tr>\n",
       "      <th>1</th>\n",
       "      <td>B02AD69BFD4A4FEEDFAB6DBB36DCC167</td>\n",
       "      <td>7</td>\n",
       "      <td>微信</td>\n",
       "      <td>1</td>\n",
       "      <td>9</td>\n",
       "      <td>1.0</td>\n",
       "      <td>通讯聊天</td>\n",
       "    </tr>\n",
       "    <tr>\n",
       "      <th>2</th>\n",
       "      <td>B02AD69BFD4A4FEEDFAB6DBB36DCC167</td>\n",
       "      <td>7</td>\n",
       "      <td>支付宝</td>\n",
       "      <td>1</td>\n",
       "      <td>9</td>\n",
       "      <td>1.0</td>\n",
       "      <td>金融理财</td>\n",
       "    </tr>\n",
       "    <tr>\n",
       "      <th>3</th>\n",
       "      <td>B02AD69BFD4A4FEEDFAB6DBB36DCC167</td>\n",
       "      <td>7</td>\n",
       "      <td>Keep</td>\n",
       "      <td>1</td>\n",
       "      <td>9</td>\n",
       "      <td>1.0</td>\n",
       "      <td>健康医疗</td>\n",
       "    </tr>\n",
       "    <tr>\n",
       "      <th>4</th>\n",
       "      <td>B02AD69BFD4A4FEEDFAB6DBB36DCC167</td>\n",
       "      <td>7</td>\n",
       "      <td>开心消消乐</td>\n",
       "      <td>1</td>\n",
       "      <td>9</td>\n",
       "      <td>1.0</td>\n",
       "      <td>游戏服务</td>\n",
       "    </tr>\n",
       "  </tbody>\n",
       "</table>\n",
       "</div>"
      ],
      "text/plain": [
       "                                 id  hour    app  click  installed_apps  \\\n",
       "0  B02AD69BFD4A4FEEDFAB6DBB36DCC167     6   百度搜索      1               9   \n",
       "1  B02AD69BFD4A4FEEDFAB6DBB36DCC167     7     微信      1               9   \n",
       "2  B02AD69BFD4A4FEEDFAB6DBB36DCC167     7    支付宝      1               9   \n",
       "3  B02AD69BFD4A4FEEDFAB6DBB36DCC167     7   Keep      1               9   \n",
       "4  B02AD69BFD4A4FEEDFAB6DBB36DCC167     7  开心消消乐      1               9   \n",
       "\n",
       "   last_apps app_cat  \n",
       "0        0.0    实用工具  \n",
       "1        1.0    通讯聊天  \n",
       "2        1.0    金融理财  \n",
       "3        1.0    健康医疗  \n",
       "4        1.0    游戏服务  "
      ]
     },
     "execution_count": 288,
     "metadata": {},
     "output_type": "execute_result"
    }
   ],
   "source": [
    "data = pd.merge(data, app_cat, on=['app'], how='left')\n",
    "data.head()"
   ]
  },
  {
   "cell_type": "code",
   "execution_count": 290,
   "metadata": {},
   "outputs": [
    {
     "data": {
      "text/plain": [
       "(0, 25433)"
      ]
     },
     "execution_count": 290,
     "metadata": {},
     "output_type": "execute_result"
    }
   ],
   "source": [
    "node2id['B02AD69BFD4A4FEEDFAB6DBB36DCC167'], node2id['微信']"
   ]
  },
  {
   "cell_type": "markdown",
   "metadata": {},
   "source": [
    "---\n",
    "6.添加graph embedding特征\n",
    "---\n",
    "该特征是通过对User-App网络进行网络表示学习得到节点的embedding表示，不仅包含低维稠密的信息，更包含节点之间的语义信息\n",
    "\n",
    "---"
   ]
  },
  {
   "cell_type": "code",
   "execution_count": 291,
   "metadata": {},
   "outputs": [
    {
     "data": {
      "text/plain": [
       "25468"
      ]
     },
     "execution_count": 291,
     "metadata": {},
     "output_type": "execute_result"
    }
   ],
   "source": [
    "node2id = pickle.load(open('./node2id.pkl', 'rb'))\n",
    "len(node2id)"
   ]
  },
  {
   "cell_type": "code",
   "execution_count": 295,
   "metadata": {
    "collapsed": true
   },
   "outputs": [],
   "source": [
    "def hadamard(vec1, vec2):\n",
    "    return list(map(lambda x: x[0]*x[1], zip(vec1, vec2)))"
   ]
  },
  {
   "cell_type": "code",
   "execution_count": 293,
   "metadata": {
    "collapsed": true
   },
   "outputs": [],
   "source": [
    "def get_embeddings(file_name):\n",
    "    embeddings_dict = {}\n",
    "    embeddings_file = os.path.join(\"/Users/chenhui/fsdownload/user_app\", file_name)\n",
    "    with open(embeddings_file, 'r') as f:\n",
    "        num_nodes, emb_size = list(map(int, f.readline().strip().split()))\n",
    "        print(num_nodes, emb_size)\n",
    "        for i in range(num_nodes):\n",
    "            line = list(map(float, f.readline().strip().split()))\n",
    "            embeddings_dict[line[0]] = line[1:]\n",
    "    return embeddings_dict"
   ]
  },
  {
   "cell_type": "code",
   "execution_count": 296,
   "metadata": {},
   "outputs": [
    {
     "name": "stdout",
     "output_type": "stream",
     "text": [
      "25468 128\n"
     ]
    }
   ],
   "source": [
    "embeddings = get_embeddings('user_app0117.embeddings')"
   ]
  },
  {
   "cell_type": "code",
   "execution_count": 298,
   "metadata": {
    "collapsed": true
   },
   "outputs": [
    {
     "data": {
      "text/plain": [
       "[0.00547985938768246,\n",
       " 0.08373862471515771,\n",
       " 0.0081825954678621,\n",
       " 0.02133262384388,\n",
       " 0.010413039525126,\n",
       " 4.45402708464813e-05,\n",
       " 0.0013803316024664398,\n",
       " -0.00029128177872351596,\n",
       " 0.0006449705735577931,\n",
       " -0.004441708427,\n",
       " -0.011481535397941,\n",
       " 0.0201514202245125,\n",
       " 0.0021068330482201204,\n",
       " -0.0036660780152397696,\n",
       " -0.00472219062326581,\n",
       " 0.00465142562418688,\n",
       " 0.0166023902956265,\n",
       " -0.009229382901456,\n",
       " 0.0014234747308017601,\n",
       " 0.0362908186130871,\n",
       " -0.008459967581522461,\n",
       " 0.0090443487200418,\n",
       " 0.0027976032952724697,\n",
       " 0.017538177499626,\n",
       " 0.0024467861676866097,\n",
       " 0.049183265648834,\n",
       " -0.00451394536758224,\n",
       " 0.0063135516659559,\n",
       " 0.005049091436492999,\n",
       " 0.0004921299257190401,\n",
       " 0.0018871195055477398,\n",
       " 0.000513286643622082,\n",
       " 0.00186529558777864,\n",
       " -0.001074308423321588,\n",
       " 0.00921637968394352,\n",
       " 0.00073164137754246,\n",
       " -0.0012919357864508302,\n",
       " -0.0034681163169911398,\n",
       " -0.013759772096600039,\n",
       " 0.00350278641350145,\n",
       " 0.000443601911097,\n",
       " -0.0175489555458028,\n",
       " 0.00729503111558574,\n",
       " -0.018615899576826002,\n",
       " 0.0187350259001868,\n",
       " 0.00543436759795464,\n",
       " 0.00063092706382536,\n",
       " 0.000855369771131088,\n",
       " -0.00318613534525736,\n",
       " 0.00993676300068045,\n",
       " 0.0066507932943156,\n",
       " 0.00036793393949000004,\n",
       " -0.0066777042088283995,\n",
       " 0.007067529766354479,\n",
       " 0.00245546318680467,\n",
       " -0.00125161646110424,\n",
       " 0.00289652796009576,\n",
       " -0.001137455325736274,\n",
       " 0.001039668505215076,\n",
       " -3.2310362565037e-06,\n",
       " 0.0174412523007688,\n",
       " -0.00163843189944813,\n",
       " -0.027572264236860402,\n",
       " 0.0098938054326464,\n",
       " -0.00969025174488659,\n",
       " -0.00555048856130431,\n",
       " 0.0032385236974755505,\n",
       " -0.0018077924839585,\n",
       " 0.0089309665051867,\n",
       " 0.0128985000226075,\n",
       " -0.01224352175067675,\n",
       " -4.6416981879433e-05,\n",
       " -0.0045929336328576,\n",
       " 0.005864343329560679,\n",
       " 0.0135230909115456,\n",
       " -0.00579749161426812,\n",
       " -0.0057089335949151,\n",
       " -0.00041830321259166007,\n",
       " 0.0293891155036148,\n",
       " 0.001408091906071668,\n",
       " -0.0026400266042723997,\n",
       " 0.001124690948755239,\n",
       " 0.0021651943174960005,\n",
       " -0.000890801884311192,\n",
       " 0.005909078875661521,\n",
       " 0.004496512963150079,\n",
       " 0.0263960902505139,\n",
       " -0.012921955143699999,\n",
       " 0.0026474388088118597,\n",
       " -0.000571656627132912,\n",
       " 0.0160358254518605,\n",
       " -0.00442487399423355,\n",
       " -0.0017084661579284,\n",
       " 0.000864424549566468,\n",
       " -0.0001567928987323728,\n",
       " 0.00447510289305324,\n",
       " -0.026490809040643198,\n",
       " -0.00407023570106244,\n",
       " -0.00038142462337572154,\n",
       " 0.00126325066824768,\n",
       " 0.0004892159308083551,\n",
       " -0.00382549874317305,\n",
       " -0.0017640951689679501,\n",
       " -0.009563259672762002,\n",
       " 0.0003899186692989,\n",
       " -0.0002478243297586,\n",
       " 0.013856130415691201,\n",
       " -0.0012065965028502,\n",
       " -0.014151614292816,\n",
       " -0.004183292069814001,\n",
       " 0.0048995439601094,\n",
       " 0.000321732702139992,\n",
       " 0.032352462572943,\n",
       " 0.019927084717109498,\n",
       " 0.00079062237892755,\n",
       " -0.001832641047801545,\n",
       " 0.006610423381662099,\n",
       " -0.00145427255617807,\n",
       " 0.05624127880245,\n",
       " 0.0050387043105246,\n",
       " 0.0174908688997336,\n",
       " -0.000772765778317736,\n",
       " -0.00125468678113906,\n",
       " 0.0141222844821219,\n",
       " 0.0001524598415045692,\n",
       " 0.0066193911949005,\n",
       " -7.976739848230561e-05,\n",
       " -0.00406664138263268]"
      ]
     },
     "execution_count": 298,
     "metadata": {},
     "output_type": "execute_result"
    }
   ],
   "source": [
    "userid = node2id['B02AD69BFD4A4FEEDFAB6DBB36DCC167']\n",
    "appid = node2id['微信']\n",
    "hadamard(embeddings[userid], embeddings[appid])"
   ]
  },
  {
   "cell_type": "code",
   "execution_count": 294,
   "metadata": {},
   "outputs": [
    {
     "data": {
      "text/plain": [
       "Index(['id', 'hour', 'app', 'click', 'installed_apps', 'last_apps', 'app_cat'], dtype='object')"
      ]
     },
     "execution_count": 294,
     "metadata": {},
     "output_type": "execute_result"
    }
   ],
   "source": [
    "data.columns"
   ]
  },
  {
   "cell_type": "code",
   "execution_count": 317,
   "metadata": {},
   "outputs": [
    {
     "data": {
      "text/html": [
       "<div>\n",
       "<style>\n",
       "    .dataframe thead tr:only-child th {\n",
       "        text-align: right;\n",
       "    }\n",
       "\n",
       "    .dataframe thead th {\n",
       "        text-align: left;\n",
       "    }\n",
       "\n",
       "    .dataframe tbody tr th {\n",
       "        vertical-align: top;\n",
       "    }\n",
       "</style>\n",
       "<table border=\"1\" class=\"dataframe\">\n",
       "  <thead>\n",
       "    <tr style=\"text-align: right;\">\n",
       "      <th></th>\n",
       "      <th>id</th>\n",
       "      <th>app</th>\n",
       "    </tr>\n",
       "  </thead>\n",
       "  <tbody>\n",
       "    <tr>\n",
       "      <th>0</th>\n",
       "      <td>B02AD69BFD4A4FEEDFAB6DBB36DCC167</td>\n",
       "      <td>百度搜索</td>\n",
       "    </tr>\n",
       "    <tr>\n",
       "      <th>1</th>\n",
       "      <td>B02AD69BFD4A4FEEDFAB6DBB36DCC167</td>\n",
       "      <td>微信</td>\n",
       "    </tr>\n",
       "    <tr>\n",
       "      <th>2</th>\n",
       "      <td>B02AD69BFD4A4FEEDFAB6DBB36DCC167</td>\n",
       "      <td>支付宝</td>\n",
       "    </tr>\n",
       "    <tr>\n",
       "      <th>3</th>\n",
       "      <td>B02AD69BFD4A4FEEDFAB6DBB36DCC167</td>\n",
       "      <td>Keep</td>\n",
       "    </tr>\n",
       "    <tr>\n",
       "      <th>4</th>\n",
       "      <td>B02AD69BFD4A4FEEDFAB6DBB36DCC167</td>\n",
       "      <td>开心消消乐</td>\n",
       "    </tr>\n",
       "  </tbody>\n",
       "</table>\n",
       "</div>"
      ],
      "text/plain": [
       "                                 id    app\n",
       "0  B02AD69BFD4A4FEEDFAB6DBB36DCC167   百度搜索\n",
       "1  B02AD69BFD4A4FEEDFAB6DBB36DCC167     微信\n",
       "2  B02AD69BFD4A4FEEDFAB6DBB36DCC167    支付宝\n",
       "3  B02AD69BFD4A4FEEDFAB6DBB36DCC167   Keep\n",
       "4  B02AD69BFD4A4FEEDFAB6DBB36DCC167  开心消消乐"
      ]
     },
     "execution_count": 317,
     "metadata": {},
     "output_type": "execute_result"
    }
   ],
   "source": [
    "user_apps = data.loc[:, ['id', 'app']].drop_duplicates()\n",
    "user_apps.head()"
   ]
  },
  {
   "cell_type": "code",
   "execution_count": 308,
   "metadata": {},
   "outputs": [
    {
     "data": {
      "text/plain": [
       "959677"
      ]
     },
     "execution_count": 308,
     "metadata": {},
     "output_type": "execute_result"
    }
   ],
   "source": [
    "len(temp)"
   ]
  },
  {
   "cell_type": "code",
   "execution_count": 310,
   "metadata": {},
   "outputs": [],
   "source": [
    "temp = user_apps.apply(lambda row: hadamard(embeddings[node2id[row['id']]], embeddings[node2id[row['app']]]), axis=1)"
   ]
  },
  {
   "cell_type": "code",
   "execution_count": 315,
   "metadata": {
    "collapsed": true
   },
   "outputs": [],
   "source": [
    "temp = user_apps['graph_emb'].apply(lambda col: ','.join(map(str, col)))"
   ]
  },
  {
   "cell_type": "code",
   "execution_count": 316,
   "metadata": {},
   "outputs": [
    {
     "data": {
      "text/plain": [
       "0    -0.0051594073935908,0.0666825147279899,0.01853...\n",
       "1    0.00547985938768246,0.08373862471515771,0.0081...\n",
       "2    -0.0058435140981085995,0.1172621817009695,-0.0...\n",
       "3    -0.0454774110441126,0.12108299415182061,-0.015...\n",
       "4    0.00423594427914244,-0.02816071338299894,0.027...\n",
       "Name: graph_emb, dtype: object"
      ]
     },
     "execution_count": 316,
     "metadata": {},
     "output_type": "execute_result"
    }
   ],
   "source": [
    "temp.head()"
   ]
  },
  {
   "cell_type": "code",
   "execution_count": 320,
   "metadata": {
    "scrolled": true
   },
   "outputs": [
    {
     "data": {
      "text/html": [
       "<div>\n",
       "<style>\n",
       "    .dataframe thead tr:only-child th {\n",
       "        text-align: right;\n",
       "    }\n",
       "\n",
       "    .dataframe thead th {\n",
       "        text-align: left;\n",
       "    }\n",
       "\n",
       "    .dataframe tbody tr th {\n",
       "        vertical-align: top;\n",
       "    }\n",
       "</style>\n",
       "<table border=\"1\" class=\"dataframe\">\n",
       "  <thead>\n",
       "    <tr style=\"text-align: right;\">\n",
       "      <th></th>\n",
       "      <th>emb_0</th>\n",
       "      <th>emb_1</th>\n",
       "      <th>emb_2</th>\n",
       "      <th>emb_3</th>\n",
       "      <th>emb_4</th>\n",
       "      <th>emb_5</th>\n",
       "      <th>emb_6</th>\n",
       "      <th>emb_7</th>\n",
       "      <th>emb_8</th>\n",
       "      <th>emb_9</th>\n",
       "      <th>...</th>\n",
       "      <th>emb_118</th>\n",
       "      <th>emb_119</th>\n",
       "      <th>emb_120</th>\n",
       "      <th>emb_121</th>\n",
       "      <th>emb_122</th>\n",
       "      <th>emb_123</th>\n",
       "      <th>emb_124</th>\n",
       "      <th>emb_125</th>\n",
       "      <th>emb_126</th>\n",
       "      <th>emb_127</th>\n",
       "    </tr>\n",
       "  </thead>\n",
       "  <tbody>\n",
       "    <tr>\n",
       "      <th>0</th>\n",
       "      <td>-0.0051594073935908</td>\n",
       "      <td>0.0666825147279899</td>\n",
       "      <td>0.018539364552579</td>\n",
       "      <td>0.0114876858774192</td>\n",
       "      <td>0.006336184095452399</td>\n",
       "      <td>-0.005988185346273221</td>\n",
       "      <td>0.008823505582190999</td>\n",
       "      <td>-0.0009744207487502401</td>\n",
       "      <td>0.00275967084127734</td>\n",
       "      <td>0.001258217567854</td>\n",
       "      <td>...</td>\n",
       "      <td>0.053269274503195504</td>\n",
       "      <td>0.0053896737044286</td>\n",
       "      <td>-0.018579164025534</td>\n",
       "      <td>-0.00277981162437032</td>\n",
       "      <td>-0.000163717133677688</td>\n",
       "      <td>0.023285327806744922</td>\n",
       "      <td>-0.00049816619704834</td>\n",
       "      <td>0.0072735408459075005</td>\n",
       "      <td>-2.95532105771628e-05</td>\n",
       "      <td>-0.005862502867530559</td>\n",
       "    </tr>\n",
       "    <tr>\n",
       "      <th>1</th>\n",
       "      <td>0.00547985938768246</td>\n",
       "      <td>0.08373862471515771</td>\n",
       "      <td>0.0081825954678621</td>\n",
       "      <td>0.02133262384388</td>\n",
       "      <td>0.010413039525126</td>\n",
       "      <td>4.45402708464813e-05</td>\n",
       "      <td>0.0013803316024664398</td>\n",
       "      <td>-0.00029128177872351596</td>\n",
       "      <td>0.0006449705735577931</td>\n",
       "      <td>-0.004441708427</td>\n",
       "      <td>...</td>\n",
       "      <td>0.05624127880245</td>\n",
       "      <td>0.0050387043105246</td>\n",
       "      <td>0.0174908688997336</td>\n",
       "      <td>-0.000772765778317736</td>\n",
       "      <td>-0.00125468678113906</td>\n",
       "      <td>0.0141222844821219</td>\n",
       "      <td>0.0001524598415045692</td>\n",
       "      <td>0.0066193911949005</td>\n",
       "      <td>-7.976739848230561e-05</td>\n",
       "      <td>-0.00406664138263268</td>\n",
       "    </tr>\n",
       "    <tr>\n",
       "      <th>2</th>\n",
       "      <td>-0.0058435140981085995</td>\n",
       "      <td>0.1172621817009695</td>\n",
       "      <td>-0.00040312178643555</td>\n",
       "      <td>0.006498491466652399</td>\n",
       "      <td>0.004801410687309201</td>\n",
       "      <td>0.00304571867157935</td>\n",
       "      <td>0.018736522847407802</td>\n",
       "      <td>-0.0014447045104649821</td>\n",
       "      <td>0.002002165914987009</td>\n",
       "      <td>-0.01653579242614</td>\n",
       "      <td>...</td>\n",
       "      <td>0.06474552556919999</td>\n",
       "      <td>0.0037219867270488</td>\n",
       "      <td>0.020390728582534</td>\n",
       "      <td>-0.004855609726982352</td>\n",
       "      <td>0.0035372942365255204</td>\n",
       "      <td>0.013201818435589</td>\n",
       "      <td>-0.0030404271371136</td>\n",
       "      <td>-0.0032332441818288</td>\n",
       "      <td>-7.10689383652776e-05</td>\n",
       "      <td>-0.0047330230107115595</td>\n",
       "    </tr>\n",
       "    <tr>\n",
       "      <th>3</th>\n",
       "      <td>-0.0454774110441126</td>\n",
       "      <td>0.12108299415182061</td>\n",
       "      <td>-0.0150667818984648</td>\n",
       "      <td>0.021571585867524</td>\n",
       "      <td>0.0053595031181847995</td>\n",
       "      <td>-0.0058139890027163</td>\n",
       "      <td>0.0259050511611456</td>\n",
       "      <td>0.00700461267238437</td>\n",
       "      <td>0.0033656174420928302</td>\n",
       "      <td>-0.000864143795372</td>\n",
       "      <td>...</td>\n",
       "      <td>0.0106611927907857</td>\n",
       "      <td>0.0022276670574426</td>\n",
       "      <td>0.018511982163858604</td>\n",
       "      <td>-0.00528872129122992</td>\n",
       "      <td>0.0006997969256685561</td>\n",
       "      <td>-0.01073317343449638</td>\n",
       "      <td>-0.00205497725524466</td>\n",
       "      <td>-0.00242867009111637</td>\n",
       "      <td>0.00020931604237424758</td>\n",
       "      <td>-0.00390062219638372</td>\n",
       "    </tr>\n",
       "    <tr>\n",
       "      <th>4</th>\n",
       "      <td>0.00423594427914244</td>\n",
       "      <td>-0.02816071338299894</td>\n",
       "      <td>0.027082874290590003</td>\n",
       "      <td>-0.018418750754026</td>\n",
       "      <td>0.0073998160262664795</td>\n",
       "      <td>-0.012032801379430202</td>\n",
       "      <td>0.00059104008062544</td>\n",
       "      <td>0.001585661214447408</td>\n",
       "      <td>0.002836061504325432</td>\n",
       "      <td>0.007034839892912</td>\n",
       "      <td>...</td>\n",
       "      <td>0.03266895085413</td>\n",
       "      <td>0.0034214489954958</td>\n",
       "      <td>0.057234973404225</td>\n",
       "      <td>0.0007363980335044479</td>\n",
       "      <td>-0.0033633517557612406</td>\n",
       "      <td>-0.015277080881689902</td>\n",
       "      <td>-0.0026509078813809</td>\n",
       "      <td>0.0015645956417787</td>\n",
       "      <td>-0.000214980965065152</td>\n",
       "      <td>-0.003144631266761308</td>\n",
       "    </tr>\n",
       "  </tbody>\n",
       "</table>\n",
       "<p>5 rows × 128 columns</p>\n",
       "</div>"
      ],
      "text/plain": [
       "                    emb_0                 emb_1                 emb_2  \\\n",
       "0     -0.0051594073935908    0.0666825147279899     0.018539364552579   \n",
       "1     0.00547985938768246   0.08373862471515771    0.0081825954678621   \n",
       "2  -0.0058435140981085995    0.1172621817009695  -0.00040312178643555   \n",
       "3     -0.0454774110441126   0.12108299415182061   -0.0150667818984648   \n",
       "4     0.00423594427914244  -0.02816071338299894  0.027082874290590003   \n",
       "\n",
       "                  emb_3                  emb_4                  emb_5  \\\n",
       "0    0.0114876858774192   0.006336184095452399  -0.005988185346273221   \n",
       "1      0.02133262384388      0.010413039525126   4.45402708464813e-05   \n",
       "2  0.006498491466652399   0.004801410687309201    0.00304571867157935   \n",
       "3     0.021571585867524  0.0053595031181847995    -0.0058139890027163   \n",
       "4    -0.018418750754026  0.0073998160262664795  -0.012032801379430202   \n",
       "\n",
       "                   emb_6                    emb_7                  emb_8  \\\n",
       "0   0.008823505582190999   -0.0009744207487502401    0.00275967084127734   \n",
       "1  0.0013803316024664398  -0.00029128177872351596  0.0006449705735577931   \n",
       "2   0.018736522847407802   -0.0014447045104649821   0.002002165914987009   \n",
       "3     0.0259050511611456      0.00700461267238437  0.0033656174420928302   \n",
       "4    0.00059104008062544     0.001585661214447408   0.002836061504325432   \n",
       "\n",
       "                emb_9           ...                         emb_118  \\\n",
       "0   0.001258217567854           ...            0.053269274503195504   \n",
       "1     -0.004441708427           ...                0.05624127880245   \n",
       "2   -0.01653579242614           ...             0.06474552556919999   \n",
       "3  -0.000864143795372           ...              0.0106611927907857   \n",
       "4   0.007034839892912           ...                0.03266895085413   \n",
       "\n",
       "              emb_119               emb_120                emb_121  \\\n",
       "0  0.0053896737044286    -0.018579164025534   -0.00277981162437032   \n",
       "1  0.0050387043105246    0.0174908688997336  -0.000772765778317736   \n",
       "2  0.0037219867270488     0.020390728582534  -0.004855609726982352   \n",
       "3  0.0022276670574426  0.018511982163858604   -0.00528872129122992   \n",
       "4  0.0034214489954958     0.057234973404225  0.0007363980335044479   \n",
       "\n",
       "                  emb_122                emb_123                emb_124  \\\n",
       "0   -0.000163717133677688   0.023285327806744922   -0.00049816619704834   \n",
       "1    -0.00125468678113906     0.0141222844821219  0.0001524598415045692   \n",
       "2   0.0035372942365255204      0.013201818435589    -0.0030404271371136   \n",
       "3   0.0006997969256685561   -0.01073317343449638   -0.00205497725524466   \n",
       "4  -0.0033633517557612406  -0.015277080881689902    -0.0026509078813809   \n",
       "\n",
       "                 emb_125                 emb_126                 emb_127  \n",
       "0  0.0072735408459075005   -2.95532105771628e-05   -0.005862502867530559  \n",
       "1     0.0066193911949005  -7.976739848230561e-05    -0.00406664138263268  \n",
       "2    -0.0032332441818288   -7.10689383652776e-05  -0.0047330230107115595  \n",
       "3   -0.00242867009111637  0.00020931604237424758    -0.00390062219638372  \n",
       "4     0.0015645956417787   -0.000214980965065152   -0.003144631266761308  \n",
       "\n",
       "[5 rows x 128 columns]"
      ]
     },
     "execution_count": 320,
     "metadata": {},
     "output_type": "execute_result"
    }
   ],
   "source": [
    "temp = temp.str.split(',', expand=True)\n",
    "temp.columns = ['emb_%s' % i for i in range(128)]\n",
    "temp.head()"
   ]
  },
  {
   "cell_type": "code",
   "execution_count": 324,
   "metadata": {
    "collapsed": true
   },
   "outputs": [],
   "source": [
    "user_apps = pd.concat([user_apps, temp], axis=1)"
   ]
  },
  {
   "cell_type": "code",
   "execution_count": 325,
   "metadata": {
    "collapsed": true
   },
   "outputs": [],
   "source": [
    "data = pd.merge(data, user_apps, on=['id', 'app'], how='left')"
   ]
  },
  {
   "cell_type": "code",
   "execution_count": 327,
   "metadata": {},
   "outputs": [
    {
     "data": {
      "text/html": [
       "<div>\n",
       "<style>\n",
       "    .dataframe thead tr:only-child th {\n",
       "        text-align: right;\n",
       "    }\n",
       "\n",
       "    .dataframe thead th {\n",
       "        text-align: left;\n",
       "    }\n",
       "\n",
       "    .dataframe tbody tr th {\n",
       "        vertical-align: top;\n",
       "    }\n",
       "</style>\n",
       "<table border=\"1\" class=\"dataframe\">\n",
       "  <thead>\n",
       "    <tr style=\"text-align: right;\">\n",
       "      <th></th>\n",
       "      <th>id</th>\n",
       "      <th>hour</th>\n",
       "      <th>app</th>\n",
       "      <th>click</th>\n",
       "      <th>installed_apps</th>\n",
       "      <th>last_apps</th>\n",
       "      <th>app_cat</th>\n",
       "      <th>emb_0</th>\n",
       "      <th>emb_1</th>\n",
       "      <th>emb_2</th>\n",
       "      <th>...</th>\n",
       "      <th>emb_118</th>\n",
       "      <th>emb_119</th>\n",
       "      <th>emb_120</th>\n",
       "      <th>emb_121</th>\n",
       "      <th>emb_122</th>\n",
       "      <th>emb_123</th>\n",
       "      <th>emb_124</th>\n",
       "      <th>emb_125</th>\n",
       "      <th>emb_126</th>\n",
       "      <th>emb_127</th>\n",
       "    </tr>\n",
       "  </thead>\n",
       "  <tbody>\n",
       "    <tr>\n",
       "      <th>0</th>\n",
       "      <td>B02AD69BFD4A4FEEDFAB6DBB36DCC167</td>\n",
       "      <td>6</td>\n",
       "      <td>百度搜索</td>\n",
       "      <td>1</td>\n",
       "      <td>9</td>\n",
       "      <td>0.0</td>\n",
       "      <td>实用工具</td>\n",
       "      <td>-0.0051594073935908</td>\n",
       "      <td>0.0666825147279899</td>\n",
       "      <td>0.018539364552579</td>\n",
       "      <td>...</td>\n",
       "      <td>0.053269274503195504</td>\n",
       "      <td>0.0053896737044286</td>\n",
       "      <td>-0.018579164025534</td>\n",
       "      <td>-0.00277981162437032</td>\n",
       "      <td>-0.000163717133677688</td>\n",
       "      <td>0.023285327806744922</td>\n",
       "      <td>-0.00049816619704834</td>\n",
       "      <td>0.0072735408459075005</td>\n",
       "      <td>-2.95532105771628e-05</td>\n",
       "      <td>-0.005862502867530559</td>\n",
       "    </tr>\n",
       "    <tr>\n",
       "      <th>1</th>\n",
       "      <td>B02AD69BFD4A4FEEDFAB6DBB36DCC167</td>\n",
       "      <td>7</td>\n",
       "      <td>微信</td>\n",
       "      <td>1</td>\n",
       "      <td>9</td>\n",
       "      <td>1.0</td>\n",
       "      <td>通讯聊天</td>\n",
       "      <td>0.00547985938768246</td>\n",
       "      <td>0.08373862471515771</td>\n",
       "      <td>0.0081825954678621</td>\n",
       "      <td>...</td>\n",
       "      <td>0.05624127880245</td>\n",
       "      <td>0.0050387043105246</td>\n",
       "      <td>0.0174908688997336</td>\n",
       "      <td>-0.000772765778317736</td>\n",
       "      <td>-0.00125468678113906</td>\n",
       "      <td>0.0141222844821219</td>\n",
       "      <td>0.0001524598415045692</td>\n",
       "      <td>0.0066193911949005</td>\n",
       "      <td>-7.976739848230561e-05</td>\n",
       "      <td>-0.00406664138263268</td>\n",
       "    </tr>\n",
       "    <tr>\n",
       "      <th>2</th>\n",
       "      <td>B02AD69BFD4A4FEEDFAB6DBB36DCC167</td>\n",
       "      <td>7</td>\n",
       "      <td>支付宝</td>\n",
       "      <td>1</td>\n",
       "      <td>9</td>\n",
       "      <td>1.0</td>\n",
       "      <td>金融理财</td>\n",
       "      <td>-0.0058435140981085995</td>\n",
       "      <td>0.1172621817009695</td>\n",
       "      <td>-0.00040312178643555</td>\n",
       "      <td>...</td>\n",
       "      <td>0.06474552556919999</td>\n",
       "      <td>0.0037219867270488</td>\n",
       "      <td>0.020390728582534</td>\n",
       "      <td>-0.004855609726982352</td>\n",
       "      <td>0.0035372942365255204</td>\n",
       "      <td>0.013201818435589</td>\n",
       "      <td>-0.0030404271371136</td>\n",
       "      <td>-0.0032332441818288</td>\n",
       "      <td>-7.10689383652776e-05</td>\n",
       "      <td>-0.0047330230107115595</td>\n",
       "    </tr>\n",
       "    <tr>\n",
       "      <th>3</th>\n",
       "      <td>B02AD69BFD4A4FEEDFAB6DBB36DCC167</td>\n",
       "      <td>7</td>\n",
       "      <td>Keep</td>\n",
       "      <td>1</td>\n",
       "      <td>9</td>\n",
       "      <td>1.0</td>\n",
       "      <td>健康医疗</td>\n",
       "      <td>-0.0454774110441126</td>\n",
       "      <td>0.12108299415182061</td>\n",
       "      <td>-0.0150667818984648</td>\n",
       "      <td>...</td>\n",
       "      <td>0.0106611927907857</td>\n",
       "      <td>0.0022276670574426</td>\n",
       "      <td>0.018511982163858604</td>\n",
       "      <td>-0.00528872129122992</td>\n",
       "      <td>0.0006997969256685561</td>\n",
       "      <td>-0.01073317343449638</td>\n",
       "      <td>-0.00205497725524466</td>\n",
       "      <td>-0.00242867009111637</td>\n",
       "      <td>0.00020931604237424758</td>\n",
       "      <td>-0.00390062219638372</td>\n",
       "    </tr>\n",
       "    <tr>\n",
       "      <th>4</th>\n",
       "      <td>B02AD69BFD4A4FEEDFAB6DBB36DCC167</td>\n",
       "      <td>7</td>\n",
       "      <td>开心消消乐</td>\n",
       "      <td>1</td>\n",
       "      <td>9</td>\n",
       "      <td>1.0</td>\n",
       "      <td>游戏服务</td>\n",
       "      <td>0.00423594427914244</td>\n",
       "      <td>-0.02816071338299894</td>\n",
       "      <td>0.027082874290590003</td>\n",
       "      <td>...</td>\n",
       "      <td>0.03266895085413</td>\n",
       "      <td>0.0034214489954958</td>\n",
       "      <td>0.057234973404225</td>\n",
       "      <td>0.0007363980335044479</td>\n",
       "      <td>-0.0033633517557612406</td>\n",
       "      <td>-0.015277080881689902</td>\n",
       "      <td>-0.0026509078813809</td>\n",
       "      <td>0.0015645956417787</td>\n",
       "      <td>-0.000214980965065152</td>\n",
       "      <td>-0.003144631266761308</td>\n",
       "    </tr>\n",
       "  </tbody>\n",
       "</table>\n",
       "<p>5 rows × 135 columns</p>\n",
       "</div>"
      ],
      "text/plain": [
       "                                 id  hour    app  click  installed_apps  \\\n",
       "0  B02AD69BFD4A4FEEDFAB6DBB36DCC167     6   百度搜索      1               9   \n",
       "1  B02AD69BFD4A4FEEDFAB6DBB36DCC167     7     微信      1               9   \n",
       "2  B02AD69BFD4A4FEEDFAB6DBB36DCC167     7    支付宝      1               9   \n",
       "3  B02AD69BFD4A4FEEDFAB6DBB36DCC167     7   Keep      1               9   \n",
       "4  B02AD69BFD4A4FEEDFAB6DBB36DCC167     7  开心消消乐      1               9   \n",
       "\n",
       "   last_apps app_cat                   emb_0                 emb_1  \\\n",
       "0        0.0    实用工具     -0.0051594073935908    0.0666825147279899   \n",
       "1        1.0    通讯聊天     0.00547985938768246   0.08373862471515771   \n",
       "2        1.0    金融理财  -0.0058435140981085995    0.1172621817009695   \n",
       "3        1.0    健康医疗     -0.0454774110441126   0.12108299415182061   \n",
       "4        1.0    游戏服务     0.00423594427914244  -0.02816071338299894   \n",
       "\n",
       "                  emb_2           ...                         emb_118  \\\n",
       "0     0.018539364552579           ...            0.053269274503195504   \n",
       "1    0.0081825954678621           ...                0.05624127880245   \n",
       "2  -0.00040312178643555           ...             0.06474552556919999   \n",
       "3   -0.0150667818984648           ...              0.0106611927907857   \n",
       "4  0.027082874290590003           ...                0.03266895085413   \n",
       "\n",
       "              emb_119               emb_120                emb_121  \\\n",
       "0  0.0053896737044286    -0.018579164025534   -0.00277981162437032   \n",
       "1  0.0050387043105246    0.0174908688997336  -0.000772765778317736   \n",
       "2  0.0037219867270488     0.020390728582534  -0.004855609726982352   \n",
       "3  0.0022276670574426  0.018511982163858604   -0.00528872129122992   \n",
       "4  0.0034214489954958     0.057234973404225  0.0007363980335044479   \n",
       "\n",
       "                  emb_122                emb_123                emb_124  \\\n",
       "0   -0.000163717133677688   0.023285327806744922   -0.00049816619704834   \n",
       "1    -0.00125468678113906     0.0141222844821219  0.0001524598415045692   \n",
       "2   0.0035372942365255204      0.013201818435589    -0.0030404271371136   \n",
       "3   0.0006997969256685561   -0.01073317343449638   -0.00205497725524466   \n",
       "4  -0.0033633517557612406  -0.015277080881689902    -0.0026509078813809   \n",
       "\n",
       "                 emb_125                 emb_126                 emb_127  \n",
       "0  0.0072735408459075005   -2.95532105771628e-05   -0.005862502867530559  \n",
       "1     0.0066193911949005  -7.976739848230561e-05    -0.00406664138263268  \n",
       "2    -0.0032332441818288   -7.10689383652776e-05  -0.0047330230107115595  \n",
       "3   -0.00242867009111637  0.00020931604237424758    -0.00390062219638372  \n",
       "4     0.0015645956417787   -0.000214980965065152   -0.003144631266761308  \n",
       "\n",
       "[5 rows x 135 columns]"
      ]
     },
     "execution_count": 327,
     "metadata": {},
     "output_type": "execute_result"
    }
   ],
   "source": [
    "data.head()"
   ]
  },
  {
   "cell_type": "code",
   "execution_count": 328,
   "metadata": {},
   "outputs": [],
   "source": [
    "data.to_csv('./data.csv', index=False)"
   ]
  },
  {
   "cell_type": "code",
   "execution_count": 330,
   "metadata": {},
   "outputs": [
    {
     "data": {
      "text/plain": [
       "2436009"
      ]
     },
     "execution_count": 330,
     "metadata": {},
     "output_type": "execute_result"
    }
   ],
   "source": [
    "len(data)"
   ]
  },
  {
   "cell_type": "markdown",
   "metadata": {},
   "source": [
    "---\n",
    "训练\n",
    "---\n",
    "\n",
    "---"
   ]
  },
  {
   "cell_type": "code",
   "execution_count": 336,
   "metadata": {},
   "outputs": [],
   "source": [
    "from sklearn.linear_model import LogisticRegression, LogisticRegressionCV\n",
    "# import xgboost as xgb\n",
    "import lightgbm as lgb\n",
    "from sklearn.metrics import accuracy_score, precision_score, recall_score, f1_score, auc, roc_auc_score"
   ]
  },
  {
   "cell_type": "code",
   "execution_count": 338,
   "metadata": {},
   "outputs": [],
   "source": [
    "from sklearn.model_selection import train_test_split"
   ]
  },
  {
   "cell_type": "code",
   "execution_count": null,
   "metadata": {
    "collapsed": true
   },
   "outputs": [],
   "source": [
    "X = data.iloc[:, 4:].values\n",
    "y = data['click'].values\n",
    "X.shape, y.shape"
   ]
  },
  {
   "cell_type": "code",
   "execution_count": 313,
   "metadata": {
    "collapsed": true
   },
   "outputs": [],
   "source": [
    "X_train, X_test, y_train, y_test = train_test_split(X, y, test_size=0.33, random_state=42)"
   ]
  },
  {
   "cell_type": "code",
   "execution_count": 314,
   "metadata": {},
   "outputs": [
    {
     "data": {
      "text/plain": [
       "'[1, 2, 3]'"
      ]
     },
     "execution_count": 314,
     "metadata": {},
     "output_type": "execute_result"
    }
   ],
   "source": [
    "params = {\n",
    "    'boosting_type': 'gbdt',\n",
    "    'objective': 'binary',\n",
    "    'metric': 'binary_logloss',\n",
    "    'num_leaves': 32,\n",
    "    'learning_rate': 0.05,\n",
    "    'feature_fraction': 0.9,\n",
    "    'bagging_fraction': 0.8,\n",
    "    'bagging_freq': 5,\n",
    "    'verbose': 1\n",
    "}"
   ]
  },
  {
   "cell_type": "code",
   "execution_count": null,
   "metadata": {
    "collapsed": true
   },
   "outputs": [],
   "source": [
    "lgb_train = lgb.Dataset(X_train, y_train)\n",
    "lgb_eval = lgb.Dataset(X_test, y_test, reference=lgb_train)"
   ]
  },
  {
   "cell_type": "code",
   "execution_count": null,
   "metadata": {
    "collapsed": true
   },
   "outputs": [],
   "source": [
    "gbm = lgb.train(params,\n",
    "                    lgb_train,\n",
    "                    num_boost_round=5000,\n",
    "                    valid_sets=lgb_eval,\n",
    "                    early_stopping_rounds=50,\n",
    "                    verbose_eval=50,\n",
    "                    )"
   ]
  },
  {
   "cell_type": "code",
   "execution_count": null,
   "metadata": {
    "collapsed": true
   },
   "outputs": [],
   "source": [
    "f1_score(y_test, np.where(gbm.predict(X_test, num_iteration=gbm.best_iteration) > 0.5, 1, 0))"
   ]
  }
 ],
 "metadata": {
  "kernelspec": {
   "display_name": "Python 3",
   "language": "python",
   "name": "python3"
  },
  "language_info": {
   "codemirror_mode": {
    "name": "ipython",
    "version": 3
   },
   "file_extension": ".py",
   "mimetype": "text/x-python",
   "name": "python",
   "nbconvert_exporter": "python",
   "pygments_lexer": "ipython3",
   "version": "3.6.2"
  }
 },
 "nbformat": 4,
 "nbformat_minor": 2
}
