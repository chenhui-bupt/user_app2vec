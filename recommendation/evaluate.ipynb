{
 "cells": [
  {
   "cell_type": "code",
   "execution_count": 3,
   "metadata": {
    "collapsed": true
   },
   "outputs": [],
   "source": [
    "import pandas as pd\n",
    "import numpy as np\n",
    "import os\n",
    "import pickle"
   ]
  },
  {
   "cell_type": "code",
   "execution_count": 2,
   "metadata": {
    "collapsed": true
   },
   "outputs": [],
   "source": [
    "node2id = pickle.load(open('./node2id.pkl', 'rb'))\n",
    "id2node = pickle.load(open('./id2node.pkl', 'rb'))"
   ]
  },
  {
   "cell_type": "code",
   "execution_count": 3,
   "metadata": {},
   "outputs": [
    {
     "data": {
      "text/plain": [
       "('B02AD69BFD4A4FEEDFAB6DBB36DCC167', '高德地图')"
      ]
     },
     "execution_count": 3,
     "metadata": {},
     "output_type": "execute_result"
    }
   ],
   "source": [
    "id2node[0],id2node[25467]"
   ]
  },
  {
   "cell_type": "code",
   "execution_count": 4,
   "metadata": {},
   "outputs": [
    {
     "data": {
      "text/plain": [
       "(0, 25467)"
      ]
     },
     "execution_count": 4,
     "metadata": {},
     "output_type": "execute_result"
    }
   ],
   "source": [
    "node2id[id2node[0]], node2id[id2node[25467]]"
   ]
  },
  {
   "cell_type": "code",
   "execution_count": 38,
   "metadata": {
    "collapsed": true
   },
   "outputs": [],
   "source": [
    "base_dir = \"/Users/chenhui/fsdownload\"\n",
    "all_data1 = pd.read_csv(os.path.join(base_dir, \"input/all_data1.csv\"), encoding='gbk')\n",
    "all_data2 = pd.read_csv(os.path.join(base_dir, \"input/all_data2.csv\"), encoding='gbk')"
   ]
  },
  {
   "cell_type": "code",
   "execution_count": 7,
   "metadata": {},
   "outputs": [
    {
     "data": {
      "text/html": [
       "<div>\n",
       "<style>\n",
       "    .dataframe thead tr:only-child th {\n",
       "        text-align: right;\n",
       "    }\n",
       "\n",
       "    .dataframe thead th {\n",
       "        text-align: left;\n",
       "    }\n",
       "\n",
       "    .dataframe tbody tr th {\n",
       "        vertical-align: top;\n",
       "    }\n",
       "</style>\n",
       "<table border=\"1\" class=\"dataframe\">\n",
       "  <thead>\n",
       "    <tr style=\"text-align: right;\">\n",
       "      <th></th>\n",
       "      <th>id</th>\n",
       "      <th>app</th>\n",
       "      <th>link</th>\n",
       "    </tr>\n",
       "  </thead>\n",
       "  <tbody>\n",
       "    <tr>\n",
       "      <th>0</th>\n",
       "      <td>B960ABDB6F588FE3986A7BECB9C4C534</td>\n",
       "      <td>高德地图</td>\n",
       "      <td>1</td>\n",
       "    </tr>\n",
       "    <tr>\n",
       "      <th>1</th>\n",
       "      <td>B05F998104D00D8218156EED80145B66</td>\n",
       "      <td>百度搜索</td>\n",
       "      <td>1</td>\n",
       "    </tr>\n",
       "    <tr>\n",
       "      <th>2</th>\n",
       "      <td>D353C7D37EDD8B5D1EFE2C1FDE8011A2</td>\n",
       "      <td>开心消消乐</td>\n",
       "      <td>1</td>\n",
       "    </tr>\n",
       "    <tr>\n",
       "      <th>3</th>\n",
       "      <td>F5CC6B2CCAC733CB342C924A9D8B2D60</td>\n",
       "      <td>腾讯视频</td>\n",
       "      <td>1</td>\n",
       "    </tr>\n",
       "    <tr>\n",
       "      <th>4</th>\n",
       "      <td>FF4DB3AE6F35F5F0362BFC22428CDF89</td>\n",
       "      <td>携程旅行</td>\n",
       "      <td>1</td>\n",
       "    </tr>\n",
       "  </tbody>\n",
       "</table>\n",
       "</div>"
      ],
      "text/plain": [
       "                                 id    app  link\n",
       "0  B960ABDB6F588FE3986A7BECB9C4C534   高德地图     1\n",
       "1  B05F998104D00D8218156EED80145B66   百度搜索     1\n",
       "2  D353C7D37EDD8B5D1EFE2C1FDE8011A2  开心消消乐     1\n",
       "3  F5CC6B2CCAC733CB342C924A9D8B2D60   腾讯视频     1\n",
       "4  FF4DB3AE6F35F5F0362BFC22428CDF89   携程旅行     1"
      ]
     },
     "execution_count": 7,
     "metadata": {},
     "output_type": "execute_result"
    }
   ],
   "source": [
    "all_data1.head()"
   ]
  },
  {
   "cell_type": "code",
   "execution_count": 8,
   "metadata": {
    "collapsed": true
   },
   "outputs": [],
   "source": [
    "def hadamard(v1, v2):\n",
    "    v1 = np.asarray(v1)\n",
    "    v2 = np.asarray(v2)\n",
    "    return v1 * v2"
   ]
  },
  {
   "cell_type": "code",
   "execution_count": 33,
   "metadata": {
    "collapsed": true
   },
   "outputs": [],
   "source": [
    "def get_embeddings(file_name):\n",
    "    embeddings_dict = {}\n",
    "    embeddings_file = os.path.join(\"/Users/chenhui/fsdownload/user_app\", file_name)\n",
    "    with open(embeddings_file, 'r') as f:\n",
    "        num_nodes, emb_size = list(map(int, f.readline().strip().split()))\n",
    "        print(num_nodes, emb_size)\n",
    "        for i in range(num_nodes):\n",
    "            line = list(map(float, f.readline().strip().split()))\n",
    "            embeddings_dict[line[0]] = line[1:]\n",
    "    return embeddings_dict"
   ]
  },
  {
   "cell_type": "code",
   "execution_count": 40,
   "metadata": {
    "collapsed": true
   },
   "outputs": [],
   "source": [
    "def generate_features(all_data, embeddings_dict, file_name):\n",
    "    dir_path = os.path.join('./', \"user_app_features\")\n",
    "    if not os.path.exists(dir_path):\n",
    "        os.mkdir(dir_path)\n",
    "    features_file = os.path.join('./user_app_features', \"%s\" % file_name)\n",
    "    if os.path.exists(features_file):\n",
    "        return pd.read_csv(features_file)\n",
    "    features = []\n",
    "    for i in range(len(all_data)):\n",
    "        sample = all_data.iloc[i]\n",
    "        userid = node2id[sample['id']]\n",
    "        appid = node2id[sample['app']]\n",
    "        feature_vec = hadamard(embeddings_dict[userid], embeddings_dict[appid])\n",
    "        features.append([userid, appid, sample['link']] + feature_vec.tolist())\n",
    "    feature_data = pd.DataFrame(features, columns=['user', 'app', 'label'] + ['feature_%s' % i for i in range(128)])\n",
    "    feature_data.to_csv(features_file, index=False)\n",
    "    return feature_data"
   ]
  },
  {
   "cell_type": "code",
   "execution_count": 39,
   "metadata": {},
   "outputs": [
    {
     "name": "stdout",
     "output_type": "stream",
     "text": [
      "25468 128\n",
      "25468 128\n"
     ]
    }
   ],
   "source": [
    "embeddings1 = get_embeddings(\"user_app0117.embeddings\")\n",
    "feature_data1 = generate_features(all_data1, embeddings1, \"user_app0117.features\")\n",
    "embeddings2 = get_embeddings(\"user_app0118.embeddings\")\n",
    "feature_data2 = generate_features(all_data1, embeddings1, \"user_app0118.features\")"
   ]
  },
  {
   "cell_type": "markdown",
   "metadata": {},
   "source": [
    "### 模型"
   ]
  },
  {
   "cell_type": "code",
   "execution_count": 4,
   "metadata": {
    "collapsed": true
   },
   "outputs": [],
   "source": [
    "from sklearn.linear_model import LogisticRegression, LogisticRegressionCV\n",
    "import xgboost as xgb\n",
    "from sklearn.metrics import accuracy_score, precision_score, recall_score, f1_score, auc, roc_auc_score"
   ]
  },
  {
   "cell_type": "code",
   "execution_count": 46,
   "metadata": {
    "collapsed": true
   },
   "outputs": [],
   "source": [
    "features = [\"feature_%s\" % i for i in range(128)]\n",
    "X_train = feature_data1.loc[:, features].values\n",
    "y_train = feature_data1['label'].values\n",
    "X_test = feature_data2.loc[:, features].values\n",
    "y_test = feature_data2['label'].values"
   ]
  },
  {
   "cell_type": "code",
   "execution_count": 47,
   "metadata": {},
   "outputs": [
    {
     "data": {
      "text/plain": [
       "((380480, 128), (380480,))"
      ]
     },
     "execution_count": 47,
     "metadata": {},
     "output_type": "execute_result"
    }
   ],
   "source": [
    "X_train.shape, y_train.shape"
   ]
  },
  {
   "cell_type": "code",
   "execution_count": 70,
   "metadata": {
    "collapsed": true
   },
   "outputs": [],
   "source": [
    "lr_model = LogisticRegression()\n",
    "lr_model.fit(X_train, y_train)\n",
    "lr_preds = lr_model.predict(X_test)"
   ]
  },
  {
   "cell_type": "code",
   "execution_count": 71,
   "metadata": {},
   "outputs": [
    {
     "data": {
      "text/plain": [
       "(0.77175935660218675,\n",
       " 0.73766716161983004,\n",
       " 0.84348191757779645,\n",
       " 0.78703383533324012)"
      ]
     },
     "execution_count": 71,
     "metadata": {},
     "output_type": "execute_result"
    }
   ],
   "source": [
    "accuracy_score(y_true=y_test, y_pred=lr_preds),\\\n",
    "precision_score(y_true=y_test, y_pred=lr_preds),\\\n",
    "recall_score(y_true=y_test, y_pred=lr_preds),\\\n",
    "f1_score(y_true=y_test, y_pred=lr_preds)"
   ]
  },
  {
   "cell_type": "code",
   "execution_count": 85,
   "metadata": {},
   "outputs": [
    {
     "data": {
      "text/plain": [
       "0.82071448520208368"
      ]
     },
     "execution_count": 85,
     "metadata": {},
     "output_type": "execute_result"
    }
   ],
   "source": [
    "lr_proba = lr_model.predict_proba(X_test)[:, 1]\n",
    "roc_auc_score(y_true=y_test, y_score=lr_proba)"
   ]
  },
  {
   "cell_type": "code",
   "execution_count": 86,
   "metadata": {},
   "outputs": [
    {
     "data": {
      "text/plain": [
       "(0.8207144852020837, 0.8207046353094953)"
      ]
     },
     "execution_count": 86,
     "metadata": {},
     "output_type": "execute_result"
    }
   ],
   "source": [
    "naive_auc(preds=lr_proba, labels=y_test), approximate_auc(preds=lr_proba, labels=y_test)"
   ]
  },
  {
   "cell_type": "code",
   "execution_count": 67,
   "metadata": {},
   "outputs": [
    {
     "data": {
      "text/plain": [
       "0.88016487200929983"
      ]
     },
     "execution_count": 67,
     "metadata": {},
     "output_type": "execute_result"
    }
   ],
   "source": [
    "xgb_model = xgb.XGBClassifier()\n",
    "xgb_model.fit(X_train, y_train)\n",
    "xgb_preds = xgb_model.predict(X_test)"
   ]
  },
  {
   "cell_type": "code",
   "execution_count": 69,
   "metadata": {},
   "outputs": [
    {
     "data": {
      "text/plain": [
       "(0.87835103027754413,\n",
       " 0.86723401650008414,\n",
       " 0.89348717409587886,\n",
       " 0.88016487200929983)"
      ]
     },
     "execution_count": 69,
     "metadata": {},
     "output_type": "execute_result"
    }
   ],
   "source": [
    "accuracy_score(y_true=y_test, y_pred=xgb_preds),\\\n",
    "precision_score(y_true=y_test, y_pred=xgb_preds),\\\n",
    "recall_score(y_true=y_test, y_pred=xgb_preds),\\\n",
    "f1_score(y_true=y_test, y_pred=xgb_preds)"
   ]
  },
  {
   "cell_type": "code",
   "execution_count": 77,
   "metadata": {},
   "outputs": [
    {
     "data": {
      "text/plain": [
       "0.94323150970028746"
      ]
     },
     "execution_count": 77,
     "metadata": {},
     "output_type": "execute_result"
    }
   ],
   "source": [
    "xgb_proba = xgb_model.predict_proba(X_test)[:, 1]\n",
    "roc_auc_score(y_true=y_test, y_score=xgb_proba)"
   ]
  },
  {
   "cell_type": "code",
   "execution_count": 84,
   "metadata": {},
   "outputs": [
    {
     "data": {
      "text/plain": [
       "(0.9432314057249008, 0.9431825190429415)"
      ]
     },
     "execution_count": 84,
     "metadata": {},
     "output_type": "execute_result"
    }
   ],
   "source": [
    "naive_auc(preds=xgb_proba, labels=y_test), approximate_auc(preds=xgb_proba, labels=y_test)"
   ]
  },
  {
   "cell_type": "code",
   "execution_count": 75,
   "metadata": {},
   "outputs": [
    {
     "data": {
      "text/plain": [
       "XGBClassifier(base_score=0.5, booster='gbtree', colsample_bylevel=1,\n",
       "       colsample_bytree=1, gamma=0, learning_rate=0.1, max_delta_step=0,\n",
       "       max_depth=3, min_child_weight=1, missing=None, n_estimators=100,\n",
       "       n_jobs=1, nthread=None, objective='binary:logistic', random_state=0,\n",
       "       reg_alpha=0, reg_lambda=1, scale_pos_weight=1, seed=None,\n",
       "       silent=True, subsample=1)"
      ]
     },
     "execution_count": 75,
     "metadata": {},
     "output_type": "execute_result"
    }
   ],
   "source": [
    "xgb_model"
   ]
  },
  {
   "cell_type": "code",
   "execution_count": 89,
   "metadata": {},
   "outputs": [
    {
     "data": {
      "text/plain": [
       "{'base_score': 0.5,\n",
       " 'booster': 'gbtree',\n",
       " 'colsample_bylevel': 1,\n",
       " 'colsample_bytree': 1,\n",
       " 'gamma': 0,\n",
       " 'learning_rate': 0.1,\n",
       " 'max_delta_step': 0,\n",
       " 'max_depth': 3,\n",
       " 'min_child_weight': 1,\n",
       " 'missing': None,\n",
       " 'n_estimators': 100,\n",
       " 'n_jobs': 1,\n",
       " 'nthread': None,\n",
       " 'objective': 'binary:logistic',\n",
       " 'random_state': 0,\n",
       " 'reg_alpha': 0,\n",
       " 'reg_lambda': 1,\n",
       " 'scale_pos_weight': 1,\n",
       " 'seed': None,\n",
       " 'silent': True,\n",
       " 'subsample': 1}"
      ]
     },
     "execution_count": 89,
     "metadata": {},
     "output_type": "execute_result"
    }
   ],
   "source": [
    "xgb_model.get_params()"
   ]
  },
  {
   "cell_type": "code",
   "execution_count": 5,
   "metadata": {
    "collapsed": true
   },
   "outputs": [],
   "source": [
    "xgb_model = xgb.XGBClassifier()"
   ]
  },
  {
   "cell_type": "code",
   "execution_count": null,
   "metadata": {
    "collapsed": true
   },
   "outputs": [],
   "source": [
    "xgb_model."
   ]
  },
  {
   "cell_type": "code",
   "execution_count": 83,
   "metadata": {
    "collapsed": true
   },
   "outputs": [],
   "source": [
    "def naive_auc(preds, labels):\n",
    "    M = sum(labels)\n",
    "    N = len(labels) - M\n",
    "    total_pairs = M * N\n",
    "    accumulated_neg = 0\n",
    "    satisfied_pairs = 0\n",
    "    preds_labels = sorted(zip(preds, labels), key=lambda x: x[0])\n",
    "    for i in range(len(labels)):\n",
    "        if preds_labels[i][1] == 1:\n",
    "            satisfied_pairs += accumulated_neg\n",
    "        else:\n",
    "            accumulated_neg += 1\n",
    "    return satisfied_pairs/float(total_pairs)\n",
    "    \n",
    "def approximate_auc(preds, labels, bins=100):\n",
    "    M = sum(labels)\n",
    "    N = len(labels) - M\n",
    "    total_pairs = M * N\n",
    "    accumulated_neg = 0\n",
    "    satisfied_pairs = 0\n",
    "    pos = [0] * bins\n",
    "    neg = [0] * bins\n",
    "    width = 1.0/bins\n",
    "    for i in range(len(labels)):\n",
    "        bin = int(preds[i]/width)\n",
    "        if labels[i] == 1:\n",
    "            pos[bin] += 1\n",
    "        else:\n",
    "            neg[bin] += 1\n",
    "    for i in range(bins):\n",
    "        satisfied_pairs += pos[i] * accumulated_neg + 0.5 * pos[i] * neg[i] # n1 + 0.5*n2\n",
    "        accumulated_neg += neg[i]\n",
    "    return satisfied_pairs/float(total_pairs)"
   ]
  },
  {
   "cell_type": "code",
   "execution_count": 34,
   "metadata": {
    "collapsed": true
   },
   "outputs": [],
   "source": [
    "import scipy.io as sio\n",
    "import scipy.sparse as sparse"
   ]
  },
  {
   "cell_type": "code",
   "execution_count": 36,
   "metadata": {
    "collapsed": true
   },
   "outputs": [],
   "source": [
    "blog = sio.loadmat('../deepwalk/example_graphs/blogcatalog.mat')"
   ]
  },
  {
   "cell_type": "code",
   "execution_count": 37,
   "metadata": {
    "collapsed": true
   },
   "outputs": [],
   "source": [
    "network = blog['network']"
   ]
  },
  {
   "cell_type": "code",
   "execution_count": 41,
   "metadata": {},
   "outputs": [
    {
     "data": {
      "text/plain": [
       "(scipy.sparse.csc.csc_matrix,\n",
       " <10312x10312 sparse matrix of type '<class 'numpy.float64'>'\n",
       " \twith 667966 stored elements in Compressed Sparse Column format>)"
      ]
     },
     "execution_count": 41,
     "metadata": {},
     "output_type": "execute_result"
    }
   ],
   "source": [
    "type(network), network"
   ]
  },
  {
   "cell_type": "code",
   "execution_count": 40,
   "metadata": {},
   "outputs": [
    {
     "data": {
      "text/plain": [
       "matrix([[ 0.,  0.,  0., ...,  0.,  0.,  0.]])"
      ]
     },
     "execution_count": 40,
     "metadata": {},
     "output_type": "execute_result"
    }
   ],
   "source": [
    "network[0].todense()"
   ]
  },
  {
   "cell_type": "code",
   "execution_count": 25,
   "metadata": {},
   "outputs": [
    {
     "data": {
      "text/plain": [
       "6"
      ]
     },
     "execution_count": 25,
     "metadata": {},
     "output_type": "execute_result"
    }
   ],
   "source": [
    "from functools import reduce\n",
    "a = [1, 2, 3]\n",
    "reduce(lambda x,y : x*y , a)"
   ]
  },
  {
   "cell_type": "code",
   "execution_count": 29,
   "metadata": {},
   "outputs": [
    {
     "data": {
      "text/plain": [
       "3"
      ]
     },
     "execution_count": 29,
     "metadata": {},
     "output_type": "execute_result"
    }
   ],
   "source": [
    "b = [1, 1, 2, 2, 3]\n",
    "reduce(lambda x,y : x^y, b)"
   ]
  },
  {
   "cell_type": "code",
   "execution_count": 19,
   "metadata": {},
   "outputs": [
    {
     "data": {
      "text/plain": [
       "[[0, 0, 0], [0, 0, 0]]"
      ]
     },
     "execution_count": 19,
     "metadata": {},
     "output_type": "execute_result"
    }
   ],
   "source": [
    "a"
   ]
  },
  {
   "cell_type": "code",
   "execution_count": 20,
   "metadata": {
    "collapsed": true
   },
   "outputs": [],
   "source": [
    "a[0][1] = 1"
   ]
  },
  {
   "cell_type": "code",
   "execution_count": 21,
   "metadata": {},
   "outputs": [
    {
     "data": {
      "text/plain": [
       "[[0, 1, 0], [0, 1, 0]]"
      ]
     },
     "execution_count": 21,
     "metadata": {},
     "output_type": "execute_result"
    }
   ],
   "source": [
    "a"
   ]
  },
  {
   "cell_type": "code",
   "execution_count": null,
   "metadata": {},
   "outputs": [],
   "source": []
  },
  {
   "cell_type": "code",
   "execution_count": 6,
   "metadata": {},
   "outputs": [
    {
     "data": {
      "text/plain": [
       "9765625"
      ]
     },
     "execution_count": 6,
     "metadata": {},
     "output_type": "execute_result"
    }
   ],
   "source": [
    "5**10"
   ]
  },
  {
   "cell_type": "code",
   "execution_count": 13,
   "metadata": {},
   "outputs": [
    {
     "data": {
      "text/plain": [
       "7.589999999999999"
      ]
     },
     "execution_count": 13,
     "metadata": {},
     "output_type": "execute_result"
    }
   ],
   "source": [
    "2.3*3.3"
   ]
  },
  {
   "cell_type": "code",
   "execution_count": null,
   "metadata": {
    "collapsed": true
   },
   "outputs": [],
   "source": []
  }
 ],
 "metadata": {
  "kernelspec": {
   "display_name": "Python 3",
   "language": "python",
   "name": "python3"
  },
  "language_info": {
   "codemirror_mode": {
    "name": "ipython",
    "version": 3
   },
   "file_extension": ".py",
   "mimetype": "text/x-python",
   "name": "python",
   "nbconvert_exporter": "python",
   "pygments_lexer": "ipython3",
   "version": "3.6.2"
  }
 },
 "nbformat": 4,
 "nbformat_minor": 2
}
