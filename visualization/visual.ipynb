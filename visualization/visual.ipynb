{
 "cells": [
  {
   "cell_type": "code",
   "execution_count": 1,
   "metadata": {
    "collapsed": true
   },
   "outputs": [],
   "source": [
    "import os\n",
    "import numpy as np\n",
    "import pandas as pd\n",
    "import pickle\n",
    "from sklearn.cluster import KMeans, DBSCAN"
   ]
  },
  {
   "cell_type": "markdown",
   "metadata": {},
   "source": [
    "### 1. App 可视化"
   ]
  },
  {
   "cell_type": "code",
   "execution_count": 2,
   "metadata": {
    "collapsed": true
   },
   "outputs": [],
   "source": [
    "import matplotlib.pyplot as plt\n",
    "from sklearn.manifold import TSNE\n",
    "from sklearn.decomposition import PCA"
   ]
  },
  {
   "cell_type": "code",
   "execution_count": 3,
   "metadata": {
    "collapsed": true
   },
   "outputs": [],
   "source": [
    "def get_node2id(file=None):\n",
    "    if not file:\n",
    "        file = '../resources/node2id.pkl'\n",
    "    node2id = pickle.load(open(file, 'rb'))\n",
    "    print('load node2id from %s, it has %s nodes' % (file, len(node2id)))\n",
    "    return node2id"
   ]
  },
  {
   "cell_type": "code",
   "execution_count": 4,
   "metadata": {},
   "outputs": [
    {
     "name": "stdout",
     "output_type": "stream",
     "text": [
      "load node2id from ../resources/node2id.pkl, it has 25486 nodes\n"
     ]
    }
   ],
   "source": [
    "node2id = get_node2id()\n",
    "id2node = {}\n",
    "for node, val in node2id.items():\n",
    "    if 25467 > val[0] >= 25413:\n",
    "        id2node[val[0] - 25413] = node\n",
    "del node2id\n",
    "node2id = {}\n",
    "for id,node in id2node.items():\n",
    "    node2id[node] = id"
   ]
  },
  {
   "cell_type": "code",
   "execution_count": 5,
   "metadata": {
    "collapsed": true
   },
   "outputs": [],
   "source": [
    "ids = list(id2node.keys())\n",
    "applist = list(id2node.values())"
   ]
  },
  {
   "cell_type": "code",
   "execution_count": 6,
   "metadata": {
    "collapsed": true
   },
   "outputs": [],
   "source": [
    "def get_embeddings(file_name, node2id):  # 每个节点的embedding向量，给dnn的lookup用\n",
    "    \"\"\"\n",
    "    embeddings的节点有的存成id, 有的是名称需要node2id\n",
    "    :param file_name: embeddings file\n",
    "    :param node2id: node:[id, type, count]\n",
    "    :return:\n",
    "    \"\"\"\n",
    "    embeddings_file = os.path.join(\"../network_embedding/embeddings_output/\", file_name)\n",
    "    with open(embeddings_file, 'r') as f:\n",
    "        shape = tuple(map(int, f.readline().split()))\n",
    "        print('node: %s, embedding_size: %s' % shape)\n",
    "        embeddings = np.zeros((54, 128))\n",
    "        for line in f:\n",
    "            splits = line.split()\n",
    "            if line.startswith('金山'):\n",
    "                embeddings[node2id['金山WPS OFFICE手机版']] = list(map(float, splits[2:]))\n",
    "            elif splits[0] in node2id:\n",
    "                embeddings[node2id[splits[0]]] = list(map(float, splits[1:]))\n",
    "            elif splits[0].isdigit() and int(splits[0])-25413 in ids:\n",
    "                embeddings[int(splits[0]) - 25413] = list(map(float, splits[1:]))\n",
    "    return embeddings"
   ]
  },
  {
   "cell_type": "code",
   "execution_count": 14,
   "metadata": {},
   "outputs": [
    {
     "name": "stdout",
     "output_type": "stream",
     "text": [
      "node: 25486, embedding_size: 128\n",
      "node: 25486, embedding_size: 128\n"
     ]
    }
   ],
   "source": [
    "deepwalk_embeddings = get_embeddings('deepwalk.embeddings', node2id)\n",
    "hin2vec_embeddings = get_embeddings('node_vectors.txt', node2id)"
   ]
  },
  {
   "cell_type": "markdown",
   "metadata": {},
   "source": [
    "### app_cat"
   ]
  },
  {
   "cell_type": "code",
   "execution_count": 76,
   "metadata": {
    "collapsed": true
   },
   "outputs": [
    {
     "data": {
      "text/html": [
       "<div>\n",
       "<style>\n",
       "    .dataframe thead tr:only-child th {\n",
       "        text-align: right;\n",
       "    }\n",
       "\n",
       "    .dataframe thead th {\n",
       "        text-align: left;\n",
       "    }\n",
       "\n",
       "    .dataframe tbody tr th {\n",
       "        vertical-align: top;\n",
       "    }\n",
       "</style>\n",
       "<table border=\"1\" class=\"dataframe\">\n",
       "  <thead>\n",
       "    <tr style=\"text-align: right;\">\n",
       "      <th></th>\n",
       "      <th>app</th>\n",
       "      <th>app_cat</th>\n",
       "    </tr>\n",
       "  </thead>\n",
       "  <tbody>\n",
       "    <tr>\n",
       "      <th>0</th>\n",
       "      <td>金山WPS OFFICE手机版</td>\n",
       "      <td>办公管理</td>\n",
       "    </tr>\n",
       "    <tr>\n",
       "      <th>1</th>\n",
       "      <td>百度云</td>\n",
       "      <td>办公管理</td>\n",
       "    </tr>\n",
       "    <tr>\n",
       "      <th>2</th>\n",
       "      <td>钉钉</td>\n",
       "      <td>办公管理</td>\n",
       "    </tr>\n",
       "    <tr>\n",
       "      <th>3</th>\n",
       "      <td>百度地图</td>\n",
       "      <td>便捷生活</td>\n",
       "    </tr>\n",
       "    <tr>\n",
       "      <th>4</th>\n",
       "      <td>高德地图</td>\n",
       "      <td>便捷生活</td>\n",
       "    </tr>\n",
       "    <tr>\n",
       "      <th>5</th>\n",
       "      <td>墨迹天气</td>\n",
       "      <td>便捷生活</td>\n",
       "    </tr>\n",
       "    <tr>\n",
       "      <th>6</th>\n",
       "      <td>58同城</td>\n",
       "      <td>便捷生活</td>\n",
       "    </tr>\n",
       "    <tr>\n",
       "      <th>7</th>\n",
       "      <td>京东商城</td>\n",
       "      <td>电子商务</td>\n",
       "    </tr>\n",
       "    <tr>\n",
       "      <th>8</th>\n",
       "      <td>苏宁</td>\n",
       "      <td>电子商务</td>\n",
       "    </tr>\n",
       "    <tr>\n",
       "      <th>9</th>\n",
       "      <td>蘑菇街</td>\n",
       "      <td>电子商务</td>\n",
       "    </tr>\n",
       "    <tr>\n",
       "      <th>10</th>\n",
       "      <td>一号店</td>\n",
       "      <td>电子商务</td>\n",
       "    </tr>\n",
       "    <tr>\n",
       "      <th>11</th>\n",
       "      <td>网易严选</td>\n",
       "      <td>电子商务</td>\n",
       "    </tr>\n",
       "    <tr>\n",
       "      <th>12</th>\n",
       "      <td>聚美优品</td>\n",
       "      <td>电子商务</td>\n",
       "    </tr>\n",
       "    <tr>\n",
       "      <th>13</th>\n",
       "      <td>洋码头</td>\n",
       "      <td>电子商务</td>\n",
       "    </tr>\n",
       "    <tr>\n",
       "      <th>14</th>\n",
       "      <td>卷皮</td>\n",
       "      <td>电子商务</td>\n",
       "    </tr>\n",
       "    <tr>\n",
       "      <th>15</th>\n",
       "      <td>掌阅书城</td>\n",
       "      <td>电子阅读</td>\n",
       "    </tr>\n",
       "    <tr>\n",
       "      <th>16</th>\n",
       "      <td>追书神器</td>\n",
       "      <td>电子阅读</td>\n",
       "    </tr>\n",
       "    <tr>\n",
       "      <th>17</th>\n",
       "      <td>中华万年历</td>\n",
       "      <td>个人工具</td>\n",
       "    </tr>\n",
       "    <tr>\n",
       "      <th>18</th>\n",
       "      <td>Keep</td>\n",
       "      <td>健康医疗</td>\n",
       "    </tr>\n",
       "    <tr>\n",
       "      <th>19</th>\n",
       "      <td>美柚</td>\n",
       "      <td>健康医疗</td>\n",
       "    </tr>\n",
       "    <tr>\n",
       "      <th>20</th>\n",
       "      <td>平安好医生</td>\n",
       "      <td>健康医疗</td>\n",
       "    </tr>\n",
       "    <tr>\n",
       "      <th>21</th>\n",
       "      <td>柚宝宝孕育</td>\n",
       "      <td>健康医疗</td>\n",
       "    </tr>\n",
       "    <tr>\n",
       "      <th>22</th>\n",
       "      <td>咕咚运动</td>\n",
       "      <td>健康医疗</td>\n",
       "    </tr>\n",
       "    <tr>\n",
       "      <th>23</th>\n",
       "      <td>支付宝</td>\n",
       "      <td>金融理财</td>\n",
       "    </tr>\n",
       "    <tr>\n",
       "      <th>24</th>\n",
       "      <td>大智慧</td>\n",
       "      <td>金融理财</td>\n",
       "    </tr>\n",
       "    <tr>\n",
       "      <th>25</th>\n",
       "      <td>携程旅行</td>\n",
       "      <td>旅行预订</td>\n",
       "    </tr>\n",
       "    <tr>\n",
       "      <th>26</th>\n",
       "      <td>去哪儿旅行网</td>\n",
       "      <td>旅行预订</td>\n",
       "    </tr>\n",
       "    <tr>\n",
       "      <th>27</th>\n",
       "      <td>铁路12306</td>\n",
       "      <td>旅行预订</td>\n",
       "    </tr>\n",
       "    <tr>\n",
       "      <th>28</th>\n",
       "      <td>驴妈妈</td>\n",
       "      <td>旅行预订</td>\n",
       "    </tr>\n",
       "    <tr>\n",
       "      <th>29</th>\n",
       "      <td>南方航空</td>\n",
       "      <td>旅行预订</td>\n",
       "    </tr>\n",
       "    <tr>\n",
       "      <th>30</th>\n",
       "      <td>中国国际航空</td>\n",
       "      <td>旅行预订</td>\n",
       "    </tr>\n",
       "    <tr>\n",
       "      <th>31</th>\n",
       "      <td>海南航空</td>\n",
       "      <td>旅行预订</td>\n",
       "    </tr>\n",
       "    <tr>\n",
       "      <th>32</th>\n",
       "      <td>大众点评网</td>\n",
       "      <td>美食外卖</td>\n",
       "    </tr>\n",
       "    <tr>\n",
       "      <th>33</th>\n",
       "      <td>饿了么</td>\n",
       "      <td>美食外卖</td>\n",
       "    </tr>\n",
       "    <tr>\n",
       "      <th>34</th>\n",
       "      <td>美颜相机</td>\n",
       "      <td>拍摄美化</td>\n",
       "    </tr>\n",
       "    <tr>\n",
       "      <th>35</th>\n",
       "      <td>汽车之家</td>\n",
       "      <td>汽车服务</td>\n",
       "    </tr>\n",
       "    <tr>\n",
       "      <th>36</th>\n",
       "      <td>易车</td>\n",
       "      <td>汽车服务</td>\n",
       "    </tr>\n",
       "    <tr>\n",
       "      <th>37</th>\n",
       "      <td>太平洋汽车</td>\n",
       "      <td>汽车服务</td>\n",
       "    </tr>\n",
       "    <tr>\n",
       "      <th>38</th>\n",
       "      <td>驾考宝典</td>\n",
       "      <td>汽车服务</td>\n",
       "    </tr>\n",
       "    <tr>\n",
       "      <th>39</th>\n",
       "      <td>宝宝树孕育</td>\n",
       "      <td>亲子服务</td>\n",
       "    </tr>\n",
       "    <tr>\n",
       "      <th>40</th>\n",
       "      <td>新浪微博</td>\n",
       "      <td>社交网络</td>\n",
       "    </tr>\n",
       "    <tr>\n",
       "      <th>41</th>\n",
       "      <td>QQ空间</td>\n",
       "      <td>社交网络</td>\n",
       "    </tr>\n",
       "    <tr>\n",
       "      <th>42</th>\n",
       "      <td>探探</td>\n",
       "      <td>社交网络</td>\n",
       "    </tr>\n",
       "    <tr>\n",
       "      <th>43</th>\n",
       "      <td>百度搜索</td>\n",
       "      <td>实用工具</td>\n",
       "    </tr>\n",
       "    <tr>\n",
       "      <th>44</th>\n",
       "      <td>搜狗输入法</td>\n",
       "      <td>实用工具</td>\n",
       "    </tr>\n",
       "    <tr>\n",
       "      <th>45</th>\n",
       "      <td>腾讯视频</td>\n",
       "      <td>视频服务</td>\n",
       "    </tr>\n",
       "    <tr>\n",
       "      <th>46</th>\n",
       "      <td>爱奇艺</td>\n",
       "      <td>视频服务</td>\n",
       "    </tr>\n",
       "    <tr>\n",
       "      <th>47</th>\n",
       "      <td>微信</td>\n",
       "      <td>通讯聊天</td>\n",
       "    </tr>\n",
       "    <tr>\n",
       "      <th>48</th>\n",
       "      <td>QQ</td>\n",
       "      <td>通讯聊天</td>\n",
       "    </tr>\n",
       "    <tr>\n",
       "      <th>49</th>\n",
       "      <td>网易云音乐</td>\n",
       "      <td>音乐音频</td>\n",
       "    </tr>\n",
       "    <tr>\n",
       "      <th>50</th>\n",
       "      <td>酷狗音乐</td>\n",
       "      <td>音乐音频</td>\n",
       "    </tr>\n",
       "    <tr>\n",
       "      <th>51</th>\n",
       "      <td>开心消消乐</td>\n",
       "      <td>游戏服务</td>\n",
       "    </tr>\n",
       "    <tr>\n",
       "      <th>52</th>\n",
       "      <td>贪吃蛇大作战</td>\n",
       "      <td>游戏服务</td>\n",
       "    </tr>\n",
       "    <tr>\n",
       "      <th>53</th>\n",
       "      <td>今日头条</td>\n",
       "      <td>综合资讯</td>\n",
       "    </tr>\n",
       "    <tr>\n",
       "      <th>54</th>\n",
       "      <td>网易新闻</td>\n",
       "      <td>综合资讯</td>\n",
       "    </tr>\n",
       "  </tbody>\n",
       "</table>\n",
       "</div>"
      ],
      "text/plain": [
       "                app app_cat\n",
       "0   金山WPS OFFICE手机版    办公管理\n",
       "1               百度云    办公管理\n",
       "2                钉钉    办公管理\n",
       "3              百度地图    便捷生活\n",
       "4              高德地图    便捷生活\n",
       "5              墨迹天气    便捷生活\n",
       "6              58同城    便捷生活\n",
       "7              京东商城    电子商务\n",
       "8                苏宁    电子商务\n",
       "9               蘑菇街    电子商务\n",
       "10              一号店    电子商务\n",
       "11             网易严选    电子商务\n",
       "12             聚美优品    电子商务\n",
       "13              洋码头    电子商务\n",
       "14               卷皮    电子商务\n",
       "15             掌阅书城    电子阅读\n",
       "16             追书神器    电子阅读\n",
       "17            中华万年历    个人工具\n",
       "18             Keep    健康医疗\n",
       "19               美柚    健康医疗\n",
       "20            平安好医生    健康医疗\n",
       "21            柚宝宝孕育    健康医疗\n",
       "22             咕咚运动    健康医疗\n",
       "23              支付宝    金融理财\n",
       "24              大智慧    金融理财\n",
       "25             携程旅行    旅行预订\n",
       "26           去哪儿旅行网    旅行预订\n",
       "27          铁路12306    旅行预订\n",
       "28              驴妈妈    旅行预订\n",
       "29             南方航空    旅行预订\n",
       "30           中国国际航空    旅行预订\n",
       "31             海南航空    旅行预订\n",
       "32            大众点评网    美食外卖\n",
       "33              饿了么    美食外卖\n",
       "34             美颜相机    拍摄美化\n",
       "35             汽车之家    汽车服务\n",
       "36               易车    汽车服务\n",
       "37            太平洋汽车    汽车服务\n",
       "38             驾考宝典    汽车服务\n",
       "39            宝宝树孕育    亲子服务\n",
       "40             新浪微博    社交网络\n",
       "41             QQ空间    社交网络\n",
       "42               探探    社交网络\n",
       "43             百度搜索    实用工具\n",
       "44            搜狗输入法    实用工具\n",
       "45             腾讯视频    视频服务\n",
       "46              爱奇艺    视频服务\n",
       "47               微信    通讯聊天\n",
       "48               QQ    通讯聊天\n",
       "49            网易云音乐    音乐音频\n",
       "50             酷狗音乐    音乐音频\n",
       "51            开心消消乐    游戏服务\n",
       "52           贪吃蛇大作战    游戏服务\n",
       "53             今日头条    综合资讯\n",
       "54             网易新闻    综合资讯"
      ]
     },
     "execution_count": 76,
     "metadata": {},
     "output_type": "execute_result"
    }
   ],
   "source": [
    "app_cat = pd.read_csv('../resources/app_cat的副本.csv', sep='\\t', encoding='gbk')\n",
    "app_cat.to_csv('../resources/app_cat.csv', index=False, encoding='gbk')\n",
    "app2cat = dict(zip(list(app_cat['app']), list(app_cat['app_cat'])))\n",
    "app_cat"
   ]
  },
  {
   "cell_type": "code",
   "execution_count": 240,
   "metadata": {},
   "outputs": [],
   "source": [
    "colors=['#FFFAFA','#F8F8FF','#F5F5F5','#DCDCDC','#FFFAF0','#FDF5E6','#FAF0E6','#FAEBD7','#FFEFD5','#FFEBCD','#FFE4C4','#FFDAB9','#FFDEAD','#FFE4B5','#FFF8DC','#FFFFF0','#FFFACD','#FFF5EE','#F0FFF0','#F5FFFA','#F0FFFF','#F0F8FF','#E6E6FA','#FFF0F5','#FFE4E1','#FFFFFF','#000000','#2F4F4F','#696969','#708090','#778899','#BEBEBE','#D3D3D3','#191970','#000080','#6495ED','#483D8B','#6A5ACD','#7B68EE','#8470FF','#0000CD','#4169E1','#0000FF','#1E90FF','#00BFFF','#87CEEB','#87CEFA','#4682B4','#B0C4DE','#ADD8E6','#B0E0E6','#AFEEEE','#00CED1','#48D1CC','#40E0D0','#00FFFF','#E0FFFF','#5F9EA0','#66CDAA','#7FFFD4','#006400','#556B2F','#8FBC8F','#2E8B57','#3CB371','#20B2AA','#98FB98','#00FF7F','#7CFC00','#00FF00','#7FFF00','#00FA9A','#ADFF2F','#32CD32','#9ACD32','#228B22','#6B8E23','#BDB76B','#EEE8AA','#FAFAD2','#FFFFE0','#FFFF00','#FFD700','#EEDD82','#DAA520','#B8860B','#BC8F8F','#CD5C5C','#8B4513','#A0522D','#CD853F','#DEB887','#F5F5DC','#F5DEB3','#F4A460','#D2B48C','#D2691E','#B22222','#A52A2A','#E9967A','#FA8072','#FFA07A','#FFA500','#FF8C00','#FF7F50','#F08080','#FF6347','#FF4500','#FF0000','#FF69B4','#FF1493','#FFC0CB','#FFB6C1','#DB7093','#B03060','#C71585','#D02090','#FF00FF','#EE82EE','#DDA0DD','#DA70D6','#BA55D3','#9932CC','#9400D3','#8A2BE2','#A020F0','#9370DB','#D8BFD8','#FFFAFA','#EEE9E9','#CDC9C9','#8B8989','#FFF5EE','#EEE5DE','#CDC5BF','#8B8682','#FFEFDB','#EEDFCC','#CDC0B0','#8B8378','#FFE4C4','#EED5B7','#CDB79E','#8B7D6B','#FFDAB9','#EECBAD','#CDAF95','#8B7765','#FFDEAD','#EECFA1','#CDB38B','#8B795E','#FFFACD','#EEE9BF','#CDC9A5','#8B8970','#FFF8DC','#EEE8CD','#CDC8B1','#8B8878','#FFFFF0','#EEEEE0','#CDCDC1','#8B8B83','#F0FFF0','#E0EEE0','#C1CDC1','#838B83','#FFF0F5','#EEE0E5','#CDC1C5','#8B8386','#FFE4E1','#EED5D2','#CDB7B5','#8B7D7B','#F0FFFF','#E0EEEE','#C1CDCD','#838B8B','#836FFF','#7A67EE','#6959CD','#473C8B','#4876FF','#436EEE','#3A5FCD','#27408B','#0000FF','#0000EE','#0000CD','#00008B','#1E90FF','#1C86EE','#1874CD','#104E8B','#63B8FF','#5CACEE','#4F94CD','#36648B','#00BFFF','#00B2EE','#009ACD','#00688B','#87CEFF','#7EC0EE','#6CA6CD','#4A708B','#B0E2FF','#A4D3EE','#8DB6CD','#607B8B','#C6E2FF','#B9D3EE','#9FB6CD','#6C7B8B','#CAE1FF','#BCD2EE','#A2B5CD','#6E7B8B','#BFEFFF','#B2DFEE','#9AC0CD','#68838B','#E0FFFF','#D1EEEE','#B4CDCD','#7A8B8B','#BBFFFF','#AEEEEE','#96CDCD','#668B8B','#98F5FF','#8EE5EE','#7AC5CD','#53868B','#00F5FF','#00E5EE','#00C5CD','#00868B','#00FFFF','#00EEEE','#00CDCD','#008B8B','#97FFFF','#8DEEEE','#79CDCD','#528B8B','#7FFFD4','#76EEC6','#66CDAA','#458B74','#C1FFC1','#B4EEB4','#9BCD9B','#698B69','#54FF9F','#4EEE94','#43CD80','#2E8B57','#9AFF9A','#90EE90','#7CCD7C','#548B54','#00FF7F','#00EE76','#00CD66','#008B45','#00FF00','#00EE00','#00CD00','#008B00','#7FFF00','#76EE00','#66CD00','#458B00','#C0FF3E','#B3EE3A','#9ACD32','#698B22','#CAFF70','#BCEE68','#A2CD5A','#6E8B3D','#FFF68F','#EEE685','#CDC673','#8B864E','#FFEC8B','#EEDC82','#CDBE70','#8B814C','#FFFFE0','#EEEED1','#CDCDB4','#8B8B7A','#FFFF00','#EEEE00','#CDCD00','#8B8B00','#FFD700','#EEC900','#CDAD00','#8B7500','#FFC125','#EEB422','#CD9B1D','#8B6914','#FFB90F','#EEAD0E','#CD950C','#8B658B','#FFC1C1','#EEB4B4','#CD9B9B','#8B6969','#FF6A6A','#EE6363','#CD5555','#8B3A3A','#FF8247','#EE7942','#CD6839','#8B4726','#FFD39B','#EEC591','#CDAA7D','#8B7355','#FFE7BA','#EED8AE','#CDBA96','#8B7E66','#FFA54F','#EE9A49','#CD853F','#8B5A2B','#FF7F24','#EE7621','#CD661D','#8B4513','#FF3030','#EE2C2C','#CD2626','#8B1A1A','#FF4040','#EE3B3B','#CD3333','#8B2323','#FF8C69','#EE8262','#CD7054','#8B4C39','#FFA07A','#EE9572','#CD8162','#8B5742','#FFA500','#EE9A00','#CD8500','#8B5A00','#FF7F00','#EE7600','#CD6600','#8B4500','#FF7256','#EE6A50','#CD5B45','#8B3E2F','#FF6347','#EE5C42','#CD4F39','#8B3626','#FF4500','#EE4000','#CD3700','#8B2500','#FF0000','#EE0000','#CD0000','#8B0000','#FF1493','#EE1289','#CD1076','#8B0A50','#FF6EB4','#EE6AA7','#CD6090','#8B3A62','#FFB5C5','#EEA9B8','#CD919E','#8B636C','#FFAEB9','#EEA2AD','#CD8C95','#8B5F65','#FF82AB','#EE799F','#CD6889','#8B475D','#FF34B3','#EE30A7','#CD2990','#8B1C62','#FF3E96','#EE3A8C','#CD3278','#8B2252','#FF00FF','#EE00EE','#CD00CD','#8B008B','#FF83FA','#EE7AE9','#CD69C9','#8B4789','#FFBBFF','#EEAEEE','#CD96CD','#8B668B','#E066FF','#D15FEE','#B452CD','#7A378B','#BF3EFF','#B23AEE','#9A32CD','#68228B','#9B30FF','#912CEE','#7D26CD','#551A8B','#AB82FF','#9F79EE','#8968CD','#5D478B','#FFE1FF','#EED2EE','#CDB5CD','#8B7B8B','#1C1C1C','#363636','#4F4F4F','#696969','#828282','#9C9C9C','#B5B5B5','#CFCFCF','#E8E8E8','#A9A9A9','#00008B','#008B8B','#8B008B','#8B0000','#90EE90']\n",
    "len(colors)\n",
    "colors = np.random.choice(colors, 19)"
   ]
  },
  {
   "cell_type": "code",
   "execution_count": 256,
   "metadata": {},
   "outputs": [],
   "source": [
    "# colorMap = {\n",
    "# #     '电子商务': '#FF0033',  #红色\n",
    "# #     '健康医疗': '#33CC33',  #绿色\n",
    "#     '旅行预订': '#66CCFF',  #浅蓝\n",
    "#     '汽车服务': '#333399',  #蓝紫\n",
    "#     '通讯聊天': '#9933CC',  #紫色\n",
    "#     '社交网络': '#FF6666',  #粉色\n",
    "#     '音乐音频': '#FF9900',  #橙色\n",
    "#     '便捷生活': '#33CC33',  #绿色\n",
    "# }\n",
    "colorMap = dict(zip(cat, colors))\n",
    "colorMap['通讯聊天'] = '#9933CC'  #紫色\n",
    "colorMap['社交网络'] = '#FF6666' #粉色\n",
    "def get_color(app):\n",
    "    cat = app2cat[app]\n",
    "    if cat not in colorMap:\n",
    "        return '#CCCCCC'\n",
    "    return colorMap[cat]"
   ]
  },
  {
   "cell_type": "code",
   "execution_count": 335,
   "metadata": {},
   "outputs": [],
   "source": [
    "from matplotlib.font_manager import FontProperties\n",
    "font=FontProperties(fname='/Library/Fonts/Songti.ttc', size=6)"
   ]
  },
  {
   "cell_type": "code",
   "execution_count": 322,
   "metadata": {},
   "outputs": [
    {
     "data": {
      "image/png": "[encoded data removed]",
      "text/plain": [
       "<matplotlib.figure.Figure at 0x1a22a1af60>"
      ]
     },
     "metadata": {},
     "output_type": "display_data"
    }
   ],
   "source": [
    "anchor = np.random.uniform(size=(19,2))\n",
    "anchor = []\n",
    "for i in np.arange(5):\n",
    "    for j in np.arange(4):\n",
    "        anchor.append([i, j])\n",
    "anchor = np.array(anchor) * 0.2 \n",
    "anchor = anchor[np.random.choice(20, 19, replace=False)]\n",
    "fig = plt.figure()\n",
    "plt.scatter(anchor[:,0], anchor[:, 1])\n",
    "plt.show()"
   ]
  },
  {
   "cell_type": "code",
   "execution_count": 323,
   "metadata": {},
   "outputs": [
    {
     "data": {
      "image/png": "[encoded data removed]",
      "text/plain": [
       "<matplotlib.figure.Figure at 0x1a22a3b5f8>"
      ]
     },
     "metadata": {},
     "output_type": "display_data"
    }
   ],
   "source": [
    "from adjustText import adjust_text\n",
    "cat = sorted(set(app2cat.values()))\n",
    "cat2id = dict(zip(cat, range(19)))\n",
    "appid2catid = {}\n",
    "for appid, app in id2node.items():\n",
    "    appid2catid[appid] = cat2id[app2cat[app]]\n",
    "fig = plt.figure()\n",
    "data = PCA(n_components=3).fit_transform(hin2vec_embeddings)\n",
    "xmin,xmax = data.min(),data.max()\n",
    "data = (data-xmin)/(xmax-xmin)\n",
    "texts = []\n",
    "for i in range(data.shape[0]):\n",
    "    color = get_color(id2node[i])\n",
    "    if color:\n",
    "        x = data[i, 2] + anchor[appid2catid[i], 0]\n",
    "        y = data[i, 1] + anchor[appid2catid[i], 1]\n",
    "        plt.scatter(x, y, alpha=0.5, color=color)\n",
    "        texts.append(plt.text(x, y, str(id2node[i]), fontproperties=font, color=color))\n",
    "adjust_text(texts, only_move={'points':'y', 'text':'y'}) \n",
    "plt.xticks([])\n",
    "plt.yticks([])\n",
    "plt.savefig('./output/hin2vec.jpg', dpi=400)\n",
    "plt.show()\n",
    "!open output/hin2vec.jpg"
   ]
  },
  {
   "cell_type": "code",
   "execution_count": 372,
   "metadata": {},
   "outputs": [
    {
     "data": {
      "image/png": "[encoded data removed]",
      "text/plain": [
       "<matplotlib.figure.Figure at 0x1a228fefd0>"
      ]
     },
     "metadata": {},
     "output_type": "display_data"
    }
   ],
   "source": [
    "fig = plt.figure()\n",
    "data = TSNE(n_components=2).fit_transform(deepwalk_embeddings)\n",
    "xmin,xmax = data.min(),data.max()\n",
    "data = (data-xmin)/(xmax-xmin)\n",
    "texts = []\n",
    "for i in range(data.shape[0]):\n",
    "    color = get_color(id2node[i])\n",
    "    if color:\n",
    "        x = data[i, 0]\n",
    "        y = data[i, 1]\n",
    "        plt.scatter(x, y, alpha=0.5, color=color)\n",
    "        texts.append(plt.text(x, y, str(id2node[i]), fontproperties=font, color=color))\n",
    "adjust_text(texts, only_move={'points':'y', 'text':'y'}) \n",
    "plt.xticks([])\n",
    "plt.yticks([])\n",
    "plt.savefig('./output/deepwalk.jpg', dpi=400)\n",
    "plt.show()\n",
    "!open output/deepwalk.jpg"
   ]
  },
  {
   "cell_type": "code",
   "execution_count": 370,
   "metadata": {
    "collapsed": true
   },
   "outputs": [],
   "source": [
    "def reduction_and_plot(model, data, file):\n",
    "#     xmin, xmax = np.min(data, axis=0, keepdims=True), np.max(data, axis=0, keepdims=True)\n",
    "#     data = (data - xmin)/(xmax - xmin)\n",
    "#     data = data/np.sqrt(np.sum(np.square(data), axis=1, keepdims=True))\n",
    "    data = model(n_components=4).fit_transform(data)\n",
    "    fig = plt.figure()\n",
    "    for i in range(data.shape[0]):\n",
    "        if id2node[i] in ['搜狗输入法', 'QQ空间', '网易云音乐']:\n",
    "            continue\n",
    "        color = get_color(id2node[i])\n",
    "        if color:\n",
    "            plt.scatter(data[i, 1], data[i, 2], alpha=0.5, color=color)\n",
    "            plt.text(data[i, 1], data[i, 2], str(id2node[i]), fontproperties=font,\n",
    "                     color=color)\n",
    "#                      fontdict={'weight': 'bold', 'size': 10})\n",
    "    plt.xticks([])\n",
    "    plt.yticks([])\n",
    "    plt.savefig(file, dpi=400)\n",
    "    plt.show()"
   ]
  },
  {
   "cell_type": "code",
   "execution_count": 371,
   "metadata": {},
   "outputs": [
    {
     "data": {
      "image/png": "[encoded data removed]",
      "text/plain": [
       "<matplotlib.figure.Figure at 0x1a24a85080>"
      ]
     },
     "metadata": {},
     "output_type": "display_data"
    }
   ],
   "source": [
    "reduction_and_plot(PCA, deepwalk_embeddings, './output/deepwalk.jpg')\n",
    "!open output/deepwalk.jpg"
   ]
  },
  {
   "cell_type": "markdown",
   "metadata": {},
   "source": [
    "### 2. 余弦距离"
   ]
  },
  {
   "cell_type": "code",
   "execution_count": 151,
   "metadata": {
    "collapsed": true
   },
   "outputs": [],
   "source": [
    "def cosine(x,y):\n",
    "    return np.sum(x*y)/(np.linalg.norm(x) * np.linalg.norm(y))"
   ]
  },
  {
   "cell_type": "code",
   "execution_count": 152,
   "metadata": {},
   "outputs": [
    {
     "data": {
      "text/plain": [
       "2.2360679774997898"
      ]
     },
     "execution_count": 152,
     "metadata": {},
     "output_type": "execute_result"
    }
   ],
   "source": [
    "x = np.array([1,2])\n",
    "y = np.array([1,2])\n",
    "np.linalg.norm(x)"
   ]
  },
  {
   "cell_type": "code",
   "execution_count": 154,
   "metadata": {},
   "outputs": [
    {
     "data": {
      "text/plain": [
       "0.0"
      ]
     },
     "execution_count": 154,
     "metadata": {},
     "output_type": "execute_result"
    }
   ],
   "source": [
    "x = np.array([1,0])\n",
    "y = np.array([0,2])\n",
    "cosine(x,y)"
   ]
  },
  {
   "cell_type": "code",
   "execution_count": 175,
   "metadata": {},
   "outputs": [
    {
     "data": {
      "text/plain": [
       "{'58同城': 38,\n",
       " 'Keep': 11,\n",
       " 'QQ': 0,\n",
       " 'QQ空间': 29,\n",
       " '一号店': 25,\n",
       " '中华万年历': 35,\n",
       " '中国国际航空': 53,\n",
       " '京东商城': 19,\n",
       " '今日头条': 8,\n",
       " '南方航空': 40,\n",
       " '卷皮': 48,\n",
       " '去哪儿旅行网': 32,\n",
       " '咕咚运动': 51,\n",
       " '墨迹天气': 23,\n",
       " '大众点评网': 9,\n",
       " '大智慧': 37,\n",
       " '太平洋汽车': 33,\n",
       " '宝宝树孕育': 28,\n",
       " '平安好医生': 31,\n",
       " '开心消消乐': 2,\n",
       " '微信': 1,\n",
       " '掌阅书城': 27,\n",
       " '探探': 47,\n",
       " '搜狗输入法': 12,\n",
       " '携程旅行': 20,\n",
       " '支付宝': 14,\n",
       " '新浪微博': 3,\n",
       " '易车': 45,\n",
       " '汽车之家': 5,\n",
       " '洋码头': 49,\n",
       " '海南航空': 52,\n",
       " '爱奇艺': 18,\n",
       " '百度云': 21,\n",
       " '百度地图': 7,\n",
       " '百度搜索': 4,\n",
       " '网易严选': 44,\n",
       " '网易云音乐': 10,\n",
       " '网易新闻': 15,\n",
       " '美柚': 43,\n",
       " '美颜相机': 26,\n",
       " '聚美优品': 22,\n",
       " '腾讯视频': 6,\n",
       " '苏宁': 17,\n",
       " '蘑菇街': 30,\n",
       " '贪吃蛇大作战': 24,\n",
       " '追书神器': 34,\n",
       " '酷狗音乐': 16,\n",
       " '金山WPS OFFICE手机版': 46,\n",
       " '钉钉': 42,\n",
       " '铁路12306': 39,\n",
       " '饿了么': 36,\n",
       " '驴妈妈': 41,\n",
       " '驾考宝典': 50,\n",
       " '高德地图': 13}"
      ]
     },
     "execution_count": 175,
     "metadata": {},
     "output_type": "execute_result"
    }
   ],
   "source": [
    "node2id"
   ]
  },
  {
   "cell_type": "code",
   "execution_count": 155,
   "metadata": {},
   "outputs": [
    {
     "data": {
      "text/plain": [
       "(53, 52, 40, 1, 0)"
      ]
     },
     "execution_count": 155,
     "metadata": {},
     "output_type": "execute_result"
    }
   ],
   "source": [
    "node2id['中国国际航空'],node2id['海南航空'],node2id['南方航空'],node2id['微信'],node2id['QQ']"
   ]
  },
  {
   "cell_type": "code",
   "execution_count": 159,
   "metadata": {},
   "outputs": [
    {
     "data": {
      "text/plain": [
       "(0.065774633981105057, 0.95788760904166659)"
      ]
     },
     "execution_count": 159,
     "metadata": {},
     "output_type": "execute_result"
    }
   ],
   "source": [
    "# 中国国际航空， 海南航空\n",
    "cosine(deepwalk_embeddings[53], deepwalk_embeddings[52]), cosine(hin2vec_embeddings[53], hin2vec_embeddings[52])"
   ]
  },
  {
   "cell_type": "code",
   "execution_count": 161,
   "metadata": {},
   "outputs": [
    {
     "data": {
      "text/plain": [
       "(0.062914119908291585, 0.88248756059140288)"
      ]
     },
     "execution_count": 161,
     "metadata": {},
     "output_type": "execute_result"
    }
   ],
   "source": [
    "# 中国国际航空，南方航空\n",
    "cosine(deepwalk_embeddings[53], deepwalk_embeddings[40]), cosine(hin2vec_embeddings[53], hin2vec_embeddings[40])"
   ]
  },
  {
   "cell_type": "code",
   "execution_count": 163,
   "metadata": {},
   "outputs": [
    {
     "data": {
      "text/plain": [
       "(0.04357321442138995, 0.84857839452407913)"
      ]
     },
     "execution_count": 163,
     "metadata": {},
     "output_type": "execute_result"
    }
   ],
   "source": [
    "# 海南航空，南方航空\n",
    "cosine(deepwalk_embeddings[52], deepwalk_embeddings[40]), cosine(hin2vec_embeddings[52], hin2vec_embeddings[40])"
   ]
  },
  {
   "cell_type": "code",
   "execution_count": 160,
   "metadata": {},
   "outputs": [
    {
     "data": {
      "text/plain": [
       "(0.10410818652120829, -0.68654274621316314)"
      ]
     },
     "execution_count": 160,
     "metadata": {},
     "output_type": "execute_result"
    }
   ],
   "source": [
    "# 中国国际航空，微信\n",
    "cosine(deepwalk_embeddings[53], deepwalk_embeddings[0]), cosine(hin2vec_embeddings[0], hin2vec_embeddings[53])"
   ]
  },
  {
   "cell_type": "code",
   "execution_count": 162,
   "metadata": {
    "scrolled": true
   },
   "outputs": [
    {
     "data": {
      "text/plain": [
       "(0.16023188307399253, 0.99291841346586596)"
      ]
     },
     "execution_count": 162,
     "metadata": {},
     "output_type": "execute_result"
    }
   ],
   "source": [
    "# 微信，QQ\n",
    "cosine(deepwalk_embeddings[1], deepwalk_embeddings[0]), cosine(hin2vec_embeddings[1], hin2vec_embeddings[0])"
   ]
  },
  {
   "cell_type": "code",
   "execution_count": 164,
   "metadata": {},
   "outputs": [
    {
     "data": {
      "text/plain": [
       "(14, 4, 6, 2)"
      ]
     },
     "execution_count": 164,
     "metadata": {},
     "output_type": "execute_result"
    }
   ],
   "source": [
    "node2id['支付宝'], node2id['百度搜索'], node2id['腾讯视频'], node2id['开心消消乐']"
   ]
  },
  {
   "cell_type": "code",
   "execution_count": 165,
   "metadata": {},
   "outputs": [
    {
     "data": {
      "text/plain": [
       "(0.5175179128171431, 0.98990812827053531)"
      ]
     },
     "execution_count": 165,
     "metadata": {},
     "output_type": "execute_result"
    }
   ],
   "source": [
    "#微信，支付宝\n",
    "cosine(deepwalk_embeddings[1], deepwalk_embeddings[14]), cosine(hin2vec_embeddings[1], hin2vec_embeddings[14])"
   ]
  },
  {
   "cell_type": "code",
   "execution_count": 166,
   "metadata": {},
   "outputs": [
    {
     "data": {
      "text/plain": [
       "(0.034727533349282691, 0.99161182532403092)"
      ]
     },
     "execution_count": 166,
     "metadata": {},
     "output_type": "execute_result"
    }
   ],
   "source": [
    "#微信，腾讯视频\n",
    "cosine(deepwalk_embeddings[1], deepwalk_embeddings[6]), cosine(hin2vec_embeddings[1], hin2vec_embeddings[6])"
   ]
  },
  {
   "cell_type": "code",
   "execution_count": 168,
   "metadata": {},
   "outputs": [
    {
     "data": {
      "text/plain": [
       "(0.45601947974050644, 0.99236060401722781)"
      ]
     },
     "execution_count": 168,
     "metadata": {},
     "output_type": "execute_result"
    }
   ],
   "source": [
    "#微信，开心消消乐\n",
    "cosine(deepwalk_embeddings[1], deepwalk_embeddings[2]), cosine(hin2vec_embeddings[1], hin2vec_embeddings[2])"
   ]
  },
  {
   "cell_type": "code",
   "execution_count": 169,
   "metadata": {},
   "outputs": [
    {
     "data": {
      "text/plain": [
       "(45, 5, 33, 50)"
      ]
     },
     "execution_count": 169,
     "metadata": {},
     "output_type": "execute_result"
    }
   ],
   "source": [
    "node2id['易车'],node2id['汽车之家'],node2id['太平洋汽车'], node2id['驾考宝典']"
   ]
  },
  {
   "cell_type": "code",
   "execution_count": 170,
   "metadata": {},
   "outputs": [
    {
     "data": {
      "text/plain": [
       "(0.10166851989514235, 0.74390786757885119)"
      ]
     },
     "execution_count": 170,
     "metadata": {},
     "output_type": "execute_result"
    }
   ],
   "source": [
    "# 易车，太平洋汽车\n",
    "cosine(deepwalk_embeddings[45], deepwalk_embeddings[33]), cosine(hin2vec_embeddings[45], hin2vec_embeddings[33])"
   ]
  },
  {
   "cell_type": "code",
   "execution_count": 172,
   "metadata": {},
   "outputs": [
    {
     "data": {
      "text/plain": [
       "(0.078137730836834826, 0.72653801142592978)"
      ]
     },
     "execution_count": 172,
     "metadata": {},
     "output_type": "execute_result"
    }
   ],
   "source": [
    "# 易车，驾考宝典\n",
    "cosine(deepwalk_embeddings[45], deepwalk_embeddings[50]), cosine(hin2vec_embeddings[45], hin2vec_embeddings[50])"
   ]
  },
  {
   "cell_type": "code",
   "execution_count": 171,
   "metadata": {},
   "outputs": [
    {
     "data": {
      "text/plain": [
       "(0.08026763173938653, 0.31687233497754891)"
      ]
     },
     "execution_count": 171,
     "metadata": {},
     "output_type": "execute_result"
    }
   ],
   "source": [
    "# 易车，汽车之家\n",
    "cosine(deepwalk_embeddings[45], deepwalk_embeddings[5]), cosine(hin2vec_embeddings[45], hin2vec_embeddings[5])"
   ]
  },
  {
   "cell_type": "code",
   "execution_count": 173,
   "metadata": {},
   "outputs": [
    {
     "data": {
      "text/plain": [
       "(10, 16)"
      ]
     },
     "execution_count": 173,
     "metadata": {},
     "output_type": "execute_result"
    }
   ],
   "source": [
    "node2id['网易云音乐'],node2id['酷狗音乐'],node2id[]"
   ]
  },
  {
   "cell_type": "code",
   "execution_count": 174,
   "metadata": {},
   "outputs": [
    {
     "data": {
      "text/plain": [
       "(0.022547125157545658, 0.86211322150475067)"
      ]
     },
     "execution_count": 174,
     "metadata": {},
     "output_type": "execute_result"
    }
   ],
   "source": [
    "# 网易云音乐，酷狗音乐\n",
    "cosine(deepwalk_embeddings[10], deepwalk_embeddings[16]), cosine(hin2vec_embeddings[10], hin2vec_embeddings[16])"
   ]
  },
  {
   "cell_type": "code",
   "execution_count": 176,
   "metadata": {},
   "outputs": [
    {
     "data": {
      "text/plain": [
       "(0.094198421028412319, 0.92066382632023103)"
      ]
     },
     "execution_count": 176,
     "metadata": {},
     "output_type": "execute_result"
    }
   ],
   "source": [
    "# 网易云音乐，网易新闻\n",
    "cosine(deepwalk_embeddings[10], deepwalk_embeddings[15]), cosine(hin2vec_embeddings[10], hin2vec_embeddings[15])"
   ]
  },
  {
   "cell_type": "code",
   "execution_count": 177,
   "metadata": {},
   "outputs": [
    {
     "data": {
      "text/plain": [
       "(0.039416622813176865, 0.53844973372429716)"
      ]
     },
     "execution_count": 177,
     "metadata": {},
     "output_type": "execute_result"
    }
   ],
   "source": [
    "# 网易云音乐，网易严选\n",
    "cosine(deepwalk_embeddings[10], deepwalk_embeddings[44]), cosine(hin2vec_embeddings[10], hin2vec_embeddings[44])"
   ]
  },
  {
   "cell_type": "code",
   "execution_count": 178,
   "metadata": {},
   "outputs": [
    {
     "data": {
      "text/plain": [
       "(0.11834424425919902, 0.66653575559399891)"
      ]
     },
     "execution_count": 178,
     "metadata": {},
     "output_type": "execute_result"
    }
   ],
   "source": [
    "# 一号店，聚美优品\n",
    "cosine(deepwalk_embeddings[25], deepwalk_embeddings[22]), cosine(hin2vec_embeddings[25], hin2vec_embeddings[22])"
   ]
  },
  {
   "cell_type": "code",
   "execution_count": 179,
   "metadata": {},
   "outputs": [
    {
     "data": {
      "text/plain": [
       "(0.05946539930229601, 0.7534784512416437)"
      ]
     },
     "execution_count": 179,
     "metadata": {},
     "output_type": "execute_result"
    }
   ],
   "source": [
    "# 一号店，蘑菇街\n",
    "cosine(deepwalk_embeddings[25], deepwalk_embeddings[30]), cosine(hin2vec_embeddings[25], hin2vec_embeddings[30])"
   ]
  },
  {
   "cell_type": "code",
   "execution_count": 182,
   "metadata": {},
   "outputs": [
    {
     "data": {
      "text/plain": [
       "(0.14491501917734234, 0.64158260392679844)"
      ]
     },
     "execution_count": 182,
     "metadata": {},
     "output_type": "execute_result"
    }
   ],
   "source": [
    "# 一号店，网易严选\n",
    "cosine(deepwalk_embeddings[25], deepwalk_embeddings[44]), cosine(hin2vec_embeddings[25], hin2vec_embeddings[44])"
   ]
  },
  {
   "cell_type": "code",
   "execution_count": 184,
   "metadata": {},
   "outputs": [
    {
     "data": {
      "text/plain": [
       "(0.57960179785798016, 0.74807762528729405)"
      ]
     },
     "execution_count": 184,
     "metadata": {},
     "output_type": "execute_result"
    }
   ],
   "source": [
    "# 一号店，京东商城\n",
    "cosine(deepwalk_embeddings[25], deepwalk_embeddings[19]), cosine(hin2vec_embeddings[25], hin2vec_embeddings[19])"
   ]
  },
  {
   "cell_type": "code",
   "execution_count": 186,
   "metadata": {},
   "outputs": [
    {
     "data": {
      "text/plain": [
       "(0.11897880509257702, -0.01400188511653325)"
      ]
     },
     "execution_count": 186,
     "metadata": {},
     "output_type": "execute_result"
    }
   ],
   "source": [
    "cosine(deepwalk_embeddings[25], deepwalk_embeddings[49]), cosine(hin2vec_embeddings[25], hin2vec_embeddings[49])"
   ]
  },
  {
   "cell_type": "code",
   "execution_count": 187,
   "metadata": {},
   "outputs": [
    {
     "data": {
      "text/plain": [
       "(0.15789951915141645, 0.79628270357019493)"
      ]
     },
     "execution_count": 187,
     "metadata": {},
     "output_type": "execute_result"
    }
   ],
   "source": [
    "# 苏宁，京东\n",
    "cosine(deepwalk_embeddings[17], deepwalk_embeddings[19]), cosine(hin2vec_embeddings[17], hin2vec_embeddings[19])"
   ]
  },
  {
   "cell_type": "code",
   "execution_count": 189,
   "metadata": {},
   "outputs": [
    {
     "data": {
      "text/plain": [
       "(0.19354540180579299, 0.79523522975130789)"
      ]
     },
     "execution_count": 189,
     "metadata": {},
     "output_type": "execute_result"
    }
   ],
   "source": [
    "# 一号店，苏宁\n",
    "cosine(deepwalk_embeddings[25], deepwalk_embeddings[17]), cosine(hin2vec_embeddings[25], hin2vec_embeddings[17])"
   ]
  },
  {
   "cell_type": "code",
   "execution_count": 190,
   "metadata": {},
   "outputs": [
    {
     "data": {
      "text/plain": [
       "(0.047470726457337763, 0.2798278497190817)"
      ]
     },
     "execution_count": 190,
     "metadata": {},
     "output_type": "execute_result"
    }
   ],
   "source": [
    "# 易车，网易云音乐\n",
    "cosine(deepwalk_embeddings[45], deepwalk_embeddings[10]), cosine(hin2vec_embeddings[45], hin2vec_embeddings[10])"
   ]
  },
  {
   "cell_type": "code",
   "execution_count": 193,
   "metadata": {},
   "outputs": [
    {
     "data": {
      "text/plain": [
       "(0.18679328734709597, 0.47588563776777298)"
      ]
     },
     "execution_count": 193,
     "metadata": {},
     "output_type": "execute_result"
    }
   ],
   "source": [
    "# 一号店，易车\n",
    "cosine(deepwalk_embeddings[25], deepwalk_embeddings[45]), cosine(hin2vec_embeddings[25], hin2vec_embeddings[45])"
   ]
  },
  {
   "cell_type": "code",
   "execution_count": 194,
   "metadata": {},
   "outputs": [
    {
     "data": {
      "text/plain": [
       "(0.57727964695915956, 0.71345517244481238)"
      ]
     },
     "execution_count": 194,
     "metadata": {},
     "output_type": "execute_result"
    }
   ],
   "source": [
    "# 一号店，微信\n",
    "cosine(deepwalk_embeddings[25], deepwalk_embeddings[1]), cosine(hin2vec_embeddings[25], hin2vec_embeddings[1])"
   ]
  },
  {
   "cell_type": "code",
   "execution_count": 196,
   "metadata": {},
   "outputs": [
    {
     "data": {
      "text/plain": [
       "(0.097070330773367658, 0.76386364275097773)"
      ]
     },
     "execution_count": 196,
     "metadata": {},
     "output_type": "execute_result"
    }
   ],
   "source": [
    "# 一号店，网易云音乐\n",
    "cosine(deepwalk_embeddings[25], deepwalk_embeddings[10]), cosine(hin2vec_embeddings[25], hin2vec_embeddings[10])"
   ]
  },
  {
   "cell_type": "code",
   "execution_count": null,
   "metadata": {
    "collapsed": true
   },
   "outputs": [],
   "source": []
  }
 ],
 "metadata": {
  "kernelspec": {
   "display_name": "Python 3",
   "language": "python",
   "name": "python3"
  },
  "language_info": {
   "codemirror_mode": {
    "name": "ipython",
    "version": 3
   },
   "file_extension": ".py",
   "mimetype": "text/x-python",
   "name": "python",
   "nbconvert_exporter": "python",
   "pygments_lexer": "ipython3",
   "version": "3.6.2"
  }
 },
 "nbformat": 4,
 "nbformat_minor": 2
}
