{
 "cells": [
  {
   "cell_type": "code",
   "execution_count": 1,
   "metadata": {
    "collapsed": true
   },
   "outputs": [],
   "source": [
    "import os\n",
    "import numpy as np\n",
    "import pandas as pd\n",
    "import pickle\n",
    "from sklearn.cluster import KMeans, DBSCAN"
   ]
  },
  {
   "cell_type": "markdown",
   "metadata": {},
   "source": [
    "### 1. App 可视化"
   ]
  },
  {
   "cell_type": "code",
   "execution_count": 2,
   "metadata": {
    "collapsed": true
   },
   "outputs": [],
   "source": [
    "import matplotlib.pyplot as plt\n",
    "from sklearn.manifold import TSNE\n",
    "from sklearn.decomposition import PCA"
   ]
  },
  {
   "cell_type": "code",
   "execution_count": 3,
   "metadata": {
    "collapsed": true
   },
   "outputs": [],
   "source": [
    "def get_node2id(file=None):\n",
    "    if not file:\n",
    "        file = '../resources/node2id.pkl'\n",
    "    node2id = pickle.load(open(file, 'rb'))\n",
    "    print('load node2id from %s, it has %s nodes' % (file, len(node2id)))\n",
    "    return node2id"
   ]
  },
  {
   "cell_type": "code",
   "execution_count": 4,
   "metadata": {},
   "outputs": [
    {
     "name": "stdout",
     "output_type": "stream",
     "text": [
      "load node2id from ../resources/node2id.pkl, it has 25486 nodes\n"
     ]
    }
   ],
   "source": [
    "node2id = get_node2id()\n",
    "id2node = {}\n",
    "for node, val in node2id.items():\n",
    "    if 25467 > val[0] >= 25413:\n",
    "        id2node[val[0] - 25413] = node\n",
    "del node2id\n",
    "node2id = {}\n",
    "for id,node in id2node.items():\n",
    "    node2id[node] = id"
   ]
  },
  {
   "cell_type": "code",
   "execution_count": 5,
   "metadata": {
    "collapsed": true
   },
   "outputs": [],
   "source": [
    "ids = list(id2node.keys())\n",
    "applist = list(id2node.values())"
   ]
  },
  {
   "cell_type": "code",
   "execution_count": 6,
   "metadata": {
    "collapsed": true
   },
   "outputs": [],
   "source": [
    "def get_embeddings(file_name, node2id):  # 每个节点的embedding向量，给dnn的lookup用\n",
    "    \"\"\"\n",
    "    embeddings的节点有的存成id, 有的是名称需要node2id\n",
    "    :param file_name: embeddings file\n",
    "    :param node2id: node:[id, type, count]\n",
    "    :return:\n",
    "    \"\"\"\n",
    "    embeddings_file = os.path.join(\"../network_embedding/embeddings_output/\", file_name)\n",
    "    with open(embeddings_file, 'r') as f:\n",
    "        shape = tuple(map(int, f.readline().split()))\n",
    "        print('node: %s, embedding_size: %s' % shape)\n",
    "        embeddings = np.zeros((54, 128))\n",
    "        for line in f:\n",
    "            splits = line.split()\n",
    "            if line.startswith('金山'):\n",
    "                embeddings[node2id['金山WPS OFFICE手机版']] = list(map(float, splits[2:]))\n",
    "            elif splits[0] in node2id:\n",
    "                embeddings[node2id[splits[0]]] = list(map(float, splits[1:]))\n",
    "            elif splits[0].isdigit() and int(splits[0])-25413 in ids:\n",
    "                embeddings[int(splits[0]) - 25413] = list(map(float, splits[1:]))\n",
    "    return embeddings"
   ]
  },
  {
   "cell_type": "code",
   "execution_count": 7,
   "metadata": {},
   "outputs": [
    {
     "name": "stdout",
     "output_type": "stream",
     "text": [
      "node: 25486, embedding_size: 128\n",
      "node: 25486, embedding_size: 128\n"
     ]
    }
   ],
   "source": [
    "deepwalk_embeddings = get_embeddings('deepwalk.embeddings', node2id)\n",
    "hin2vec_embeddings = get_embeddings('node_vectors.txt', node2id)"
   ]
  },
  {
   "cell_type": "code",
   "execution_count": 17,
   "metadata": {
    "collapsed": true
   },
   "outputs": [],
   "source": [
    "from matplotlib.font_manager import FontProperties\n",
    "font=FontProperties(fname='/Library/Fonts/Songti.ttc', size=5)\n",
    "\n",
    "def reduction_and_plot(model, data, file):\n",
    "#     xmin, xmax = np.min(data, axis=1, keepdims=True), np.max(data, axis=1, keepdims=True)\n",
    "#     data = (data - xmin)/(xmax - xmin)\n",
    "#     data = data/np.sqrt(np.sum(np.square(data), axis=1, keepdims=True))\n",
    "    data = model(n_components=2).fit_transform(data)\n",
    "    \n",
    "    fig = plt.figure()\n",
    "    plt.scatter(data[:, 0], data[:, 1], s=0.2)\n",
    "    for i in range(data.shape[0]):\n",
    "        plt.text(data[i, 0], data[i, 1], str(id2node[i]), fontproperties=font,)\n",
    "    #                  color=plt.cm.Set1(label[i] / 10.),\n",
    "#                      fontdict={'weight': 'bold', 'size': 10})\n",
    "    plt.savefig(file, dpi=400)\n",
    "    plt.show()"
   ]
  },
  {
   "cell_type": "code",
   "execution_count": 19,
   "metadata": {},
   "outputs": [
    {
     "data": {
      "image/png": "[encoded data removed]",
      "text/plain": [
       "<matplotlib.figure.Figure at 0x1a20290c50>"
      ]
     },
     "metadata": {},
     "output_type": "display_data"
    }
   ],
   "source": [
    "reduction_and_plot(PCA, deepwalk_embeddings, 'deepwalk.jpg')\n",
    "!open deepwalk.jpg"
   ]
  },
  {
   "cell_type": "code",
   "execution_count": 18,
   "metadata": {},
   "outputs": [
    {
     "data": {
      "image/png": "[encoded data removed]",
      "text/plain": [
       "<matplotlib.figure.Figure at 0x1a20389160>"
      ]
     },
     "metadata": {},
     "output_type": "display_data"
    }
   ],
   "source": [
    "reduction_and_plot(PCA, hin2vec_embeddings, 'hin2vec.jpg')\n",
    "!open hin2vec.jpg"
   ]
  },
  {
   "cell_type": "code",
   "execution_count": 20,
   "metadata": {},
   "outputs": [],
   "source": [
    "import pandas as pd"
   ]
  },
  {
   "cell_type": "code",
   "execution_count": 38,
   "metadata": {},
   "outputs": [],
   "source": [
    "data = pd.read_csv('/Users/chenhui/works/datasets/nfp/data0117.csv')\n",
    "data = data.loc[:, ['app', 'app_cat']]\n",
    "data.drop_duplicates(inplace=True)\n",
    "data.to_csv('../resources/app_cat.csv', index=False)"
   ]
  },
  {
   "cell_type": "code",
   "execution_count": 41,
   "metadata": {},
   "outputs": [
    {
     "data": {
      "image/png": "[encoded data removed]",
      "text/plain": [
       "<matplotlib.figure.Figure at 0x1a16915e10>"
      ]
     },
     "metadata": {},
     "output_type": "display_data"
    }
   ],
   "source": [
    "reduction_and_plot(hin2vec_embeddings, 'hin2vec.jpg')"
   ]
  },
  {
   "cell_type": "code",
   "execution_count": 42,
   "metadata": {
    "scrolled": true
   },
   "outputs": [
    {
     "data": {
      "text/plain": [
       "{'58同城': 38,\n",
       " 'Keep': 11,\n",
       " 'QQ': 0,\n",
       " 'QQ空间': 29,\n",
       " '一号店': 25,\n",
       " '中华万年历': 35,\n",
       " '中国国际航空': 53,\n",
       " '京东商城': 19,\n",
       " '今日头条': 8,\n",
       " '南方航空': 40,\n",
       " '卷皮': 48,\n",
       " '去哪儿旅行网': 32,\n",
       " '咕咚运动': 51,\n",
       " '墨迹天气': 23,\n",
       " '大众点评网': 9,\n",
       " '大智慧': 37,\n",
       " '太平洋汽车': 33,\n",
       " '宝宝树孕育': 28,\n",
       " '平安好医生': 31,\n",
       " '开心消消乐': 2,\n",
       " '微信': 1,\n",
       " '掌阅书城': 27,\n",
       " '探探': 47,\n",
       " '搜狗输入法': 12,\n",
       " '携程旅行': 20,\n",
       " '支付宝': 14,\n",
       " '新浪微博': 3,\n",
       " '易车': 45,\n",
       " '汽车之家': 5,\n",
       " '洋码头': 49,\n",
       " '海南航空': 52,\n",
       " '爱奇艺': 18,\n",
       " '百度云': 21,\n",
       " '百度地图': 7,\n",
       " '百度搜索': 4,\n",
       " '网易严选': 44,\n",
       " '网易云音乐': 10,\n",
       " '网易新闻': 15,\n",
       " '美柚': 43,\n",
       " '美颜相机': 26,\n",
       " '聚美优品': 22,\n",
       " '腾讯视频': 6,\n",
       " '苏宁': 17,\n",
       " '蘑菇街': 30,\n",
       " '贪吃蛇大作战': 24,\n",
       " '追书神器': 34,\n",
       " '酷狗音乐': 16,\n",
       " '金山WPS OFFICE手机版': 46,\n",
       " '钉钉': 42,\n",
       " '铁路12306': 39,\n",
       " '饿了么': 36,\n",
       " '驴妈妈': 41,\n",
       " '驾考宝典': 50,\n",
       " '高德地图': 13}"
      ]
     },
     "execution_count": 42,
     "metadata": {},
     "output_type": "execute_result"
    }
   ],
   "source": [
    "node2id"
   ]
  },
  {
   "cell_type": "code",
   "execution_count": 44,
   "metadata": {},
   "outputs": [
    {
     "data": {
      "text/plain": [
       "54"
      ]
     },
     "execution_count": 44,
     "metadata": {},
     "output_type": "execute_result"
    }
   ],
   "source": [
    "len(node2id)"
   ]
  },
  {
   "cell_type": "markdown",
   "metadata": {},
   "source": [
    "### 2. metapath聚类"
   ]
  },
  {
   "cell_type": "code",
   "execution_count": 2,
   "metadata": {},
   "outputs": [
    {
     "name": "stdout",
     "output_type": "stream",
     "text": [
      "metapath: 30, embedding_size: 128\n"
     ]
    }
   ],
   "source": [
    "metapath = []\n",
    "vectors = []\n",
    "with open('../network_embedding/embeddings_output/metapath_vectors.txt') as f:\n",
    "    for line in f:\n",
    "        splits = line.split()\n",
    "        if len(splits) == 2:\n",
    "            print('metapath: %s, embedding_size: %s' % (splits[0], splits[1]))\n",
    "            continue\n",
    "        metapath.append(splits[0])\n",
    "        vectors.append(list(map(float, splits[1:])))"
   ]
  },
  {
   "cell_type": "code",
   "execution_count": 31,
   "metadata": {},
   "outputs": [
    {
     "data": {
      "text/plain": [
       "array([4, 3, 0, 2, 4, 3, 0, 2, 1, 1, 1, 1, 1, 1, 1, 1, 1, 1, 1, 1, 1, 1, 1,\n",
       "       1, 1, 1, 1, 1, 1, 1], dtype=int32)"
      ]
     },
     "execution_count": 31,
     "metadata": {},
     "output_type": "execute_result"
    }
   ],
   "source": [
    "kmeans = KMeans(n_clusters=5).fit(vectors)\n",
    "kmeans.labels_"
   ]
  },
  {
   "cell_type": "code",
   "execution_count": 10,
   "metadata": {},
   "outputs": [
    {
     "data": {
      "text/plain": [
       "['U-A',\n",
       " 'A-U',\n",
       " 'A-U,U-A',\n",
       " 'U-A,A-U',\n",
       " 'U-A,A-U,U-A',\n",
       " 'A-U,U-A,A-U',\n",
       " 'A-U,U-A,A-U,U-A',\n",
       " 'U-A,A-U,U-A,A-U',\n",
       " 'C-A',\n",
       " 'C-A,A-U',\n",
       " 'C-A,A-U,U-A',\n",
       " 'A-C',\n",
       " 'A-C,C-A',\n",
       " 'C-A,A-U,U-A,A-U',\n",
       " 'U-A,A-C',\n",
       " 'U-A,A-C,C-A',\n",
       " 'A-U,U-A,A-C',\n",
       " 'A-U,U-A,A-C,C-A',\n",
       " 'A-C,C-A,A-U',\n",
       " 'A-C,C-A,A-U,U-A',\n",
       " 'U-A,A-U,U-A,A-C',\n",
       " 'U-A,A-C,C-A,A-U',\n",
       " 'C-A,A-C',\n",
       " 'C-A,A-C,C-A',\n",
       " 'A-C,C-A,A-C',\n",
       " 'A-C,C-A,A-C,C-A',\n",
       " 'C-A,A-C,C-A,A-U',\n",
       " 'U-A,A-C,C-A,A-C',\n",
       " 'C-A,A-U,U-A,A-C',\n",
       " 'C-A,A-C,C-A,A-C']"
      ]
     },
     "execution_count": 10,
     "metadata": {},
     "output_type": "execute_result"
    }
   ],
   "source": [
    "metapath"
   ]
  },
  {
   "cell_type": "code",
   "execution_count": 23,
   "metadata": {},
   "outputs": [
    {
     "data": {
      "text/plain": [
       "array([-1, -1,  0, -1, -1, -1,  0, -1,  1,  2,  1, -1,  2,  2,  3,  3, -1,\n",
       "        2,  2,  2,  3,  3,  2,  2,  2,  2,  2,  2,  2,  2])"
      ]
     },
     "execution_count": 23,
     "metadata": {},
     "output_type": "execute_result"
    }
   ],
   "source": [
    "cluster = DBSCAN(eps=3, min_samples=2).fit(vectors)\n",
    "cluster.labels_"
   ]
  },
  {
   "cell_type": "code",
   "execution_count": 28,
   "metadata": {
    "collapsed": true
   },
   "outputs": [],
   "source": [
    "def match(paths, labels):\n",
    "    d = {}\n",
    "    for i in range(len(paths)):\n",
    "        path = paths[i]\n",
    "        label = labels[i]\n",
    "        if label not in d:\n",
    "            d[label] = []\n",
    "        d[label].append(path)\n",
    "    for k, v in d.items():\n",
    "        print(k, ':', v)"
   ]
  },
  {
   "cell_type": "code",
   "execution_count": 29,
   "metadata": {},
   "outputs": [
    {
     "name": "stdout",
     "output_type": "stream",
     "text": [
      "-1 : ['U-A', 'A-U', 'U-A,A-U', 'U-A,A-U,U-A', 'A-U,U-A,A-U', 'U-A,A-U,U-A,A-U', 'A-C', 'A-U,U-A,A-C']\n",
      "0 : ['A-U,U-A', 'A-U,U-A,A-U,U-A']\n",
      "1 : ['C-A', 'C-A,A-U,U-A']\n",
      "2 : ['C-A,A-U', 'A-C,C-A', 'C-A,A-U,U-A,A-U', 'A-U,U-A,A-C,C-A', 'A-C,C-A,A-U', 'A-C,C-A,A-U,U-A', 'C-A,A-C', 'C-A,A-C,C-A', 'A-C,C-A,A-C', 'A-C,C-A,A-C,C-A', 'C-A,A-C,C-A,A-U', 'U-A,A-C,C-A,A-C', 'C-A,A-U,U-A,A-C', 'C-A,A-C,C-A,A-C']\n",
      "3 : ['U-A,A-C', 'U-A,A-C,C-A', 'U-A,A-U,U-A,A-C', 'U-A,A-C,C-A,A-U']\n"
     ]
    }
   ],
   "source": [
    "match(metapath, cluster.labels_)"
   ]
  },
  {
   "cell_type": "code",
   "execution_count": 32,
   "metadata": {},
   "outputs": [
    {
     "name": "stdout",
     "output_type": "stream",
     "text": [
      "4 : ['U-A', 'U-A,A-U,U-A']\n",
      "3 : ['A-U', 'A-U,U-A,A-U']\n",
      "0 : ['A-U,U-A', 'A-U,U-A,A-U,U-A']\n",
      "2 : ['U-A,A-U', 'U-A,A-U,U-A,A-U']\n",
      "1 : ['C-A', 'C-A,A-U', 'C-A,A-U,U-A', 'A-C', 'A-C,C-A', 'C-A,A-U,U-A,A-U', 'U-A,A-C', 'U-A,A-C,C-A', 'A-U,U-A,A-C', 'A-U,U-A,A-C,C-A', 'A-C,C-A,A-U', 'A-C,C-A,A-U,U-A', 'U-A,A-U,U-A,A-C', 'U-A,A-C,C-A,A-U', 'C-A,A-C', 'C-A,A-C,C-A', 'A-C,C-A,A-C', 'A-C,C-A,A-C,C-A', 'C-A,A-C,C-A,A-U', 'U-A,A-C,C-A,A-C', 'C-A,A-U,U-A,A-C', 'C-A,A-C,C-A,A-C']\n"
     ]
    }
   ],
   "source": [
    "match(metapath, kmeans.labels_)"
   ]
  },
  {
   "cell_type": "code",
   "execution_count": null,
   "metadata": {
    "collapsed": true
   },
   "outputs": [],
   "source": []
  }
 ],
 "metadata": {
  "kernelspec": {
   "display_name": "Python 3",
   "language": "python",
   "name": "python3"
  },
  "language_info": {
   "codemirror_mode": {
    "name": "ipython",
    "version": 3
   },
   "file_extension": ".py",
   "mimetype": "text/x-python",
   "name": "python",
   "nbconvert_exporter": "python",
   "pygments_lexer": "ipython3",
   "version": "3.6.2"
  }
 },
 "nbformat": 4,
 "nbformat_minor": 2
}
