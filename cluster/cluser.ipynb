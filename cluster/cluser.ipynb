{
 "cells": [
  {
   "cell_type": "code",
   "execution_count": 15,
   "metadata": {
    "collapsed": true
   },
   "outputs": [],
   "source": [
    "import numpy as np\n",
    "import pandas as pd\n",
    "from sklearn.cluster import KMeans, DBSCAN"
   ]
  },
  {
   "cell_type": "code",
   "execution_count": 2,
   "metadata": {},
   "outputs": [
    {
     "name": "stdout",
     "output_type": "stream",
     "text": [
      "metapath: 30, embedding_size: 128\n"
     ]
    }
   ],
   "source": [
    "metapath = []\n",
    "vectors = []\n",
    "with open('../network_embedding/embeddings_output/metapath_vectors.txt') as f:\n",
    "    for line in f:\n",
    "        splits = line.split()\n",
    "        if len(splits) == 2:\n",
    "            print('metapath: %s, embedding_size: %s' % (splits[0], splits[1]))\n",
    "            continue\n",
    "        metapath.append(splits[0])\n",
    "        vectors.append(list(map(float, splits[1:])))"
   ]
  },
  {
   "cell_type": "code",
   "execution_count": 31,
   "metadata": {},
   "outputs": [
    {
     "data": {
      "text/plain": [
       "array([4, 3, 0, 2, 4, 3, 0, 2, 1, 1, 1, 1, 1, 1, 1, 1, 1, 1, 1, 1, 1, 1, 1,\n",
       "       1, 1, 1, 1, 1, 1, 1], dtype=int32)"
      ]
     },
     "execution_count": 31,
     "metadata": {},
     "output_type": "execute_result"
    }
   ],
   "source": [
    "kmeans = KMeans(n_clusters=5).fit(vectors)\n",
    "kmeans.labels_"
   ]
  },
  {
   "cell_type": "code",
   "execution_count": 10,
   "metadata": {},
   "outputs": [
    {
     "data": {
      "text/plain": [
       "['U-A',\n",
       " 'A-U',\n",
       " 'A-U,U-A',\n",
       " 'U-A,A-U',\n",
       " 'U-A,A-U,U-A',\n",
       " 'A-U,U-A,A-U',\n",
       " 'A-U,U-A,A-U,U-A',\n",
       " 'U-A,A-U,U-A,A-U',\n",
       " 'C-A',\n",
       " 'C-A,A-U',\n",
       " 'C-A,A-U,U-A',\n",
       " 'A-C',\n",
       " 'A-C,C-A',\n",
       " 'C-A,A-U,U-A,A-U',\n",
       " 'U-A,A-C',\n",
       " 'U-A,A-C,C-A',\n",
       " 'A-U,U-A,A-C',\n",
       " 'A-U,U-A,A-C,C-A',\n",
       " 'A-C,C-A,A-U',\n",
       " 'A-C,C-A,A-U,U-A',\n",
       " 'U-A,A-U,U-A,A-C',\n",
       " 'U-A,A-C,C-A,A-U',\n",
       " 'C-A,A-C',\n",
       " 'C-A,A-C,C-A',\n",
       " 'A-C,C-A,A-C',\n",
       " 'A-C,C-A,A-C,C-A',\n",
       " 'C-A,A-C,C-A,A-U',\n",
       " 'U-A,A-C,C-A,A-C',\n",
       " 'C-A,A-U,U-A,A-C',\n",
       " 'C-A,A-C,C-A,A-C']"
      ]
     },
     "execution_count": 10,
     "metadata": {},
     "output_type": "execute_result"
    }
   ],
   "source": [
    "metapath"
   ]
  },
  {
   "cell_type": "code",
   "execution_count": 23,
   "metadata": {},
   "outputs": [
    {
     "data": {
      "text/plain": [
       "array([-1, -1,  0, -1, -1, -1,  0, -1,  1,  2,  1, -1,  2,  2,  3,  3, -1,\n",
       "        2,  2,  2,  3,  3,  2,  2,  2,  2,  2,  2,  2,  2])"
      ]
     },
     "execution_count": 23,
     "metadata": {},
     "output_type": "execute_result"
    }
   ],
   "source": [
    "cluster = DBSCAN(eps=3, min_samples=2).fit(vectors)\n",
    "cluster.labels_"
   ]
  },
  {
   "cell_type": "code",
   "execution_count": 28,
   "metadata": {
    "collapsed": true
   },
   "outputs": [],
   "source": [
    "def match(paths, labels):\n",
    "    d = {}\n",
    "    for i in range(len(paths)):\n",
    "        path = paths[i]\n",
    "        label = labels[i]\n",
    "        if label not in d:\n",
    "            d[label] = []\n",
    "        d[label].append(path)\n",
    "    for k, v in d.items():\n",
    "        print(k, ':', v)"
   ]
  },
  {
   "cell_type": "code",
   "execution_count": 29,
   "metadata": {},
   "outputs": [
    {
     "name": "stdout",
     "output_type": "stream",
     "text": [
      "-1 : ['U-A', 'A-U', 'U-A,A-U', 'U-A,A-U,U-A', 'A-U,U-A,A-U', 'U-A,A-U,U-A,A-U', 'A-C', 'A-U,U-A,A-C']\n",
      "0 : ['A-U,U-A', 'A-U,U-A,A-U,U-A']\n",
      "1 : ['C-A', 'C-A,A-U,U-A']\n",
      "2 : ['C-A,A-U', 'A-C,C-A', 'C-A,A-U,U-A,A-U', 'A-U,U-A,A-C,C-A', 'A-C,C-A,A-U', 'A-C,C-A,A-U,U-A', 'C-A,A-C', 'C-A,A-C,C-A', 'A-C,C-A,A-C', 'A-C,C-A,A-C,C-A', 'C-A,A-C,C-A,A-U', 'U-A,A-C,C-A,A-C', 'C-A,A-U,U-A,A-C', 'C-A,A-C,C-A,A-C']\n",
      "3 : ['U-A,A-C', 'U-A,A-C,C-A', 'U-A,A-U,U-A,A-C', 'U-A,A-C,C-A,A-U']\n"
     ]
    }
   ],
   "source": [
    "match(metapath, cluster.labels_)"
   ]
  },
  {
   "cell_type": "code",
   "execution_count": 32,
   "metadata": {},
   "outputs": [
    {
     "name": "stdout",
     "output_type": "stream",
     "text": [
      "4 : ['U-A', 'U-A,A-U,U-A']\n",
      "3 : ['A-U', 'A-U,U-A,A-U']\n",
      "0 : ['A-U,U-A', 'A-U,U-A,A-U,U-A']\n",
      "2 : ['U-A,A-U', 'U-A,A-U,U-A,A-U']\n",
      "1 : ['C-A', 'C-A,A-U', 'C-A,A-U,U-A', 'A-C', 'A-C,C-A', 'C-A,A-U,U-A,A-U', 'U-A,A-C', 'U-A,A-C,C-A', 'A-U,U-A,A-C', 'A-U,U-A,A-C,C-A', 'A-C,C-A,A-U', 'A-C,C-A,A-U,U-A', 'U-A,A-U,U-A,A-C', 'U-A,A-C,C-A,A-U', 'C-A,A-C', 'C-A,A-C,C-A', 'A-C,C-A,A-C', 'A-C,C-A,A-C,C-A', 'C-A,A-C,C-A,A-U', 'U-A,A-C,C-A,A-C', 'C-A,A-U,U-A,A-C', 'C-A,A-C,C-A,A-C']\n"
     ]
    }
   ],
   "source": [
    "match(metapath, kmeans.labels_)"
   ]
  },
  {
   "cell_type": "code",
   "execution_count": null,
   "metadata": {
    "collapsed": true
   },
   "outputs": [],
   "source": []
  }
 ],
 "metadata": {
  "kernelspec": {
   "display_name": "Python 3",
   "language": "python",
   "name": "python3"
  },
  "language_info": {
   "codemirror_mode": {
    "name": "ipython",
    "version": 3
   },
   "file_extension": ".py",
   "mimetype": "text/x-python",
   "name": "python",
   "nbconvert_exporter": "python",
   "pygments_lexer": "ipython3",
   "version": "3.6.2"
  }
 },
 "nbformat": 4,
 "nbformat_minor": 2
}
