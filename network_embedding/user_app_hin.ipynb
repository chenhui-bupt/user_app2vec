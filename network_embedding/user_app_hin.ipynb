{
 "cells": [
  {
   "cell_type": "code",
   "execution_count": 1,
   "metadata": {
    "collapsed": true
   },
   "outputs": [],
   "source": [
    "import os\n",
    "import numpy as np\n",
    "import pandas as pd"
   ]
  },
  {
   "cell_type": "code",
   "execution_count": 2,
   "metadata": {
    "collapsed": true
   },
   "outputs": [],
   "source": [
    "user_app_usage_dir = \"../datasets/nfp\"\n",
    "usage_files = [\"data0117\", \"data0118\", \"data0119\", \"data0120\"]"
   ]
  },
  {
   "cell_type": "code",
   "execution_count": null,
   "metadata": {
    "collapsed": true
   },
   "outputs": [],
   "source": [
    "for usage_file in usage_files:\n",
    "    "
   ]
  },
  {
   "cell_type": "code",
   "execution_count": 4,
   "metadata": {
    "collapsed": true
   },
   "outputs": [],
   "source": [
    "usage_file = usage_files[0]\n",
    "usage_file = os.path.join(use_app_usage_dir, usage_file)\n",
    "usage_rdd = sc.textFile(usage_file).map(lambda x: x.split(\"|\"))"
   ]
  },
  {
   "cell_type": "code",
   "execution_count": 5,
   "metadata": {},
   "outputs": [
    {
     "data": {
      "text/plain": [
       "[['C966BB7B4BB196602D1054B27E6F9BAE', '10', 'QQ', '通讯聊天', '15'],\n",
       " ['C2827EBF2B61C4FB71C164F3D13BE312', '08', '微信', '通讯聊天', '1']]"
      ]
     },
     "execution_count": 5,
     "metadata": {},
     "output_type": "execute_result"
    }
   ],
   "source": [
    "usage_rdd.take(2)"
   ]
  },
  {
   "cell_type": "code",
   "execution_count": 7,
   "metadata": {},
   "outputs": [
    {
     "data": {
      "text/plain": [
       "['F81A9E1BCC2FF6820539952284E9C7A9',\n",
       " 'CCFE57083CDFA91B004B9A3D29B73BC9',\n",
       " 'F4C1BEEC4CE2B7EC2D777A5CA37C43C4',\n",
       " 'E8CB243E1BBD76A67135F55AACA55988',\n",
       " 'D331E6A2E9612B9E9C25A4AB3BE97D03',\n",
       " 'FB74078F8F4712E2C42511E6B372BBCC',\n",
       " 'BADCB092B4D0270B3D2158E7C5813BF3',\n",
       " 'DA0FD8D737C7AFF9EE8AC719516DF8FC',\n",
       " 'F0FE0624300C97997DFBE5442D46AFB5',\n",
       " 'BE071ACC144EADAC2931254180C8539D']"
      ]
     },
     "execution_count": 7,
     "metadata": {},
     "output_type": "execute_result"
    }
   ],
   "source": [
    "userlist = usage_rdd.map(lambda x: x[0]).distinct().collect()\n",
    "userlist[:10]"
   ]
  },
  {
   "cell_type": "code",
   "execution_count": 8,
   "metadata": {},
   "outputs": [
    {
     "data": {
      "text/plain": [
       "25413"
      ]
     },
     "execution_count": 8,
     "metadata": {},
     "output_type": "execute_result"
    }
   ],
   "source": [
    "len(userlist)"
   ]
  },
  {
   "cell_type": "markdown",
   "metadata": {},
   "source": [
    "### 2. user2id, app2id, cat2id and user_apps, app_cats, user_cats, and so on"
   ]
  },
  {
   "cell_type": "code",
   "execution_count": 9,
   "metadata": {},
   "outputs": [
    {
     "data": {
      "text/plain": [
       "(55, 19)"
      ]
     },
     "execution_count": 9,
     "metadata": {},
     "output_type": "execute_result"
    }
   ],
   "source": [
    "applist = usage_rdd.map(lambda x: x[2]).distinct().collect()\n",
    "catlist = usage_rdd.map(lambda x: x[3]).distinct().collect()\n",
    "len(applist), len(catlist)"
   ]
  },
  {
   "cell_type": "code",
   "execution_count": 10,
   "metadata": {
    "collapsed": true
   },
   "outputs": [],
   "source": [
    "userlist.sort()\n",
    "applist.sort()\n",
    "catlist.sort()\n",
    "# id2user = dict(zip(range(len(userlist)), userlist))\n",
    "# user2id = dict(zip(userlist, range(len(userlist))))"
   ]
  },
  {
   "cell_type": "code",
   "execution_count": 12,
   "metadata": {
    "collapsed": true
   },
   "outputs": [],
   "source": [
    "id2user_file = os.path.join(use_app_usage_dir, \"id2user.txt\")\n",
    "with open(id2user_file, 'w') as f:\n",
    "    for i, user in enumerate(userlist):\n",
    "        outline = \"%s %s\\n\" % (i, user)\n",
    "        f.write(outline)\n",
    "\n",
    "user2id_file = os.path.join(use_app_usage_dir, \"user2id.txt\")\n",
    "with open(user2id_file, 'w') as f:\n",
    "    for i, user in enumerate(userlist):\n",
    "        outline = \"%s %s\\n\" % (user, i)\n",
    "        f.write(outline)\n",
    "\n",
    "id2app_file = os.path.join(use_app_usage_dir, \"id2app.txt\")\n",
    "with open(id2app_file, 'w') as f:\n",
    "    for i, app in enumerate(applist):\n",
    "        outline = \"%s %s\\n\" % (i, app)\n",
    "        f.write(outline)\n",
    "        \n",
    "app2id_file = os.path.join(use_app_usage_dir, \"app2id.txt\")\n",
    "with open(app2id_file, 'w') as f:\n",
    "    for i, app in enumerate(applist):\n",
    "        outline = \"%s %s\\n\" % (app, i)\n",
    "        f.write(outline)\n",
    "        \n",
    "id2cat_file = os.path.join(use_app_usage_dir, \"id2cat.txt\")\n",
    "with open(id2cat_file, 'w') as f:\n",
    "    for i, cat in enumerate(catlist):\n",
    "        outline = \"%s %s\\n\" % (i, cat)\n",
    "        f.write(outline)\n",
    "\n",
    "cat2id_file = os.path.join(use_app_usage_dir, \"cat2id.txt\")\n",
    "with open(cat2id_file, 'w') as f:\n",
    "    for i, cat in enumerate(catlist):\n",
    "        outline = \"%s %s\\n\" % (cat, i)\n",
    "        f.write(outline)"
   ]
  },
  {
   "cell_type": "code",
   "execution_count": 19,
   "metadata": {
    "collapsed": true
   },
   "outputs": [],
   "source": [
    "user2id = dict(zip(userlist, range(len(userlist))))\n",
    "app2id = dict(zip(applist, range(len(applist))))\n",
    "cat2id = dict(zip(catlist, range(len(catlist))))"
   ]
  },
  {
   "cell_type": "code",
   "execution_count": 23,
   "metadata": {},
   "outputs": [
    {
     "name": "stdout",
     "output_type": "stream",
     "text": [
      "1\n"
     ]
    }
   ],
   "source": [
    "print(1)"
   ]
  },
  {
   "cell_type": "code",
   "execution_count": 25,
   "metadata": {
    "collapsed": true
   },
   "outputs": [],
   "source": [
    "outpath = os.path.join(use_app_usage_dir, \"data0117usage\")\n",
    "usage_rdd.map(lambda x: \"%s %s\"%(user2id[x[0]], app2id[x[2]])).distinct().repartition(1).saveAsTextFile(outpath)"
   ]
  },
  {
   "cell_type": "code",
   "execution_count": 15,
   "metadata": {},
   "outputs": [
    {
     "data": {
      "text/plain": [
       "['C966BB7B4BB196602D1054B27E6F9BAE', '10', 'QQ', '通讯聊天', '15']"
      ]
     },
     "execution_count": 15,
     "metadata": {},
     "output_type": "execute_result"
    }
   ],
   "source": [
    "usage_rdd.first()"
   ]
  },
  {
   "cell_type": "code",
   "execution_count": 26,
   "metadata": {
    "collapsed": true
   },
   "outputs": [],
   "source": [
    "app_cat_file = os.path.join(user_app_usage_dir, \"user_app_hin/app_cat\")\n",
    "usage_rdd.map(lambda x: \"%s %s\"%(app2id[x[2]], cat2id[x[3]])).distinct().repartition(1).saveAsTextFile(app_cat_file)"
   ]
  },
  {
   "cell_type": "markdown",
   "metadata": {},
   "source": [
    "### 3. node type"
   ]
  },
  {
   "cell_type": "code",
   "execution_count": 25,
   "metadata": {},
   "outputs": [],
   "source": [
    "fu = open(os.path.join(user_app_usage_dir, \"user_app_hin/user2id.txt\"))\n",
    "fa = open(os.path.join(user_app_usage_dir, \"user_app_hin/app2id.txt\"))\n",
    "fc = open(os.path.join(user_app_usage_dir, \"user_app_hin/cat2id.txt\"))\n",
    "f = open(os.path.join(user_app_usage_dir, \"user_app_hin/nodetype.txt\"), \"w\")"
   ]
  },
  {
   "cell_type": "code",
   "execution_count": 26,
   "metadata": {},
   "outputs": [],
   "source": [
    "usertype = list(map(lambda x: x.strip().split(maxsplit=1)[1] + \" \" + \"user\", fu)) # for users, we use userid, not name\n",
    "apptype = list(map(lambda x: x.strip().split(maxsplit=1)[0] + \" \" + \"app\", fa))\n",
    "cattype = list(map(lambda x: x.strip().split(maxsplit=1)[0] + \" \" + \"cat\", fc))"
   ]
  },
  {
   "cell_type": "code",
   "execution_count": 27,
   "metadata": {},
   "outputs": [],
   "source": [
    "f.write(\"\\n\".join(usertype + apptype + cattype))\n",
    "f.close()\n",
    "fu.close()\n",
    "fa.close()\n",
    "fc.close()"
   ]
  },
  {
   "cell_type": "code",
   "execution_count": 16,
   "metadata": {},
   "outputs": [
    {
     "data": {
      "text/plain": [
       "list"
      ]
     },
     "execution_count": 16,
     "metadata": {},
     "output_type": "execute_result"
    }
   ],
   "source": [
    "type(fa.readlines())"
   ]
  },
  {
   "cell_type": "code",
   "execution_count": 17,
   "metadata": {},
   "outputs": [
    {
     "data": {
      "text/plain": [
       "_io.TextIOWrapper"
      ]
     },
     "execution_count": 17,
     "metadata": {},
     "output_type": "execute_result"
    }
   ],
   "source": [
    "type(fu)"
   ]
  },
  {
   "cell_type": "code",
   "execution_count": null,
   "metadata": {
    "collapsed": true
   },
   "outputs": [],
   "source": []
  }
 ],
 "metadata": {
  "kernelspec": {
   "display_name": "Python 3",
   "language": "python",
   "name": "python3"
  },
  "language_info": {
   "codemirror_mode": {
    "name": "ipython",
    "version": 3
   },
   "file_extension": ".py",
   "mimetype": "text/x-python",
   "name": "python",
   "nbconvert_exporter": "python",
   "pygments_lexer": "ipython3",
   "version": "3.6.2"
  }
 },
 "nbformat": 4,
 "nbformat_minor": 2
}
