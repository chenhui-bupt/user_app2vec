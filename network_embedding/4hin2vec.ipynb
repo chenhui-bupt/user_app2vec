{
 "cells": [
  {
   "cell_type": "code",
   "execution_count": 4,
   "metadata": {
    "collapsed": true
   },
   "outputs": [],
   "source": [
    "import os\n",
    "import numpy as np\n",
    "import pandas as pd"
   ]
  },
  {
   "cell_type": "markdown",
   "metadata": {},
   "source": [
    "---\n",
    "1. 预处理\n",
    "---\n",
    "'柚宝宝孕育'App数据有问题，应该删掉\n",
    "\n",
    "---"
   ]
  },
  {
   "cell_type": "code",
   "execution_count": 10,
   "metadata": {
    "collapsed": true
   },
   "outputs": [],
   "source": [
    "usage_file = '../resources/data0117'"
   ]
  },
  {
   "cell_type": "code",
   "execution_count": 17,
   "metadata": {
    "collapsed": true
   },
   "outputs": [],
   "source": [
    "usage_rdd = sc.textFile(usage_file).map(lambda x: x.split(\"|\"))\n",
    "usage_rdd = usage_rdd.filter(lambda x: x[2] != '柚宝宝孕育')"
   ]
  },
  {
   "cell_type": "code",
   "execution_count": 18,
   "metadata": {},
   "outputs": [
    {
     "data": {
      "text/plain": [
       "[['C966BB7B4BB196602D1054B27E6F9BAE', '10', 'QQ', '通讯聊天', '15'],\n",
       " ['C2827EBF2B61C4FB71C164F3D13BE312', '08', '微信', '通讯聊天', '1'],\n",
       " ['F819FE792867382C9C8BD39BA7837746', '21', 'QQ', '通讯聊天', '4'],\n",
       " ['DA549AD85F2DD7E87126416CCA4C44B4', '18', '微信', '通讯聊天', '3'],\n",
       " ['F81A9E1BCC2FF6820539952284E9C7A9', '12', '开心消消乐', '游戏服务', '1']]"
      ]
     },
     "execution_count": 18,
     "metadata": {},
     "output_type": "execute_result"
    }
   ],
   "source": [
    "usage_rdd.take(5)"
   ]
  },
  {
   "cell_type": "code",
   "execution_count": 19,
   "metadata": {},
   "outputs": [
    {
     "data": {
      "text/plain": [
       "949908"
      ]
     },
     "execution_count": 19,
     "metadata": {},
     "output_type": "execute_result"
    }
   ],
   "source": [
    "usage_rdd.count()"
   ]
  },
  {
   "cell_type": "markdown",
   "metadata": {},
   "source": [
    "### 构建索引，对特征进行有序编码"
   ]
  },
  {
   "cell_type": "code",
   "execution_count": 21,
   "metadata": {},
   "outputs": [
    {
     "data": {
      "text/plain": [
       "(25413, 54, 19)"
      ]
     },
     "execution_count": 21,
     "metadata": {},
     "output_type": "execute_result"
    }
   ],
   "source": [
    "userlist = usage_rdd.map(lambda x: x[0]).distinct().collect()\n",
    "applist = usage_rdd.map(lambda x: x[2]).distinct().collect()\n",
    "catlist = usage_rdd.map(lambda x: x[3]).distinct().collect()\n",
    "userlist.sort()\n",
    "applist.sort()\n",
    "catlist.sort()\n",
    "len(userlist), len(applist), len(catlist)"
   ]
  },
  {
   "cell_type": "code",
   "execution_count": 22,
   "metadata": {
    "collapsed": true
   },
   "outputs": [],
   "source": [
    "nodelist = userlist + applist + catlist\n",
    "node2id = dict(zip(nodelist, range(len(nodelist))))\n",
    "# 序列化保存编码\n",
    "import pickle\n",
    "pickle.dump(node2id, open('../resources/node2id.pkl', 'wb'))"
   ]
  },
  {
   "cell_type": "code",
   "execution_count": 36,
   "metadata": {
    "collapsed": true
   },
   "outputs": [],
   "source": [
    "rdd = usage_rdd.map(lambda x: (node2id[x[0]], x[2], x[3])).distinct()  # userid, app, cat\n",
    "user_app = rdd.map(lambda x: '%s\\tU\\t%s\\tA\\tU-A' % (x[0], x[1])).distinct()\n",
    "app_user = rdd.map(lambda x: '%s\\tA\\t%s\\tU\\tA-U' % (x[1], x[0])).distinct()\n",
    "app_cat = rdd.map(lambda x: '%s\\tA\\t%s\\tC\\tA-C' % (x[1], x[2])).distinct()\n",
    "cat_app = rdd.map(lambda x: '%s\\tC\\t%s\\tA\\tC-A' % (x[2], x[1])).distinct()"
   ]
  },
  {
   "cell_type": "code",
   "execution_count": 37,
   "metadata": {},
   "outputs": [
    {
     "data": {
      "text/plain": [
       "(13368, '微信', '通讯聊天')"
      ]
     },
     "execution_count": 37,
     "metadata": {},
     "output_type": "execute_result"
    }
   ],
   "source": [
    "rdd.first()"
   ]
  },
  {
   "cell_type": "code",
   "execution_count": 45,
   "metadata": {},
   "outputs": [
    {
     "name": "stdout",
     "output_type": "stream",
     "text": [
      "24544\tU\t支付宝\tA\tU-A\n",
      "开心消消乐\tA\t6288\tU\tA-U\n",
      "微信\tA\t通讯聊天\tC\tA-C\n",
      "通讯聊天\tC\t微信\tA\tC-A\n",
      "192963 192963 54 54\n"
     ]
    }
   ],
   "source": [
    "print(user_app.first())\n",
    "print(app_user.first())\n",
    "print(app_cat.first())\n",
    "print(cat_app.first())\n",
    "print(user_app.count(), app_user.count(), app_cat.count(), cat_app.count())"
   ]
  },
  {
   "cell_type": "code",
   "execution_count": 46,
   "metadata": {},
   "outputs": [
    {
     "name": "stdout",
     "output_type": "stream",
     "text": [
      "386034\n"
     ]
    }
   ],
   "source": [
    "out = user_app.union(app_user)\n",
    "out = out.union(app_cat)\n",
    "out = out.union(cat_app)\n",
    "print(out.count())\n",
    "out.repartition(1).saveAsTextFile('./graph_resources/edges4hin2vec')"
   ]
  },
  {
   "cell_type": "code",
   "execution_count": 47,
   "metadata": {},
   "outputs": [
    {
     "data": {
      "text/plain": [
       "386034"
      ]
     },
     "execution_count": 47,
     "metadata": {},
     "output_type": "execute_result"
    }
   ],
   "source": [
    "(192963 +54)*2"
   ]
  },
  {
   "cell_type": "code",
   "execution_count": 48,
   "metadata": {},
   "outputs": [
    {
     "data": {
      "text/plain": [
       "0"
      ]
     },
     "execution_count": 48,
     "metadata": {},
     "output_type": "execute_result"
    }
   ],
   "source": [
    "# rename of edges4hin2vec/part-00000\n",
    "os.system('mv graph_resources/edges4hin2vec/part-00000 graph_resources/edges4hin2vec.txt')"
   ]
  },
  {
   "cell_type": "code",
   "execution_count": null,
   "metadata": {
    "collapsed": true
   },
   "outputs": [],
   "source": []
  }
 ],
 "metadata": {
  "kernelspec": {
   "display_name": "Python 3",
   "language": "python",
   "name": "python3"
  },
  "language_info": {
   "codemirror_mode": {
    "name": "ipython",
    "version": 3
   },
   "file_extension": ".py",
   "mimetype": "text/x-python",
   "name": "python",
   "nbconvert_exporter": "python",
   "pygments_lexer": "ipython3",
   "version": "3.6.2"
  }
 },
 "nbformat": 4,
 "nbformat_minor": 2
}
